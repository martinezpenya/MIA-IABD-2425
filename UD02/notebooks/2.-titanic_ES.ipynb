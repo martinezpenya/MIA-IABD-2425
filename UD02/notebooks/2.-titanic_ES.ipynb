{
 "cells": [
  {
   "cell_type": "markdown",
   "id": "34e40f04473a10fa",
   "metadata": {
    "collapsed": false
   },
   "source": [
    "# ¿Quién sobrevivió al Titanic?\n",
    "\n",
    "En este ejercicio, utilizaremos los datos Titanic para predecir si un pasajero sobrevivió o no al naufragio.\n",
    "Veremos diferentes formas de hacerlo; con varios grados de automatismo."
   ]
  },
  {
   "cell_type": "markdown",
   "id": "ec69289f113fc6a9",
   "metadata": {
    "collapsed": false
   },
   "source": [
    "## Human Learn\n",
    "\n",
    "Human Learn es una librería que nos permite combinar el aprendizaje automático con el conocimiento humano de una manera simple."
   ]
  },
  {
   "cell_type": "code",
   "execution_count": null,
   "id": "64bef4a435fdd146",
   "metadata": {
    "ExecuteTime": {
     "end_time": "2024-01-08T15:17:49.199438Z",
     "start_time": "2024-01-08T15:17:49.071191Z"
    },
    "collapsed": false
   },
   "outputs": [],
   "source": [
    "# Cargamos las librerías y los datos"
   ]
  },
  {
   "cell_type": "code",
   "execution_count": null,
   "id": "614e3f256ed002c5",
   "metadata": {
    "ExecuteTime": {
     "end_time": "2024-01-08T15:18:03.913737Z",
     "start_time": "2024-01-08T15:17:49.214884Z"
    },
    "collapsed": false
   },
   "outputs": [],
   "source": [
    "# Instalamos la librería\n",
    "%pip install git+https://github.com/koaning/human-learn.git"
   ]
  },
  {
   "cell_type": "code",
   "execution_count": null,
   "id": "2dac3db4d659ca1f",
   "metadata": {
    "ExecuteTime": {
     "end_time": "2024-01-08T15:18:05.182641Z",
     "start_time": "2024-01-08T15:18:03.922465Z"
    },
    "collapsed": false
   },
   "outputs": [],
   "source": [
    "# Cargamos el Dataset\n",
    "from hulearn.datasets import load_titanic"
   ]
  },
  {
   "cell_type": "code",
   "execution_count": null,
   "id": "5bd4f161fba434c",
   "metadata": {
    "ExecuteTime": {
     "end_time": "2024-01-08T15:18:05.249102Z",
     "start_time": "2024-01-08T15:18:05.190452Z"
    },
    "collapsed": false
   },
   "outputs": [],
   "source": [
    "df = load_titanic(as_frame=True)\n",
    "df"
   ]
  },
  {
   "cell_type": "code",
   "execution_count": null,
   "id": "66db6720acc24205",
   "metadata": {
    "ExecuteTime": {
     "end_time": "2024-01-08T15:18:07.349465Z",
     "start_time": "2024-01-08T15:18:05.250047Z"
    },
    "collapsed": false
   },
   "outputs": [],
   "source": [
    "from sklearn.model_selection import train_test_split\n",
    "\n",
    "# Preparamos los datos: separamos las variables explicativas de la variable de destino y creamos los conjuntos de entrenamiento y test\n",
    "X_train, X_test, y_train, y_test = train_test_split(\n",
    "    df.drop(['name', 'survived'], axis=1), df['survived'], test_size=0.25, random_state=42)"
   ]
  },
  {
   "cell_type": "markdown",
   "id": "1f1dbffad43c9454",
   "metadata": {
    "collapsed": false
   },
   "source": [
    "### Clasificación con una función\n",
    "\n",
    "En este primer ejemplo, utilizaremos una función para clasificar a los pasajeros. Es una función muy simple que clasifica a los pasajeros en función del precio del billete. El enfoque es que los pasajeros que más pagaban tenían más probabilidades de sobrevivir."
   ]
  },
  {
   "cell_type": "code",
   "execution_count": null,
   "id": "c093e50ea67fe78d",
   "metadata": {
    "ExecuteTime": {
     "end_time": "2024-01-08T15:18:07.421935Z",
     "start_time": "2024-01-08T15:18:07.352723Z"
    },
    "collapsed": false
   },
   "outputs": [],
   "source": [
    "# FunctionClassifier nos permite crear un clasificador a partir de una función\n",
    "from hulearn.classification import FunctionClassifier"
   ]
  },
  {
   "cell_type": "code",
   "execution_count": null,
   "id": "86a28d1169e69845",
   "metadata": {
    "ExecuteTime": {
     "end_time": "2024-01-08T15:18:07.465186Z",
     "start_time": "2024-01-08T15:18:07.426983Z"
    },
    "collapsed": false
   },
   "outputs": [],
   "source": [
    "# Usaremos el FunctionClassifier Para crear un clasificador que use el precio del boleto para predecir si un pasajero sobrevivió o no\n",
    "\n",
    "def classificador_preu_bitllet(df, preu_minim=20):\n",
    "    \"\"\"\n",
    "    Clasificar a los pasajeros según el precio del billete\n",
    "    El enfoque es que los pasajeros que más pagaban tenían más probabilidades de sobrevivir.\n",
    "    El valor predeterminado es 20 pero podemos cambiarlo\n",
    "    \"\"\"\n",
    "    return (df['fare'] > preu_minim).astype(int)\n",
    "\n",
    "\n",
    "model = FunctionClassifier(classificador_preu_bitllet)\n",
    "\n",
    "# Preparem el classificador\n",
    "model.fit(X_train, y_train)"
   ]
  },
  {
   "cell_type": "markdown",
   "id": "984bf10e4fecf755",
   "metadata": {
    "collapsed": false
   },
   "source": [
    "### Evaluamos el clasificador"
   ]
  },
  {
   "cell_type": "code",
   "execution_count": null,
   "id": "67b13f6674f19d79",
   "metadata": {
    "ExecuteTime": {
     "end_time": "2024-01-08T15:18:07.541807Z",
     "start_time": "2024-01-08T15:18:07.455471Z"
    },
    "collapsed": false
   },
   "outputs": [],
   "source": [
    "from sklearn.metrics import classification_report\n",
    "\n",
    "print(classification_report(y_test, model.predict(X_test)))"
   ]
  },
  {
   "cell_type": "markdown",
   "id": "108415d7eecd00b5",
   "metadata": {
    "collapsed": false
   },
   "source": [
    "El rendimiento del clasificador es bastante malo. Seguramente el precio del boleto no es una buena variable para predecir si un pasajero sobrevivió o no. Aun así, intentaremos mejorar su rendimiento de refinación el parámetro de precio_minim.\n",
    "\n",
    "Usaremos GridSearchCV para encontrar el mejor valor para Price_Minim. GridSearchCV nos permite hacer una búsqueda de cuadrícula para encontrar los mejores parámetros, la puntuación será dada por la exactitud (Accuracy), la precisión (Precision) y la sensibilidad (Recall).\n",
    "\n",
    "- **Accuracy**: ¿Cuántas predicciones son correctas?\n",
    "- **Precision**: ¿Cuántas predicciones positivas son correctas?\n",
    "- **Recall**: ¿Cuántas predicciones positivas son correctas de todos los aspectos positivos?"
   ]
  },
  {
   "cell_type": "code",
   "execution_count": null,
   "id": "c52b1eab0c9699a5",
   "metadata": {
    "ExecuteTime": {
     "end_time": "2024-01-08T15:18:08.323493Z",
     "start_time": "2024-01-08T15:18:07.517718Z"
    },
    "collapsed": false
   },
   "outputs": [],
   "source": [
    "import numpy as np\n",
    "from sklearn.metrics import make_scorer, accuracy_score, precision_score, recall_score\n",
    "from sklearn.model_selection import GridSearchCV\n",
    "\n",
    "# Creamos un clasificador con un precio mínimo de 20\n",
    "mod = FunctionClassifier(classificador_preu_bitllet, preu_minim=20)\n",
    "\n",
    "# El objeto GridSearchCV nos permite hacer una búsqueda de cuadrícula para encontrar los mejores parámetros.\n",
    "# En este caso buscaremos el mejor precio mínimo para clasificar a los pasajeros\n",
    "grid = GridSearchCV(mod,\n",
    "                    cv=2,\n",
    "                    param_grid={'preu_minim': np.linspace(0, 100, 30)},\n",
    "                    scoring={'accuracy': make_scorer(accuracy_score),\n",
    "                             'precision': make_scorer(precision_score),\n",
    "                             'recall': make_scorer(recall_score)},\n",
    "                    refit='accuracy')\n",
    "grid.fit(X_train, y_train)\n",
    "\n",
    "print(classification_report(y_test, grid.predict(X_test)))"
   ]
  },
  {
   "cell_type": "code",
   "execution_count": null,
   "id": "589c41ab3121d4f7",
   "metadata": {
    "ExecuteTime": {
     "end_time": "2024-01-08T15:18:08.393213Z",
     "start_time": "2024-01-08T15:18:08.312134Z"
    },
    "collapsed": false
   },
   "outputs": [],
   "source": [
    "# Podemos ver cuál era el mejor precio mínimo\n",
    "grid.best_params_"
   ]
  },
  {
   "cell_type": "markdown",
   "id": "6f547d25473021c",
   "metadata": {
    "collapsed": false
   },
   "source": [
    "### Exploración interactiva\n",
    "\n",
    "Ahora que hemos visto que el precio del boleto no es una buena variable para predecir si un pasajero sobrevivió o no, podemos explorar los datos para encontrar una mejor variable.\n",
    "\n",
    "Para hacer esto, utilizaremos la función Interactivecharts.Esta función nos permitirá explorar los datos de manera interactiva.En este caso, utilizaremos la función Parallel_Coordinates para ver cómo se distribuyen los datos en función de las variables explicativas."
   ]
  },
  {
   "cell_type": "code",
   "execution_count": null,
   "id": "a077f1c80f36068a",
   "metadata": {
    "ExecuteTime": {
     "end_time": "2024-01-08T15:18:08.923285Z",
     "start_time": "2024-01-08T15:18:08.350618Z"
    },
    "collapsed": false
   },
   "outputs": [],
   "source": [
    "from hulearn.experimental.interactive import parallel_coordinates\n",
    "\n",
    "parallel_coordinates(df, label=\"survived\", height=200)"
   ]
  },
  {
   "cell_type": "markdown",
   "id": "e688464b6b92da50",
   "metadata": {
    "collapsed": false
   },
   "source": [
    "Basado en la hipótesis de que las mujeres y los niños tenían más probabilidades de sobrevivir, podemos explorar datos para ver si es cierto y parece sí (contar con las diferencias de clase social): si solo dejamos mujeres y niños en primera y segunda clase, la mayoría sobrevivió.\n",
    "\n",
    "Entonces podemos crear un clasificador que use el sexo, la edad y la clase del pasajero para predecir si sobrevivió o no."
   ]
  },
  {
   "cell_type": "code",
   "execution_count": null,
   "id": "85c6243fc0a6391a",
   "metadata": {
    "ExecuteTime": {
     "end_time": "2024-01-08T15:18:08.930742Z",
     "start_time": "2024-01-08T15:18:08.922527Z"
    },
    "collapsed": false
   },
   "outputs": [],
   "source": [
    "def classificador_edat_sexe_classe(df, edat=12):\n",
    "    \"\"\"\n",
    "    Clasificar a los pasajeros según el sexo, la edad y la clase de pasajeros\n",
    "    El enfoque es que las mujeres y los niños tenían más probabilidades de sobrevivir\n",
    "    \"\"\"\n",
    "    regla_dones = (df['pclass'] < 3.0) & (df['sex'] == \"female\")\n",
    "    regla_nens = (df['pclass'] < 3.0) & (df['age'] <= edat)\n",
    "    return regla_dones | regla_nens\n",
    "\n",
    "\n",
    "mod = FunctionClassifier(classificador_edat_sexe_classe)\n",
    "mod.fit(X_train, y_train)\n",
    "mod.score(X_test, y_test)"
   ]
  },
  {
   "cell_type": "code",
   "execution_count": null,
   "id": "a826cdf8de70564b",
   "metadata": {
    "ExecuteTime": {
     "end_time": "2024-01-08T15:18:10.508277Z",
     "start_time": "2024-01-08T15:18:08.941670Z"
    },
    "collapsed": false
   },
   "outputs": [],
   "source": [
    "grid = GridSearchCV(mod,\n",
    "                    cv=2,\n",
    "                    param_grid={'edat': np.linspace(0, 50, 50)},\n",
    "                    scoring={'accuracy': make_scorer(accuracy_score),\n",
    "                             'precision': make_scorer(precision_score),\n",
    "                             'recall': make_scorer(recall_score)},\n",
    "                    refit='accuracy')\n",
    "grid.fit(X_train, y_train)\n",
    "\n",
    "print(grid.best_params_)\n",
    "predict = grid.predict(X_train)\n",
    "\n",
    "print(predict)\n",
    "print(classification_report(y_test, grid.predict(X_test)))"
   ]
  },
  {
   "cell_type": "markdown",
   "id": "dd396aace21094b9",
   "metadata": {
    "collapsed": false
   },
   "source": [
    "Los números son lo mucho mejores que los anteriores. Por lo tanto, podemos usar este clasificador para hacer predicciones en nuevos pasajeros."
   ]
  },
  {
   "cell_type": "markdown",
   "id": "644b4776983453ff",
   "metadata": {
    "collapsed": false
   },
   "source": [
    "## FIGS\n",
    "\n",
    "FIGS Es una librería que nos permite crear reglas para clasificar los datos.En este caso, utilizaremos los datos Titanic para crear reglas que nos permitan predecir si un pasajero sobrevivió o no."
   ]
  },
  {
   "cell_type": "code",
   "execution_count": null,
   "id": "d80fc18bfa3eb3ad",
   "metadata": {
    "ExecuteTime": {
     "end_time": "2024-01-08T15:18:15.756337Z",
     "start_time": "2024-01-08T15:18:10.503242Z"
    },
    "collapsed": false
   },
   "outputs": [],
   "source": [
    "# Instalamos la librería\n",
    "%pip install imodels"
   ]
  },
  {
   "cell_type": "code",
   "execution_count": null,
   "id": "de740ee4c575fdc9",
   "metadata": {
    "ExecuteTime": {
     "end_time": "2024-01-08T15:18:17.007541Z",
     "start_time": "2024-01-08T15:18:15.762238Z"
    },
    "collapsed": false
   },
   "outputs": [],
   "source": [
    "# Cargamos la librería\n",
    "from imodels import FIGSClassifier"
   ]
  },
  {
   "cell_type": "code",
   "execution_count": null,
   "id": "d080536d129ef89b",
   "metadata": {
    "ExecuteTime": {
     "end_time": "2024-01-08T15:18:17.057589Z",
     "start_time": "2024-01-08T15:18:17.015147Z"
    },
    "collapsed": false
   },
   "outputs": [],
   "source": [
    "# Preparamos los datos\n",
    "X_skope = df.drop(columns=['name', 'sibsp'])\n",
    "X_skope['sex'] = X_skope['sex'].replace(['female', 'male'], [0, 1])\n",
    "\n",
    "X_train, X_test, y_train, y_test = train_test_split(\n",
    "    X_skope.drop(['survived'], axis=1), X_skope['survived'], test_size=0.25, random_state=42)"
   ]
  },
  {
   "cell_type": "code",
   "execution_count": null,
   "id": "57a655d7ac877efa",
   "metadata": {
    "ExecuteTime": {
     "end_time": "2024-01-08T15:18:17.110449Z",
     "start_time": "2024-01-08T15:18:17.048375Z"
    },
    "collapsed": false
   },
   "outputs": [],
   "source": [
    "# Creamos el clasificador\n",
    "clf = FIGSClassifier(max_rules=4)\n",
    "# Entrenamos el clasificador\n",
    "clf.fit(X_train, y_train)"
   ]
  },
  {
   "cell_type": "code",
   "execution_count": null,
   "id": "d328fd73de9e804",
   "metadata": {
    "ExecuteTime": {
     "end_time": "2024-01-08T15:18:17.151056Z",
     "start_time": "2024-01-08T15:18:17.119888Z"
    },
    "collapsed": false
   },
   "outputs": [],
   "source": [
    "# Podem veure el rendiment del classificador\n",
    "print(classification_report(y_test, clf.predict(X_test)))"
   ]
  },
  {
   "cell_type": "markdown",
   "id": "d21ca1f154042daa",
   "metadata": {
    "collapsed": false
   },
   "source": [
    "Podemos ver que las reglas creadas por el clasificador tienen un rendimiento similar al clasificador que hemos creado con Human Learn y los conceptos que hemos creado con Human Learn son más fáciles de interpretar y podemos continuar agregando reglas para mejorar el rendimiento del clasificador (por ejemplo, podríamos incorporar la variable `fare`(tarifa))."
   ]
  }
 ],
 "metadata": {
  "kernelspec": {
   "display_name": "Python 3",
   "language": "python",
   "name": "python3"
  },
  "language_info": {
   "codemirror_mode": {
    "name": "ipython",
    "version": 2
   },
   "file_extension": ".py",
   "mimetype": "text/x-python",
   "name": "python",
   "nbconvert_exporter": "python",
   "pygments_lexer": "ipython2",
   "version": "2.7.6"
  }
 },
 "nbformat": 4,
 "nbformat_minor": 5
}
