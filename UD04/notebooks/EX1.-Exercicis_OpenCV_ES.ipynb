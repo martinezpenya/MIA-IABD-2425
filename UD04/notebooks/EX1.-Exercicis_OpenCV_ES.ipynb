{
 "cells": [
  {
   "cell_type": "markdown",
   "metadata": {},
   "source": [
    "# Ejercicios de OpenCV\n",
    "\n",
    "Hemos visto cómo ver funciones básicas de OpenCV. Ahora lo pondremos en práctica.\n",
    "\n",
    "Tu tarea es poner en práctica lo que has aprendido en términos de procesamiento de imágenes con un ejemplo similar a lo que hemos visto en clase.\n",
    "\n",
    "## Ejercicio 1\n",
    "\n",
    "Usando OpenCV, cargando la imagen `camp.png`, encuentra los bordes y enmarcarlas en verde. Muestra el resultado.\n",
    "\n",
    "## Ejercicio 2\n",
    "\n",
    "Hemos visto cómo detectar el movimiento utilizando las diferencias entre dos _frames_ consecutivos. Ahora, carga `EX1.-vtest.mp4` y utiliza este método para detectar el movimiento en un video y usar la técnica vista en el ejemplo de la línea que rastrea el objeto que se está moviendo.\n",
    "\n",
    "## Ejercicio 3\n",
    "\n",
    "Calcular el flujo óptico de `vtest.mp4` y visualizalo."
   ]
  }
 ],
 "metadata": {
  "language_info": {
   "name": "python"
  }
 },
 "nbformat": 4,
 "nbformat_minor": 2
}
