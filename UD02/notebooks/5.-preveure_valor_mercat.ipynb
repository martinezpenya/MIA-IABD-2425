{
 "cells": [
  {
   "cell_type": "markdown",
   "source": [
    "# Preveure el valor de mercat per a jugadors emergents"
   ],
   "metadata": {
    "collapsed": false
   },
   "id": "364ca138e25960d7"
  },
  {
   "cell_type": "markdown",
   "source": [
    "Com hem vist a teoria els sistemes mixtes coneixement humà/ML son molt potents. En aquest cas veurem com preveure el valor de mercat de jugadors emergents utilitzant regles definides per nosaltres i després utilitzant un model de ML per a predir el valor de mercat dels jugadors. Aquesta combinació ens permetrà validar les nostres prediccions i veure si el model de ML és capaç de millorar el nostre anàlisi.\n",
    "\n",
    "Anem a crear un model que permetrà preveure el valor de mercat de jugadors emergents. Per això utilitzarem les dades de jugadors del Fifa 22. Aquestes dades les podem trobar al fitxer `players_22.csv`."
   ],
   "metadata": {
    "collapsed": false
   },
   "id": "a6837a67c2f9d3e4"
  },
  {
   "cell_type": "markdown",
   "source": [
    "## 1. Preparació de les dades\n",
    "\n",
    "Carregarem les dades de jugadors del Fifa 22 i les guardarem en un dataframe de pandas.\n"
   ],
   "metadata": {
    "collapsed": false
   },
   "id": "edbf695c0b6c7421"
  },
  {
   "cell_type": "code",
   "outputs": [
    {
     "name": "stderr",
     "output_type": "stream",
     "text": [
      "/var/folders/zm/06zm__c5637bs4z8mhp4pfph0000gn/T/ipykernel_19916/3362380318.py:3: DtypeWarning: Columns (25,108) have mixed types. Specify dtype option on import or set low_memory=False.\n",
      "  df = pd.read_csv('players_22.csv')\n"
     ]
    },
    {
     "data": {
      "text/plain": "       sofifa_id                                         player_url  \\\n0         158023  https://sofifa.com/player/158023/lionel-messi/...   \n1         188545  https://sofifa.com/player/188545/robert-lewand...   \n2          20801  https://sofifa.com/player/20801/c-ronaldo-dos-...   \n3         190871  https://sofifa.com/player/190871/neymar-da-sil...   \n4         192985  https://sofifa.com/player/192985/kevin-de-bruy...   \n...          ...                                                ...   \n19234     261962  https://sofifa.com/player/261962/defu-song/220002   \n19235     262040  https://sofifa.com/player/262040/caoimhin-port...   \n19236     262760  https://sofifa.com/player/262760/nathan-logue/...   \n19237     262820  https://sofifa.com/player/262820/luke-rudden/2...   \n19238     264540  https://sofifa.com/player/264540/emanuel-lalch...   \n\n               short_name                            long_name  \\\n0                L. Messi       Lionel Andrés Messi Cuccittini   \n1          R. Lewandowski                   Robert Lewandowski   \n2       Cristiano Ronaldo  Cristiano Ronaldo dos Santos Aveiro   \n3               Neymar Jr        Neymar da Silva Santos Júnior   \n4            K. De Bruyne                      Kevin De Bruyne   \n...                   ...                                  ...   \n19234           Song Defu                                  宋德福   \n19235           C. Porter                      Caoimhin Porter   \n19236            N. Logue              Nathan Logue-Cunningham   \n19237           L. Rudden                          Luke Rudden   \n19238  E. Lalchhanchhuaha              Emanuel Lalchhanchhuaha   \n\n      player_positions  overall  potential    value_eur  wage_eur  age  ...  \\\n0           RW, ST, CF       93         93   78000000.0  320000.0   34  ...   \n1                   ST       92         92  119500000.0  270000.0   32  ...   \n2               ST, LW       91         91   45000000.0  270000.0   36  ...   \n3              LW, CAM       91         91  129000000.0  270000.0   29  ...   \n4              CM, CAM       91         91  125500000.0  350000.0   30  ...   \n...                ...      ...        ...          ...       ...  ...  ...   \n19234              CDM       47         52      70000.0    1000.0   22  ...   \n19235               CM       47         59     110000.0     500.0   19  ...   \n19236               CM       47         55     100000.0     500.0   21  ...   \n19237               ST       47         60     110000.0     500.0   19  ...   \n19238              CAM       47         60     110000.0     500.0   19  ...   \n\n        lcb    cb   rcb    rb    gk  \\\n0      50+3  50+3  50+3  61+3  19+3   \n1      60+3  60+3  60+3  61+3  19+3   \n2      53+3  53+3  53+3  60+3  20+3   \n3      50+3  50+3  50+3  62+3  20+3   \n4      69+3  69+3  69+3  75+3  21+3   \n...     ...   ...   ...   ...   ...   \n19234  46+2  46+2  46+2  48+2  15+2   \n19235  44+2  44+2  44+2  48+2  14+2   \n19236  45+2  45+2  45+2  47+2  12+2   \n19237  26+2  26+2  26+2  32+2  15+2   \n19238  41+2  41+2  41+2  45+2  16+2   \n\n                                         player_face_url  \\\n0      https://cdn.sofifa.net/players/158/023/22_120.png   \n1      https://cdn.sofifa.net/players/188/545/22_120.png   \n2      https://cdn.sofifa.net/players/020/801/22_120.png   \n3      https://cdn.sofifa.net/players/190/871/22_120.png   \n4      https://cdn.sofifa.net/players/192/985/22_120.png   \n...                                                  ...   \n19234  https://cdn.sofifa.net/players/261/962/22_120.png   \n19235  https://cdn.sofifa.net/players/262/040/22_120.png   \n19236  https://cdn.sofifa.net/players/262/760/22_120.png   \n19237  https://cdn.sofifa.net/players/262/820/22_120.png   \n19238  https://cdn.sofifa.net/players/264/540/22_120.png   \n\n                                    club_logo_url  \\\n0          https://cdn.sofifa.net/teams/73/60.png   \n1          https://cdn.sofifa.net/teams/21/60.png   \n2          https://cdn.sofifa.net/teams/11/60.png   \n3          https://cdn.sofifa.net/teams/73/60.png   \n4          https://cdn.sofifa.net/teams/10/60.png   \n...                                           ...   \n19234  https://cdn.sofifa.net/teams/112541/60.png   \n19235     https://cdn.sofifa.net/teams/445/60.png   \n19236  https://cdn.sofifa.net/teams/111131/60.png   \n19237  https://cdn.sofifa.net/teams/111131/60.png   \n19238  https://cdn.sofifa.net/teams/113040/60.png   \n\n                                 club_flag_url  \\\n0          https://cdn.sofifa.net/flags/fr.png   \n1          https://cdn.sofifa.net/flags/de.png   \n2      https://cdn.sofifa.net/flags/gb-eng.png   \n3          https://cdn.sofifa.net/flags/fr.png   \n4      https://cdn.sofifa.net/flags/gb-eng.png   \n...                                        ...   \n19234      https://cdn.sofifa.net/flags/cn.png   \n19235      https://cdn.sofifa.net/flags/ie.png   \n19236      https://cdn.sofifa.net/flags/ie.png   \n19237      https://cdn.sofifa.net/flags/ie.png   \n19238      https://cdn.sofifa.net/flags/in.png   \n\n                                nation_logo_url  \\\n0      https://cdn.sofifa.net/teams/1369/60.png   \n1      https://cdn.sofifa.net/teams/1353/60.png   \n2      https://cdn.sofifa.net/teams/1354/60.png   \n3                                           NaN   \n4      https://cdn.sofifa.net/teams/1325/60.png   \n...                                         ...   \n19234                                       NaN   \n19235                                       NaN   \n19236                                       NaN   \n19237                                       NaN   \n19238                                       NaN   \n\n                           nation_flag_url  \n0      https://cdn.sofifa.net/flags/ar.png  \n1      https://cdn.sofifa.net/flags/pl.png  \n2      https://cdn.sofifa.net/flags/pt.png  \n3      https://cdn.sofifa.net/flags/br.png  \n4      https://cdn.sofifa.net/flags/be.png  \n...                                    ...  \n19234  https://cdn.sofifa.net/flags/cn.png  \n19235  https://cdn.sofifa.net/flags/ie.png  \n19236  https://cdn.sofifa.net/flags/ie.png  \n19237  https://cdn.sofifa.net/flags/ie.png  \n19238  https://cdn.sofifa.net/flags/in.png  \n\n[19239 rows x 110 columns]",
      "text/html": "<div>\n<style scoped>\n    .dataframe tbody tr th:only-of-type {\n        vertical-align: middle;\n    }\n\n    .dataframe tbody tr th {\n        vertical-align: top;\n    }\n\n    .dataframe thead th {\n        text-align: right;\n    }\n</style>\n<table border=\"1\" class=\"dataframe\">\n  <thead>\n    <tr style=\"text-align: right;\">\n      <th></th>\n      <th>sofifa_id</th>\n      <th>player_url</th>\n      <th>short_name</th>\n      <th>long_name</th>\n      <th>player_positions</th>\n      <th>overall</th>\n      <th>potential</th>\n      <th>value_eur</th>\n      <th>wage_eur</th>\n      <th>age</th>\n      <th>...</th>\n      <th>lcb</th>\n      <th>cb</th>\n      <th>rcb</th>\n      <th>rb</th>\n      <th>gk</th>\n      <th>player_face_url</th>\n      <th>club_logo_url</th>\n      <th>club_flag_url</th>\n      <th>nation_logo_url</th>\n      <th>nation_flag_url</th>\n    </tr>\n  </thead>\n  <tbody>\n    <tr>\n      <th>0</th>\n      <td>158023</td>\n      <td>https://sofifa.com/player/158023/lionel-messi/...</td>\n      <td>L. Messi</td>\n      <td>Lionel Andrés Messi Cuccittini</td>\n      <td>RW, ST, CF</td>\n      <td>93</td>\n      <td>93</td>\n      <td>78000000.0</td>\n      <td>320000.0</td>\n      <td>34</td>\n      <td>...</td>\n      <td>50+3</td>\n      <td>50+3</td>\n      <td>50+3</td>\n      <td>61+3</td>\n      <td>19+3</td>\n      <td>https://cdn.sofifa.net/players/158/023/22_120.png</td>\n      <td>https://cdn.sofifa.net/teams/73/60.png</td>\n      <td>https://cdn.sofifa.net/flags/fr.png</td>\n      <td>https://cdn.sofifa.net/teams/1369/60.png</td>\n      <td>https://cdn.sofifa.net/flags/ar.png</td>\n    </tr>\n    <tr>\n      <th>1</th>\n      <td>188545</td>\n      <td>https://sofifa.com/player/188545/robert-lewand...</td>\n      <td>R. Lewandowski</td>\n      <td>Robert Lewandowski</td>\n      <td>ST</td>\n      <td>92</td>\n      <td>92</td>\n      <td>119500000.0</td>\n      <td>270000.0</td>\n      <td>32</td>\n      <td>...</td>\n      <td>60+3</td>\n      <td>60+3</td>\n      <td>60+3</td>\n      <td>61+3</td>\n      <td>19+3</td>\n      <td>https://cdn.sofifa.net/players/188/545/22_120.png</td>\n      <td>https://cdn.sofifa.net/teams/21/60.png</td>\n      <td>https://cdn.sofifa.net/flags/de.png</td>\n      <td>https://cdn.sofifa.net/teams/1353/60.png</td>\n      <td>https://cdn.sofifa.net/flags/pl.png</td>\n    </tr>\n    <tr>\n      <th>2</th>\n      <td>20801</td>\n      <td>https://sofifa.com/player/20801/c-ronaldo-dos-...</td>\n      <td>Cristiano Ronaldo</td>\n      <td>Cristiano Ronaldo dos Santos Aveiro</td>\n      <td>ST, LW</td>\n      <td>91</td>\n      <td>91</td>\n      <td>45000000.0</td>\n      <td>270000.0</td>\n      <td>36</td>\n      <td>...</td>\n      <td>53+3</td>\n      <td>53+3</td>\n      <td>53+3</td>\n      <td>60+3</td>\n      <td>20+3</td>\n      <td>https://cdn.sofifa.net/players/020/801/22_120.png</td>\n      <td>https://cdn.sofifa.net/teams/11/60.png</td>\n      <td>https://cdn.sofifa.net/flags/gb-eng.png</td>\n      <td>https://cdn.sofifa.net/teams/1354/60.png</td>\n      <td>https://cdn.sofifa.net/flags/pt.png</td>\n    </tr>\n    <tr>\n      <th>3</th>\n      <td>190871</td>\n      <td>https://sofifa.com/player/190871/neymar-da-sil...</td>\n      <td>Neymar Jr</td>\n      <td>Neymar da Silva Santos Júnior</td>\n      <td>LW, CAM</td>\n      <td>91</td>\n      <td>91</td>\n      <td>129000000.0</td>\n      <td>270000.0</td>\n      <td>29</td>\n      <td>...</td>\n      <td>50+3</td>\n      <td>50+3</td>\n      <td>50+3</td>\n      <td>62+3</td>\n      <td>20+3</td>\n      <td>https://cdn.sofifa.net/players/190/871/22_120.png</td>\n      <td>https://cdn.sofifa.net/teams/73/60.png</td>\n      <td>https://cdn.sofifa.net/flags/fr.png</td>\n      <td>NaN</td>\n      <td>https://cdn.sofifa.net/flags/br.png</td>\n    </tr>\n    <tr>\n      <th>4</th>\n      <td>192985</td>\n      <td>https://sofifa.com/player/192985/kevin-de-bruy...</td>\n      <td>K. De Bruyne</td>\n      <td>Kevin De Bruyne</td>\n      <td>CM, CAM</td>\n      <td>91</td>\n      <td>91</td>\n      <td>125500000.0</td>\n      <td>350000.0</td>\n      <td>30</td>\n      <td>...</td>\n      <td>69+3</td>\n      <td>69+3</td>\n      <td>69+3</td>\n      <td>75+3</td>\n      <td>21+3</td>\n      <td>https://cdn.sofifa.net/players/192/985/22_120.png</td>\n      <td>https://cdn.sofifa.net/teams/10/60.png</td>\n      <td>https://cdn.sofifa.net/flags/gb-eng.png</td>\n      <td>https://cdn.sofifa.net/teams/1325/60.png</td>\n      <td>https://cdn.sofifa.net/flags/be.png</td>\n    </tr>\n    <tr>\n      <th>...</th>\n      <td>...</td>\n      <td>...</td>\n      <td>...</td>\n      <td>...</td>\n      <td>...</td>\n      <td>...</td>\n      <td>...</td>\n      <td>...</td>\n      <td>...</td>\n      <td>...</td>\n      <td>...</td>\n      <td>...</td>\n      <td>...</td>\n      <td>...</td>\n      <td>...</td>\n      <td>...</td>\n      <td>...</td>\n      <td>...</td>\n      <td>...</td>\n      <td>...</td>\n      <td>...</td>\n    </tr>\n    <tr>\n      <th>19234</th>\n      <td>261962</td>\n      <td>https://sofifa.com/player/261962/defu-song/220002</td>\n      <td>Song Defu</td>\n      <td>宋德福</td>\n      <td>CDM</td>\n      <td>47</td>\n      <td>52</td>\n      <td>70000.0</td>\n      <td>1000.0</td>\n      <td>22</td>\n      <td>...</td>\n      <td>46+2</td>\n      <td>46+2</td>\n      <td>46+2</td>\n      <td>48+2</td>\n      <td>15+2</td>\n      <td>https://cdn.sofifa.net/players/261/962/22_120.png</td>\n      <td>https://cdn.sofifa.net/teams/112541/60.png</td>\n      <td>https://cdn.sofifa.net/flags/cn.png</td>\n      <td>NaN</td>\n      <td>https://cdn.sofifa.net/flags/cn.png</td>\n    </tr>\n    <tr>\n      <th>19235</th>\n      <td>262040</td>\n      <td>https://sofifa.com/player/262040/caoimhin-port...</td>\n      <td>C. Porter</td>\n      <td>Caoimhin Porter</td>\n      <td>CM</td>\n      <td>47</td>\n      <td>59</td>\n      <td>110000.0</td>\n      <td>500.0</td>\n      <td>19</td>\n      <td>...</td>\n      <td>44+2</td>\n      <td>44+2</td>\n      <td>44+2</td>\n      <td>48+2</td>\n      <td>14+2</td>\n      <td>https://cdn.sofifa.net/players/262/040/22_120.png</td>\n      <td>https://cdn.sofifa.net/teams/445/60.png</td>\n      <td>https://cdn.sofifa.net/flags/ie.png</td>\n      <td>NaN</td>\n      <td>https://cdn.sofifa.net/flags/ie.png</td>\n    </tr>\n    <tr>\n      <th>19236</th>\n      <td>262760</td>\n      <td>https://sofifa.com/player/262760/nathan-logue/...</td>\n      <td>N. Logue</td>\n      <td>Nathan Logue-Cunningham</td>\n      <td>CM</td>\n      <td>47</td>\n      <td>55</td>\n      <td>100000.0</td>\n      <td>500.0</td>\n      <td>21</td>\n      <td>...</td>\n      <td>45+2</td>\n      <td>45+2</td>\n      <td>45+2</td>\n      <td>47+2</td>\n      <td>12+2</td>\n      <td>https://cdn.sofifa.net/players/262/760/22_120.png</td>\n      <td>https://cdn.sofifa.net/teams/111131/60.png</td>\n      <td>https://cdn.sofifa.net/flags/ie.png</td>\n      <td>NaN</td>\n      <td>https://cdn.sofifa.net/flags/ie.png</td>\n    </tr>\n    <tr>\n      <th>19237</th>\n      <td>262820</td>\n      <td>https://sofifa.com/player/262820/luke-rudden/2...</td>\n      <td>L. Rudden</td>\n      <td>Luke Rudden</td>\n      <td>ST</td>\n      <td>47</td>\n      <td>60</td>\n      <td>110000.0</td>\n      <td>500.0</td>\n      <td>19</td>\n      <td>...</td>\n      <td>26+2</td>\n      <td>26+2</td>\n      <td>26+2</td>\n      <td>32+2</td>\n      <td>15+2</td>\n      <td>https://cdn.sofifa.net/players/262/820/22_120.png</td>\n      <td>https://cdn.sofifa.net/teams/111131/60.png</td>\n      <td>https://cdn.sofifa.net/flags/ie.png</td>\n      <td>NaN</td>\n      <td>https://cdn.sofifa.net/flags/ie.png</td>\n    </tr>\n    <tr>\n      <th>19238</th>\n      <td>264540</td>\n      <td>https://sofifa.com/player/264540/emanuel-lalch...</td>\n      <td>E. Lalchhanchhuaha</td>\n      <td>Emanuel Lalchhanchhuaha</td>\n      <td>CAM</td>\n      <td>47</td>\n      <td>60</td>\n      <td>110000.0</td>\n      <td>500.0</td>\n      <td>19</td>\n      <td>...</td>\n      <td>41+2</td>\n      <td>41+2</td>\n      <td>41+2</td>\n      <td>45+2</td>\n      <td>16+2</td>\n      <td>https://cdn.sofifa.net/players/264/540/22_120.png</td>\n      <td>https://cdn.sofifa.net/teams/113040/60.png</td>\n      <td>https://cdn.sofifa.net/flags/in.png</td>\n      <td>NaN</td>\n      <td>https://cdn.sofifa.net/flags/in.png</td>\n    </tr>\n  </tbody>\n</table>\n<p>19239 rows × 110 columns</p>\n</div>"
     },
     "execution_count": 229,
     "metadata": {},
     "output_type": "execute_result"
    }
   ],
   "source": [
    "import pandas as pd\n",
    "\n",
    "df = pd.read_csv('players_22.csv')\n",
    "df"
   ],
   "metadata": {
    "collapsed": false,
    "ExecuteTime": {
     "end_time": "2024-01-08T14:38:51.993199Z",
     "start_time": "2024-01-08T14:38:50.932270Z"
    }
   },
   "id": "173cd7942b3548e3",
   "execution_count": 229
  },
  {
   "cell_type": "markdown",
   "source": [
    "Volem classificar els jugadors en 4 categories:\n",
    "- **Estrella** (3): Valor de mercat superior a 50M€.\n",
    "- **Promesa** (2): Valor de mercat entre 10M€ i 50M€\n",
    "- **Jugador de rotació** (1): Valor de mercat entre 1M€ i 10M€\n",
    "- **Jugador de planter** (0): Valor de mercat inferior a 1M€\n",
    "\n",
    "Primer hem de preparar les dades, aprofitant la columna `value_eur` per a crear la columna `category` que ens permetrà classificar els jugadors."
   ],
   "metadata": {
    "collapsed": false
   },
   "id": "2358fa8de8891abf"
  },
  {
   "cell_type": "code",
   "outputs": [
    {
     "data": {
      "text/plain": "       sofifa_id                                         player_url  \\\n0         158023  https://sofifa.com/player/158023/lionel-messi/...   \n1         188545  https://sofifa.com/player/188545/robert-lewand...   \n2          20801  https://sofifa.com/player/20801/c-ronaldo-dos-...   \n3         190871  https://sofifa.com/player/190871/neymar-da-sil...   \n4         192985  https://sofifa.com/player/192985/kevin-de-bruy...   \n...          ...                                                ...   \n19234     261962  https://sofifa.com/player/261962/defu-song/220002   \n19235     262040  https://sofifa.com/player/262040/caoimhin-port...   \n19236     262760  https://sofifa.com/player/262760/nathan-logue/...   \n19237     262820  https://sofifa.com/player/262820/luke-rudden/2...   \n19238     264540  https://sofifa.com/player/264540/emanuel-lalch...   \n\n               short_name                            long_name  \\\n0                L. Messi       Lionel Andrés Messi Cuccittini   \n1          R. Lewandowski                   Robert Lewandowski   \n2       Cristiano Ronaldo  Cristiano Ronaldo dos Santos Aveiro   \n3               Neymar Jr        Neymar da Silva Santos Júnior   \n4            K. De Bruyne                      Kevin De Bruyne   \n...                   ...                                  ...   \n19234           Song Defu                                  宋德福   \n19235           C. Porter                      Caoimhin Porter   \n19236            N. Logue              Nathan Logue-Cunningham   \n19237           L. Rudden                          Luke Rudden   \n19238  E. Lalchhanchhuaha              Emanuel Lalchhanchhuaha   \n\n      player_positions  overall  potential    value_eur  wage_eur  age  ...  \\\n0           RW, ST, CF       93         93   78000000.0  320000.0   34  ...   \n1                   ST       92         92  119500000.0  270000.0   32  ...   \n2               ST, LW       91         91   45000000.0  270000.0   36  ...   \n3              LW, CAM       91         91  129000000.0  270000.0   29  ...   \n4              CM, CAM       91         91  125500000.0  350000.0   30  ...   \n...                ...      ...        ...          ...       ...  ...  ...   \n19234              CDM       47         52      70000.0    1000.0   22  ...   \n19235               CM       47         59     110000.0     500.0   19  ...   \n19236               CM       47         55     100000.0     500.0   21  ...   \n19237               ST       47         60     110000.0     500.0   19  ...   \n19238              CAM       47         60     110000.0     500.0   19  ...   \n\n         cb   rcb    rb    gk  \\\n0      50+3  50+3  61+3  19+3   \n1      60+3  60+3  61+3  19+3   \n2      53+3  53+3  60+3  20+3   \n3      50+3  50+3  62+3  20+3   \n4      69+3  69+3  75+3  21+3   \n...     ...   ...   ...   ...   \n19234  46+2  46+2  48+2  15+2   \n19235  44+2  44+2  48+2  14+2   \n19236  45+2  45+2  47+2  12+2   \n19237  26+2  26+2  32+2  15+2   \n19238  41+2  41+2  45+2  16+2   \n\n                                         player_face_url  \\\n0      https://cdn.sofifa.net/players/158/023/22_120.png   \n1      https://cdn.sofifa.net/players/188/545/22_120.png   \n2      https://cdn.sofifa.net/players/020/801/22_120.png   \n3      https://cdn.sofifa.net/players/190/871/22_120.png   \n4      https://cdn.sofifa.net/players/192/985/22_120.png   \n...                                                  ...   \n19234  https://cdn.sofifa.net/players/261/962/22_120.png   \n19235  https://cdn.sofifa.net/players/262/040/22_120.png   \n19236  https://cdn.sofifa.net/players/262/760/22_120.png   \n19237  https://cdn.sofifa.net/players/262/820/22_120.png   \n19238  https://cdn.sofifa.net/players/264/540/22_120.png   \n\n                                    club_logo_url  \\\n0          https://cdn.sofifa.net/teams/73/60.png   \n1          https://cdn.sofifa.net/teams/21/60.png   \n2          https://cdn.sofifa.net/teams/11/60.png   \n3          https://cdn.sofifa.net/teams/73/60.png   \n4          https://cdn.sofifa.net/teams/10/60.png   \n...                                           ...   \n19234  https://cdn.sofifa.net/teams/112541/60.png   \n19235     https://cdn.sofifa.net/teams/445/60.png   \n19236  https://cdn.sofifa.net/teams/111131/60.png   \n19237  https://cdn.sofifa.net/teams/111131/60.png   \n19238  https://cdn.sofifa.net/teams/113040/60.png   \n\n                                 club_flag_url  \\\n0          https://cdn.sofifa.net/flags/fr.png   \n1          https://cdn.sofifa.net/flags/de.png   \n2      https://cdn.sofifa.net/flags/gb-eng.png   \n3          https://cdn.sofifa.net/flags/fr.png   \n4      https://cdn.sofifa.net/flags/gb-eng.png   \n...                                        ...   \n19234      https://cdn.sofifa.net/flags/cn.png   \n19235      https://cdn.sofifa.net/flags/ie.png   \n19236      https://cdn.sofifa.net/flags/ie.png   \n19237      https://cdn.sofifa.net/flags/ie.png   \n19238      https://cdn.sofifa.net/flags/in.png   \n\n                                nation_logo_url  \\\n0      https://cdn.sofifa.net/teams/1369/60.png   \n1      https://cdn.sofifa.net/teams/1353/60.png   \n2      https://cdn.sofifa.net/teams/1354/60.png   \n3                                           NaN   \n4      https://cdn.sofifa.net/teams/1325/60.png   \n...                                         ...   \n19234                                       NaN   \n19235                                       NaN   \n19236                                       NaN   \n19237                                       NaN   \n19238                                       NaN   \n\n                           nation_flag_url category  \n0      https://cdn.sofifa.net/flags/ar.png        3  \n1      https://cdn.sofifa.net/flags/pl.png        3  \n2      https://cdn.sofifa.net/flags/pt.png        2  \n3      https://cdn.sofifa.net/flags/br.png        3  \n4      https://cdn.sofifa.net/flags/be.png        3  \n...                                    ...      ...  \n19234  https://cdn.sofifa.net/flags/cn.png        0  \n19235  https://cdn.sofifa.net/flags/ie.png        0  \n19236  https://cdn.sofifa.net/flags/ie.png        0  \n19237  https://cdn.sofifa.net/flags/ie.png        0  \n19238  https://cdn.sofifa.net/flags/in.png        0  \n\n[19239 rows x 111 columns]",
      "text/html": "<div>\n<style scoped>\n    .dataframe tbody tr th:only-of-type {\n        vertical-align: middle;\n    }\n\n    .dataframe tbody tr th {\n        vertical-align: top;\n    }\n\n    .dataframe thead th {\n        text-align: right;\n    }\n</style>\n<table border=\"1\" class=\"dataframe\">\n  <thead>\n    <tr style=\"text-align: right;\">\n      <th></th>\n      <th>sofifa_id</th>\n      <th>player_url</th>\n      <th>short_name</th>\n      <th>long_name</th>\n      <th>player_positions</th>\n      <th>overall</th>\n      <th>potential</th>\n      <th>value_eur</th>\n      <th>wage_eur</th>\n      <th>age</th>\n      <th>...</th>\n      <th>cb</th>\n      <th>rcb</th>\n      <th>rb</th>\n      <th>gk</th>\n      <th>player_face_url</th>\n      <th>club_logo_url</th>\n      <th>club_flag_url</th>\n      <th>nation_logo_url</th>\n      <th>nation_flag_url</th>\n      <th>category</th>\n    </tr>\n  </thead>\n  <tbody>\n    <tr>\n      <th>0</th>\n      <td>158023</td>\n      <td>https://sofifa.com/player/158023/lionel-messi/...</td>\n      <td>L. Messi</td>\n      <td>Lionel Andrés Messi Cuccittini</td>\n      <td>RW, ST, CF</td>\n      <td>93</td>\n      <td>93</td>\n      <td>78000000.0</td>\n      <td>320000.0</td>\n      <td>34</td>\n      <td>...</td>\n      <td>50+3</td>\n      <td>50+3</td>\n      <td>61+3</td>\n      <td>19+3</td>\n      <td>https://cdn.sofifa.net/players/158/023/22_120.png</td>\n      <td>https://cdn.sofifa.net/teams/73/60.png</td>\n      <td>https://cdn.sofifa.net/flags/fr.png</td>\n      <td>https://cdn.sofifa.net/teams/1369/60.png</td>\n      <td>https://cdn.sofifa.net/flags/ar.png</td>\n      <td>3</td>\n    </tr>\n    <tr>\n      <th>1</th>\n      <td>188545</td>\n      <td>https://sofifa.com/player/188545/robert-lewand...</td>\n      <td>R. Lewandowski</td>\n      <td>Robert Lewandowski</td>\n      <td>ST</td>\n      <td>92</td>\n      <td>92</td>\n      <td>119500000.0</td>\n      <td>270000.0</td>\n      <td>32</td>\n      <td>...</td>\n      <td>60+3</td>\n      <td>60+3</td>\n      <td>61+3</td>\n      <td>19+3</td>\n      <td>https://cdn.sofifa.net/players/188/545/22_120.png</td>\n      <td>https://cdn.sofifa.net/teams/21/60.png</td>\n      <td>https://cdn.sofifa.net/flags/de.png</td>\n      <td>https://cdn.sofifa.net/teams/1353/60.png</td>\n      <td>https://cdn.sofifa.net/flags/pl.png</td>\n      <td>3</td>\n    </tr>\n    <tr>\n      <th>2</th>\n      <td>20801</td>\n      <td>https://sofifa.com/player/20801/c-ronaldo-dos-...</td>\n      <td>Cristiano Ronaldo</td>\n      <td>Cristiano Ronaldo dos Santos Aveiro</td>\n      <td>ST, LW</td>\n      <td>91</td>\n      <td>91</td>\n      <td>45000000.0</td>\n      <td>270000.0</td>\n      <td>36</td>\n      <td>...</td>\n      <td>53+3</td>\n      <td>53+3</td>\n      <td>60+3</td>\n      <td>20+3</td>\n      <td>https://cdn.sofifa.net/players/020/801/22_120.png</td>\n      <td>https://cdn.sofifa.net/teams/11/60.png</td>\n      <td>https://cdn.sofifa.net/flags/gb-eng.png</td>\n      <td>https://cdn.sofifa.net/teams/1354/60.png</td>\n      <td>https://cdn.sofifa.net/flags/pt.png</td>\n      <td>2</td>\n    </tr>\n    <tr>\n      <th>3</th>\n      <td>190871</td>\n      <td>https://sofifa.com/player/190871/neymar-da-sil...</td>\n      <td>Neymar Jr</td>\n      <td>Neymar da Silva Santos Júnior</td>\n      <td>LW, CAM</td>\n      <td>91</td>\n      <td>91</td>\n      <td>129000000.0</td>\n      <td>270000.0</td>\n      <td>29</td>\n      <td>...</td>\n      <td>50+3</td>\n      <td>50+3</td>\n      <td>62+3</td>\n      <td>20+3</td>\n      <td>https://cdn.sofifa.net/players/190/871/22_120.png</td>\n      <td>https://cdn.sofifa.net/teams/73/60.png</td>\n      <td>https://cdn.sofifa.net/flags/fr.png</td>\n      <td>NaN</td>\n      <td>https://cdn.sofifa.net/flags/br.png</td>\n      <td>3</td>\n    </tr>\n    <tr>\n      <th>4</th>\n      <td>192985</td>\n      <td>https://sofifa.com/player/192985/kevin-de-bruy...</td>\n      <td>K. De Bruyne</td>\n      <td>Kevin De Bruyne</td>\n      <td>CM, CAM</td>\n      <td>91</td>\n      <td>91</td>\n      <td>125500000.0</td>\n      <td>350000.0</td>\n      <td>30</td>\n      <td>...</td>\n      <td>69+3</td>\n      <td>69+3</td>\n      <td>75+3</td>\n      <td>21+3</td>\n      <td>https://cdn.sofifa.net/players/192/985/22_120.png</td>\n      <td>https://cdn.sofifa.net/teams/10/60.png</td>\n      <td>https://cdn.sofifa.net/flags/gb-eng.png</td>\n      <td>https://cdn.sofifa.net/teams/1325/60.png</td>\n      <td>https://cdn.sofifa.net/flags/be.png</td>\n      <td>3</td>\n    </tr>\n    <tr>\n      <th>...</th>\n      <td>...</td>\n      <td>...</td>\n      <td>...</td>\n      <td>...</td>\n      <td>...</td>\n      <td>...</td>\n      <td>...</td>\n      <td>...</td>\n      <td>...</td>\n      <td>...</td>\n      <td>...</td>\n      <td>...</td>\n      <td>...</td>\n      <td>...</td>\n      <td>...</td>\n      <td>...</td>\n      <td>...</td>\n      <td>...</td>\n      <td>...</td>\n      <td>...</td>\n      <td>...</td>\n    </tr>\n    <tr>\n      <th>19234</th>\n      <td>261962</td>\n      <td>https://sofifa.com/player/261962/defu-song/220002</td>\n      <td>Song Defu</td>\n      <td>宋德福</td>\n      <td>CDM</td>\n      <td>47</td>\n      <td>52</td>\n      <td>70000.0</td>\n      <td>1000.0</td>\n      <td>22</td>\n      <td>...</td>\n      <td>46+2</td>\n      <td>46+2</td>\n      <td>48+2</td>\n      <td>15+2</td>\n      <td>https://cdn.sofifa.net/players/261/962/22_120.png</td>\n      <td>https://cdn.sofifa.net/teams/112541/60.png</td>\n      <td>https://cdn.sofifa.net/flags/cn.png</td>\n      <td>NaN</td>\n      <td>https://cdn.sofifa.net/flags/cn.png</td>\n      <td>0</td>\n    </tr>\n    <tr>\n      <th>19235</th>\n      <td>262040</td>\n      <td>https://sofifa.com/player/262040/caoimhin-port...</td>\n      <td>C. Porter</td>\n      <td>Caoimhin Porter</td>\n      <td>CM</td>\n      <td>47</td>\n      <td>59</td>\n      <td>110000.0</td>\n      <td>500.0</td>\n      <td>19</td>\n      <td>...</td>\n      <td>44+2</td>\n      <td>44+2</td>\n      <td>48+2</td>\n      <td>14+2</td>\n      <td>https://cdn.sofifa.net/players/262/040/22_120.png</td>\n      <td>https://cdn.sofifa.net/teams/445/60.png</td>\n      <td>https://cdn.sofifa.net/flags/ie.png</td>\n      <td>NaN</td>\n      <td>https://cdn.sofifa.net/flags/ie.png</td>\n      <td>0</td>\n    </tr>\n    <tr>\n      <th>19236</th>\n      <td>262760</td>\n      <td>https://sofifa.com/player/262760/nathan-logue/...</td>\n      <td>N. Logue</td>\n      <td>Nathan Logue-Cunningham</td>\n      <td>CM</td>\n      <td>47</td>\n      <td>55</td>\n      <td>100000.0</td>\n      <td>500.0</td>\n      <td>21</td>\n      <td>...</td>\n      <td>45+2</td>\n      <td>45+2</td>\n      <td>47+2</td>\n      <td>12+2</td>\n      <td>https://cdn.sofifa.net/players/262/760/22_120.png</td>\n      <td>https://cdn.sofifa.net/teams/111131/60.png</td>\n      <td>https://cdn.sofifa.net/flags/ie.png</td>\n      <td>NaN</td>\n      <td>https://cdn.sofifa.net/flags/ie.png</td>\n      <td>0</td>\n    </tr>\n    <tr>\n      <th>19237</th>\n      <td>262820</td>\n      <td>https://sofifa.com/player/262820/luke-rudden/2...</td>\n      <td>L. Rudden</td>\n      <td>Luke Rudden</td>\n      <td>ST</td>\n      <td>47</td>\n      <td>60</td>\n      <td>110000.0</td>\n      <td>500.0</td>\n      <td>19</td>\n      <td>...</td>\n      <td>26+2</td>\n      <td>26+2</td>\n      <td>32+2</td>\n      <td>15+2</td>\n      <td>https://cdn.sofifa.net/players/262/820/22_120.png</td>\n      <td>https://cdn.sofifa.net/teams/111131/60.png</td>\n      <td>https://cdn.sofifa.net/flags/ie.png</td>\n      <td>NaN</td>\n      <td>https://cdn.sofifa.net/flags/ie.png</td>\n      <td>0</td>\n    </tr>\n    <tr>\n      <th>19238</th>\n      <td>264540</td>\n      <td>https://sofifa.com/player/264540/emanuel-lalch...</td>\n      <td>E. Lalchhanchhuaha</td>\n      <td>Emanuel Lalchhanchhuaha</td>\n      <td>CAM</td>\n      <td>47</td>\n      <td>60</td>\n      <td>110000.0</td>\n      <td>500.0</td>\n      <td>19</td>\n      <td>...</td>\n      <td>41+2</td>\n      <td>41+2</td>\n      <td>45+2</td>\n      <td>16+2</td>\n      <td>https://cdn.sofifa.net/players/264/540/22_120.png</td>\n      <td>https://cdn.sofifa.net/teams/113040/60.png</td>\n      <td>https://cdn.sofifa.net/flags/in.png</td>\n      <td>NaN</td>\n      <td>https://cdn.sofifa.net/flags/in.png</td>\n      <td>0</td>\n    </tr>\n  </tbody>\n</table>\n<p>19239 rows × 111 columns</p>\n</div>"
     },
     "execution_count": 230,
     "metadata": {},
     "output_type": "execute_result"
    }
   ],
   "source": [
    "def categorize(row):\n",
    "    if row['value_eur'] >= 50000000:\n",
    "        return 3\n",
    "    elif row['value_eur'] >= 10000000:\n",
    "        return 2\n",
    "    elif row['value_eur'] >= 1000000:\n",
    "        return 1\n",
    "    else:\n",
    "        return 0\n",
    "\n",
    "\n",
    "df['category'] = df.apply(categorize, axis=1)\n",
    "df"
   ],
   "metadata": {
    "collapsed": false,
    "ExecuteTime": {
     "end_time": "2024-01-08T14:38:52.344768Z",
     "start_time": "2024-01-08T14:38:51.709857Z"
    }
   },
   "id": "8e2fb20a74c1563",
   "execution_count": 230
  },
  {
   "cell_type": "markdown",
   "source": [
    "Finalment, abans d'entrenar els models, hem de separar les dades en conjunt d'entrenament i conjunt de test i passar-les al format X i y."
   ],
   "metadata": {
    "collapsed": false
   },
   "id": "f74b6cf5d4e947fb"
  },
  {
   "cell_type": "code",
   "outputs": [],
   "source": [
    "from sklearn.model_selection import train_test_split\n",
    "\n",
    "df.fillna(0, inplace=True)\n",
    "\n",
    "to_drop = ['category', 'value_eur',\n",
    "           'sofifa_id', 'player_url', 'short_name', 'long_name', 'player_positions', 'dob',\n",
    "           'club_name', 'club_loaned_from', 'league_name', 'club_position', 'nation_position', 'club_joined', 'nationality_name', 'preferred_foot', 'work_rate',\n",
    "           'body_type', 'real_face', 'player_tags', 'player_traits',\n",
    "           'nation_logo_url', 'nation_flag_url', 'ls', 'st', 'rs', 'lw', 'lf', 'cf',\n",
    "           'rf', 'rw', 'lam', 'cam', 'ram', 'lm', 'lcm', 'cm', 'rcm', 'rm', 'lwb', 'ldm',\n",
    "           'cdm', 'rdm', 'rwb', 'lb', 'lcb', 'cb', 'rcb', 'rb', 'gk',\n",
    "           'player_face_url', 'club_logo_url', 'club_flag_url', 'nation_logo_url', 'nation_flag_url']\n",
    "\n",
    "X = df.drop(to_drop, axis=1)\n",
    "y = df['category']\n",
    "X_train, X_test, y_train, y_test = train_test_split(X, y, test_size=0.2, random_state=42)"
   ],
   "metadata": {
    "collapsed": false,
    "ExecuteTime": {
     "end_time": "2024-01-08T14:38:52.922920Z",
     "start_time": "2024-01-08T14:38:52.285720Z"
    }
   },
   "id": "c10f846155bca29f",
   "execution_count": 231
  },
  {
   "cell_type": "markdown",
   "source": [
    "## Human Learn (HL)\n",
    "\n",
    "Utilitza Human Learn per estimar el valor de mercat dels jugadors. Crearem un [FunctionClassifier](https://koaning.github.io/human-learn/guide/function-classifier/function-classifier.html#functionclassifier) per fer una primera estimació del valor de mercat dels jugadors.\n",
    "\n",
    "### Classificador simple\n",
    "\n",
    "Per això has de crear una funció senzilla tulitzant un paràmetre que ens permeti classificar els jugadors en aquestes categories i passar-la al `FunctionClassifier`.\n",
    "Una vegada creat el classificador, entrena'l amb les dades d'entrenament (`fit`) i mostra la seva precisió amb les dades de test (`score`)."
   ],
   "metadata": {
    "collapsed": false
   },
   "id": "584761094b2514e1"
  },
  {
   "cell_type": "code",
   "outputs": [
    {
     "data": {
      "text/plain": "array([0, 0, 0, ..., 0, 0, 0])"
     },
     "execution_count": 232,
     "metadata": {},
     "output_type": "execute_result"
    }
   ],
   "source": [],
   "metadata": {
    "collapsed": false,
    "ExecuteTime": {
     "end_time": "2024-01-08T14:38:53.141610Z",
     "start_time": "2024-01-08T14:38:52.463596Z"
    }
   },
   "id": "79e159293c9db121",
   "execution_count": 232
  },
  {
   "cell_type": "code",
   "outputs": [
    {
     "data": {
      "text/plain": "0.7305093555093555"
     },
     "execution_count": 233,
     "metadata": {},
     "output_type": "execute_result"
    }
   ],
   "source": [],
   "metadata": {
    "collapsed": false,
    "ExecuteTime": {
     "end_time": "2024-01-08T14:38:53.258332Z",
     "start_time": "2024-01-08T14:38:53.087202Z"
    }
   },
   "id": "3e12058f60426477",
   "execution_count": 233
  },
  {
   "cell_type": "markdown",
   "source": [
    "Intenta aconsseguir una precisió superior al 0.8. Pots aprofitar `GridSearchCV` per a trobar els millors paràmetres per a la funció de classificació.\n",
    "\n",
    "### Classificador amb més paràmetres\n",
    "\n",
    "Els classificadors d'un sol paràmetre són molt simples i no ens permeten aprofitar tot el potencial de Human Learn. Per això, fes una exploració interactiva de les dades per a trobar els paràmetres que ens permetin classificar millor els jugadors. Pots utilitzar `parallel_coordinates` per a fer aquesta exploració."
   ],
   "metadata": {
    "collapsed": false
   },
   "id": "3210be86fa821709"
  },
  {
   "cell_type": "markdown",
   "source": [
    "## FIGS\n",
    "\n",
    "Com hem vist a l'exemple de Titanic, FIGS genera regles fàcils d'interpretar per a classificar les dades. FIGS no permet fer una multi-classificació directament, per aixó simplificarem el problema i només classificarem els jugadors en dues categories: **Estrella** (1) i **No estrella** (0, 1, 2).\n",
    "\n",
    "En primer lloc crearem un dataframe adaptat, on els jugadors amb categoria 3 tindran categoria 1 i els jugadors amb categoria 0, 1 o 2 tindran categoria 0."
   ],
   "metadata": {
    "collapsed": false
   },
   "id": "f24e96b551971603"
  },
  {
   "cell_type": "code",
   "outputs": [
    {
     "data": {
      "text/plain": "       sofifa_id                                         player_url  \\\n0         158023  https://sofifa.com/player/158023/lionel-messi/...   \n1         188545  https://sofifa.com/player/188545/robert-lewand...   \n2          20801  https://sofifa.com/player/20801/c-ronaldo-dos-...   \n3         190871  https://sofifa.com/player/190871/neymar-da-sil...   \n4         192985  https://sofifa.com/player/192985/kevin-de-bruy...   \n...          ...                                                ...   \n19234     261962  https://sofifa.com/player/261962/defu-song/220002   \n19235     262040  https://sofifa.com/player/262040/caoimhin-port...   \n19236     262760  https://sofifa.com/player/262760/nathan-logue/...   \n19237     262820  https://sofifa.com/player/262820/luke-rudden/2...   \n19238     264540  https://sofifa.com/player/264540/emanuel-lalch...   \n\n               short_name                            long_name  \\\n0                L. Messi       Lionel Andrés Messi Cuccittini   \n1          R. Lewandowski                   Robert Lewandowski   \n2       Cristiano Ronaldo  Cristiano Ronaldo dos Santos Aveiro   \n3               Neymar Jr        Neymar da Silva Santos Júnior   \n4            K. De Bruyne                      Kevin De Bruyne   \n...                   ...                                  ...   \n19234           Song Defu                                  宋德福   \n19235           C. Porter                      Caoimhin Porter   \n19236            N. Logue              Nathan Logue-Cunningham   \n19237           L. Rudden                          Luke Rudden   \n19238  E. Lalchhanchhuaha              Emanuel Lalchhanchhuaha   \n\n      player_positions  overall  potential    value_eur  wage_eur  age  ...  \\\n0           RW, ST, CF       93         93   78000000.0  320000.0   34  ...   \n1                   ST       92         92  119500000.0  270000.0   32  ...   \n2               ST, LW       91         91   45000000.0  270000.0   36  ...   \n3              LW, CAM       91         91  129000000.0  270000.0   29  ...   \n4              CM, CAM       91         91  125500000.0  350000.0   30  ...   \n...                ...      ...        ...          ...       ...  ...  ...   \n19234              CDM       47         52      70000.0    1000.0   22  ...   \n19235               CM       47         59     110000.0     500.0   19  ...   \n19236               CM       47         55     100000.0     500.0   21  ...   \n19237               ST       47         60     110000.0     500.0   19  ...   \n19238              CAM       47         60     110000.0     500.0   19  ...   \n\n         cb   rcb    rb    gk  \\\n0      50+3  50+3  61+3  19+3   \n1      60+3  60+3  61+3  19+3   \n2      53+3  53+3  60+3  20+3   \n3      50+3  50+3  62+3  20+3   \n4      69+3  69+3  75+3  21+3   \n...     ...   ...   ...   ...   \n19234  46+2  46+2  48+2  15+2   \n19235  44+2  44+2  48+2  14+2   \n19236  45+2  45+2  47+2  12+2   \n19237  26+2  26+2  32+2  15+2   \n19238  41+2  41+2  45+2  16+2   \n\n                                         player_face_url  \\\n0      https://cdn.sofifa.net/players/158/023/22_120.png   \n1      https://cdn.sofifa.net/players/188/545/22_120.png   \n2      https://cdn.sofifa.net/players/020/801/22_120.png   \n3      https://cdn.sofifa.net/players/190/871/22_120.png   \n4      https://cdn.sofifa.net/players/192/985/22_120.png   \n...                                                  ...   \n19234  https://cdn.sofifa.net/players/261/962/22_120.png   \n19235  https://cdn.sofifa.net/players/262/040/22_120.png   \n19236  https://cdn.sofifa.net/players/262/760/22_120.png   \n19237  https://cdn.sofifa.net/players/262/820/22_120.png   \n19238  https://cdn.sofifa.net/players/264/540/22_120.png   \n\n                                    club_logo_url  \\\n0          https://cdn.sofifa.net/teams/73/60.png   \n1          https://cdn.sofifa.net/teams/21/60.png   \n2          https://cdn.sofifa.net/teams/11/60.png   \n3          https://cdn.sofifa.net/teams/73/60.png   \n4          https://cdn.sofifa.net/teams/10/60.png   \n...                                           ...   \n19234  https://cdn.sofifa.net/teams/112541/60.png   \n19235     https://cdn.sofifa.net/teams/445/60.png   \n19236  https://cdn.sofifa.net/teams/111131/60.png   \n19237  https://cdn.sofifa.net/teams/111131/60.png   \n19238  https://cdn.sofifa.net/teams/113040/60.png   \n\n                                 club_flag_url  \\\n0          https://cdn.sofifa.net/flags/fr.png   \n1          https://cdn.sofifa.net/flags/de.png   \n2      https://cdn.sofifa.net/flags/gb-eng.png   \n3          https://cdn.sofifa.net/flags/fr.png   \n4      https://cdn.sofifa.net/flags/gb-eng.png   \n...                                        ...   \n19234      https://cdn.sofifa.net/flags/cn.png   \n19235      https://cdn.sofifa.net/flags/ie.png   \n19236      https://cdn.sofifa.net/flags/ie.png   \n19237      https://cdn.sofifa.net/flags/ie.png   \n19238      https://cdn.sofifa.net/flags/in.png   \n\n                                nation_logo_url  \\\n0      https://cdn.sofifa.net/teams/1369/60.png   \n1      https://cdn.sofifa.net/teams/1353/60.png   \n2      https://cdn.sofifa.net/teams/1354/60.png   \n3                                             0   \n4      https://cdn.sofifa.net/teams/1325/60.png   \n...                                         ...   \n19234                                         0   \n19235                                         0   \n19236                                         0   \n19237                                         0   \n19238                                         0   \n\n                           nation_flag_url category  \n0      https://cdn.sofifa.net/flags/ar.png        1  \n1      https://cdn.sofifa.net/flags/pl.png        1  \n2      https://cdn.sofifa.net/flags/pt.png        0  \n3      https://cdn.sofifa.net/flags/br.png        1  \n4      https://cdn.sofifa.net/flags/be.png        1  \n...                                    ...      ...  \n19234  https://cdn.sofifa.net/flags/cn.png        0  \n19235  https://cdn.sofifa.net/flags/ie.png        0  \n19236  https://cdn.sofifa.net/flags/ie.png        0  \n19237  https://cdn.sofifa.net/flags/ie.png        0  \n19238  https://cdn.sofifa.net/flags/in.png        0  \n\n[19239 rows x 111 columns]",
      "text/html": "<div>\n<style scoped>\n    .dataframe tbody tr th:only-of-type {\n        vertical-align: middle;\n    }\n\n    .dataframe tbody tr th {\n        vertical-align: top;\n    }\n\n    .dataframe thead th {\n        text-align: right;\n    }\n</style>\n<table border=\"1\" class=\"dataframe\">\n  <thead>\n    <tr style=\"text-align: right;\">\n      <th></th>\n      <th>sofifa_id</th>\n      <th>player_url</th>\n      <th>short_name</th>\n      <th>long_name</th>\n      <th>player_positions</th>\n      <th>overall</th>\n      <th>potential</th>\n      <th>value_eur</th>\n      <th>wage_eur</th>\n      <th>age</th>\n      <th>...</th>\n      <th>cb</th>\n      <th>rcb</th>\n      <th>rb</th>\n      <th>gk</th>\n      <th>player_face_url</th>\n      <th>club_logo_url</th>\n      <th>club_flag_url</th>\n      <th>nation_logo_url</th>\n      <th>nation_flag_url</th>\n      <th>category</th>\n    </tr>\n  </thead>\n  <tbody>\n    <tr>\n      <th>0</th>\n      <td>158023</td>\n      <td>https://sofifa.com/player/158023/lionel-messi/...</td>\n      <td>L. Messi</td>\n      <td>Lionel Andrés Messi Cuccittini</td>\n      <td>RW, ST, CF</td>\n      <td>93</td>\n      <td>93</td>\n      <td>78000000.0</td>\n      <td>320000.0</td>\n      <td>34</td>\n      <td>...</td>\n      <td>50+3</td>\n      <td>50+3</td>\n      <td>61+3</td>\n      <td>19+3</td>\n      <td>https://cdn.sofifa.net/players/158/023/22_120.png</td>\n      <td>https://cdn.sofifa.net/teams/73/60.png</td>\n      <td>https://cdn.sofifa.net/flags/fr.png</td>\n      <td>https://cdn.sofifa.net/teams/1369/60.png</td>\n      <td>https://cdn.sofifa.net/flags/ar.png</td>\n      <td>1</td>\n    </tr>\n    <tr>\n      <th>1</th>\n      <td>188545</td>\n      <td>https://sofifa.com/player/188545/robert-lewand...</td>\n      <td>R. Lewandowski</td>\n      <td>Robert Lewandowski</td>\n      <td>ST</td>\n      <td>92</td>\n      <td>92</td>\n      <td>119500000.0</td>\n      <td>270000.0</td>\n      <td>32</td>\n      <td>...</td>\n      <td>60+3</td>\n      <td>60+3</td>\n      <td>61+3</td>\n      <td>19+3</td>\n      <td>https://cdn.sofifa.net/players/188/545/22_120.png</td>\n      <td>https://cdn.sofifa.net/teams/21/60.png</td>\n      <td>https://cdn.sofifa.net/flags/de.png</td>\n      <td>https://cdn.sofifa.net/teams/1353/60.png</td>\n      <td>https://cdn.sofifa.net/flags/pl.png</td>\n      <td>1</td>\n    </tr>\n    <tr>\n      <th>2</th>\n      <td>20801</td>\n      <td>https://sofifa.com/player/20801/c-ronaldo-dos-...</td>\n      <td>Cristiano Ronaldo</td>\n      <td>Cristiano Ronaldo dos Santos Aveiro</td>\n      <td>ST, LW</td>\n      <td>91</td>\n      <td>91</td>\n      <td>45000000.0</td>\n      <td>270000.0</td>\n      <td>36</td>\n      <td>...</td>\n      <td>53+3</td>\n      <td>53+3</td>\n      <td>60+3</td>\n      <td>20+3</td>\n      <td>https://cdn.sofifa.net/players/020/801/22_120.png</td>\n      <td>https://cdn.sofifa.net/teams/11/60.png</td>\n      <td>https://cdn.sofifa.net/flags/gb-eng.png</td>\n      <td>https://cdn.sofifa.net/teams/1354/60.png</td>\n      <td>https://cdn.sofifa.net/flags/pt.png</td>\n      <td>0</td>\n    </tr>\n    <tr>\n      <th>3</th>\n      <td>190871</td>\n      <td>https://sofifa.com/player/190871/neymar-da-sil...</td>\n      <td>Neymar Jr</td>\n      <td>Neymar da Silva Santos Júnior</td>\n      <td>LW, CAM</td>\n      <td>91</td>\n      <td>91</td>\n      <td>129000000.0</td>\n      <td>270000.0</td>\n      <td>29</td>\n      <td>...</td>\n      <td>50+3</td>\n      <td>50+3</td>\n      <td>62+3</td>\n      <td>20+3</td>\n      <td>https://cdn.sofifa.net/players/190/871/22_120.png</td>\n      <td>https://cdn.sofifa.net/teams/73/60.png</td>\n      <td>https://cdn.sofifa.net/flags/fr.png</td>\n      <td>0</td>\n      <td>https://cdn.sofifa.net/flags/br.png</td>\n      <td>1</td>\n    </tr>\n    <tr>\n      <th>4</th>\n      <td>192985</td>\n      <td>https://sofifa.com/player/192985/kevin-de-bruy...</td>\n      <td>K. De Bruyne</td>\n      <td>Kevin De Bruyne</td>\n      <td>CM, CAM</td>\n      <td>91</td>\n      <td>91</td>\n      <td>125500000.0</td>\n      <td>350000.0</td>\n      <td>30</td>\n      <td>...</td>\n      <td>69+3</td>\n      <td>69+3</td>\n      <td>75+3</td>\n      <td>21+3</td>\n      <td>https://cdn.sofifa.net/players/192/985/22_120.png</td>\n      <td>https://cdn.sofifa.net/teams/10/60.png</td>\n      <td>https://cdn.sofifa.net/flags/gb-eng.png</td>\n      <td>https://cdn.sofifa.net/teams/1325/60.png</td>\n      <td>https://cdn.sofifa.net/flags/be.png</td>\n      <td>1</td>\n    </tr>\n    <tr>\n      <th>...</th>\n      <td>...</td>\n      <td>...</td>\n      <td>...</td>\n      <td>...</td>\n      <td>...</td>\n      <td>...</td>\n      <td>...</td>\n      <td>...</td>\n      <td>...</td>\n      <td>...</td>\n      <td>...</td>\n      <td>...</td>\n      <td>...</td>\n      <td>...</td>\n      <td>...</td>\n      <td>...</td>\n      <td>...</td>\n      <td>...</td>\n      <td>...</td>\n      <td>...</td>\n      <td>...</td>\n    </tr>\n    <tr>\n      <th>19234</th>\n      <td>261962</td>\n      <td>https://sofifa.com/player/261962/defu-song/220002</td>\n      <td>Song Defu</td>\n      <td>宋德福</td>\n      <td>CDM</td>\n      <td>47</td>\n      <td>52</td>\n      <td>70000.0</td>\n      <td>1000.0</td>\n      <td>22</td>\n      <td>...</td>\n      <td>46+2</td>\n      <td>46+2</td>\n      <td>48+2</td>\n      <td>15+2</td>\n      <td>https://cdn.sofifa.net/players/261/962/22_120.png</td>\n      <td>https://cdn.sofifa.net/teams/112541/60.png</td>\n      <td>https://cdn.sofifa.net/flags/cn.png</td>\n      <td>0</td>\n      <td>https://cdn.sofifa.net/flags/cn.png</td>\n      <td>0</td>\n    </tr>\n    <tr>\n      <th>19235</th>\n      <td>262040</td>\n      <td>https://sofifa.com/player/262040/caoimhin-port...</td>\n      <td>C. Porter</td>\n      <td>Caoimhin Porter</td>\n      <td>CM</td>\n      <td>47</td>\n      <td>59</td>\n      <td>110000.0</td>\n      <td>500.0</td>\n      <td>19</td>\n      <td>...</td>\n      <td>44+2</td>\n      <td>44+2</td>\n      <td>48+2</td>\n      <td>14+2</td>\n      <td>https://cdn.sofifa.net/players/262/040/22_120.png</td>\n      <td>https://cdn.sofifa.net/teams/445/60.png</td>\n      <td>https://cdn.sofifa.net/flags/ie.png</td>\n      <td>0</td>\n      <td>https://cdn.sofifa.net/flags/ie.png</td>\n      <td>0</td>\n    </tr>\n    <tr>\n      <th>19236</th>\n      <td>262760</td>\n      <td>https://sofifa.com/player/262760/nathan-logue/...</td>\n      <td>N. Logue</td>\n      <td>Nathan Logue-Cunningham</td>\n      <td>CM</td>\n      <td>47</td>\n      <td>55</td>\n      <td>100000.0</td>\n      <td>500.0</td>\n      <td>21</td>\n      <td>...</td>\n      <td>45+2</td>\n      <td>45+2</td>\n      <td>47+2</td>\n      <td>12+2</td>\n      <td>https://cdn.sofifa.net/players/262/760/22_120.png</td>\n      <td>https://cdn.sofifa.net/teams/111131/60.png</td>\n      <td>https://cdn.sofifa.net/flags/ie.png</td>\n      <td>0</td>\n      <td>https://cdn.sofifa.net/flags/ie.png</td>\n      <td>0</td>\n    </tr>\n    <tr>\n      <th>19237</th>\n      <td>262820</td>\n      <td>https://sofifa.com/player/262820/luke-rudden/2...</td>\n      <td>L. Rudden</td>\n      <td>Luke Rudden</td>\n      <td>ST</td>\n      <td>47</td>\n      <td>60</td>\n      <td>110000.0</td>\n      <td>500.0</td>\n      <td>19</td>\n      <td>...</td>\n      <td>26+2</td>\n      <td>26+2</td>\n      <td>32+2</td>\n      <td>15+2</td>\n      <td>https://cdn.sofifa.net/players/262/820/22_120.png</td>\n      <td>https://cdn.sofifa.net/teams/111131/60.png</td>\n      <td>https://cdn.sofifa.net/flags/ie.png</td>\n      <td>0</td>\n      <td>https://cdn.sofifa.net/flags/ie.png</td>\n      <td>0</td>\n    </tr>\n    <tr>\n      <th>19238</th>\n      <td>264540</td>\n      <td>https://sofifa.com/player/264540/emanuel-lalch...</td>\n      <td>E. Lalchhanchhuaha</td>\n      <td>Emanuel Lalchhanchhuaha</td>\n      <td>CAM</td>\n      <td>47</td>\n      <td>60</td>\n      <td>110000.0</td>\n      <td>500.0</td>\n      <td>19</td>\n      <td>...</td>\n      <td>41+2</td>\n      <td>41+2</td>\n      <td>45+2</td>\n      <td>16+2</td>\n      <td>https://cdn.sofifa.net/players/264/540/22_120.png</td>\n      <td>https://cdn.sofifa.net/teams/113040/60.png</td>\n      <td>https://cdn.sofifa.net/flags/in.png</td>\n      <td>0</td>\n      <td>https://cdn.sofifa.net/flags/in.png</td>\n      <td>0</td>\n    </tr>\n  </tbody>\n</table>\n<p>19239 rows × 111 columns</p>\n</div>"
     },
     "execution_count": 235,
     "metadata": {},
     "output_type": "execute_result"
    }
   ],
   "source": [
    "df_skope = df.copy()"
   ],
   "metadata": {
    "collapsed": false,
    "ExecuteTime": {
     "end_time": "2024-01-08T14:38:53.532999Z",
     "start_time": "2024-01-08T14:38:53.212237Z"
    }
   },
   "id": "227259ac0ac2c25f",
   "execution_count": 235
  },
  {
   "cell_type": "markdown",
   "source": [
    "Per a entrenar el classificador, primer hem de separar les dades en conjunt d'entrenament i conjunt de test i passar-les al format X i y."
   ],
   "metadata": {
    "collapsed": false
   },
   "id": "a11aa2d73399d54b"
  },
  {
   "cell_type": "code",
   "outputs": [],
   "source": [
    "X = df_skope.drop(to_drop, axis=1)\n",
    "y = df_skope['category']\n",
    "X_train, X_test, y_train, y_test = train_test_split(X, y, test_size=0.2, random_state=42)"
   ],
   "metadata": {
    "collapsed": false,
    "ExecuteTime": {
     "end_time": "2024-01-08T14:38:53.592676Z",
     "start_time": "2024-01-08T14:38:53.334122Z"
    }
   },
   "id": "6d5ee24fe03aea26",
   "execution_count": 236
  },
  {
   "cell_type": "code",
   "outputs": [
    {
     "name": "stdout",
     "output_type": "stream",
     "text": [
      "Requirement already satisfied: imodels in /Users/carlesgm/DataspellProjects/Notebooks/venv/lib/python3.11/site-packages (1.4.1)\r\n",
      "Requirement already satisfied: matplotlib in /Users/carlesgm/DataspellProjects/Notebooks/venv/lib/python3.11/site-packages (from imodels) (3.8.0)\r\n",
      "Requirement already satisfied: mlxtend>=0.18.0 in /Users/carlesgm/DataspellProjects/Notebooks/venv/lib/python3.11/site-packages (from imodels) (0.23.1)\r\n",
      "Requirement already satisfied: numpy in /Users/carlesgm/DataspellProjects/Notebooks/venv/lib/python3.11/site-packages (from imodels) (1.23.4)\r\n",
      "Requirement already satisfied: pandas in /Users/carlesgm/DataspellProjects/Notebooks/venv/lib/python3.11/site-packages (from imodels) (2.1.1)\r\n",
      "Requirement already satisfied: requests in /Users/carlesgm/DataspellProjects/Notebooks/venv/lib/python3.11/site-packages (from imodels) (2.31.0)\r\n",
      "Requirement already satisfied: scipy in /Users/carlesgm/DataspellProjects/Notebooks/venv/lib/python3.11/site-packages (from imodels) (1.11.2)\r\n",
      "Requirement already satisfied: scikit-learn in /Users/carlesgm/DataspellProjects/Notebooks/venv/lib/python3.11/site-packages (from imodels) (1.3.1)\r\n",
      "Requirement already satisfied: tqdm in /Users/carlesgm/DataspellProjects/Notebooks/venv/lib/python3.11/site-packages (from imodels) (4.66.1)\r\n",
      "Requirement already satisfied: joblib>=0.13.2 in /Users/carlesgm/DataspellProjects/Notebooks/venv/lib/python3.11/site-packages (from mlxtend>=0.18.0->imodels) (1.3.2)\r\n",
      "Requirement already satisfied: contourpy>=1.0.1 in /Users/carlesgm/DataspellProjects/Notebooks/venv/lib/python3.11/site-packages (from matplotlib->imodels) (1.1.1)\r\n",
      "Requirement already satisfied: cycler>=0.10 in /Users/carlesgm/DataspellProjects/Notebooks/venv/lib/python3.11/site-packages (from matplotlib->imodels) (0.11.0)\r\n",
      "Requirement already satisfied: fonttools>=4.22.0 in /Users/carlesgm/DataspellProjects/Notebooks/venv/lib/python3.11/site-packages (from matplotlib->imodels) (4.42.1)\r\n",
      "Requirement already satisfied: kiwisolver>=1.0.1 in /Users/carlesgm/DataspellProjects/Notebooks/venv/lib/python3.11/site-packages (from matplotlib->imodels) (1.4.5)\r\n",
      "Requirement already satisfied: packaging>=20.0 in /Users/carlesgm/DataspellProjects/Notebooks/venv/lib/python3.11/site-packages (from matplotlib->imodels) (23.1)\r\n",
      "Requirement already satisfied: pillow>=6.2.0 in /Users/carlesgm/DataspellProjects/Notebooks/venv/lib/python3.11/site-packages (from matplotlib->imodels) (10.0.1)\r\n",
      "Requirement already satisfied: pyparsing>=2.3.1 in /Users/carlesgm/DataspellProjects/Notebooks/venv/lib/python3.11/site-packages (from matplotlib->imodels) (3.1.1)\r\n",
      "Requirement already satisfied: python-dateutil>=2.7 in /Users/carlesgm/DataspellProjects/Notebooks/venv/lib/python3.11/site-packages (from matplotlib->imodels) (2.8.2)\r\n",
      "Requirement already satisfied: pytz>=2020.1 in /Users/carlesgm/DataspellProjects/Notebooks/venv/lib/python3.11/site-packages (from pandas->imodels) (2023.3.post1)\r\n",
      "Requirement already satisfied: tzdata>=2022.1 in /Users/carlesgm/DataspellProjects/Notebooks/venv/lib/python3.11/site-packages (from pandas->imodels) (2023.3)\r\n",
      "Requirement already satisfied: threadpoolctl>=2.0.0 in /Users/carlesgm/DataspellProjects/Notebooks/venv/lib/python3.11/site-packages (from scikit-learn->imodels) (3.2.0)\r\n",
      "Requirement already satisfied: charset-normalizer<4,>=2 in /Users/carlesgm/DataspellProjects/Notebooks/venv/lib/python3.11/site-packages (from requests->imodels) (3.2.0)\r\n",
      "Requirement already satisfied: idna<4,>=2.5 in /Users/carlesgm/DataspellProjects/Notebooks/venv/lib/python3.11/site-packages (from requests->imodels) (3.4)\r\n",
      "Requirement already satisfied: urllib3<3,>=1.21.1 in /Users/carlesgm/DataspellProjects/Notebooks/venv/lib/python3.11/site-packages (from requests->imodels) (1.26.16)\r\n",
      "Requirement already satisfied: certifi>=2017.4.17 in /Users/carlesgm/DataspellProjects/Notebooks/venv/lib/python3.11/site-packages (from requests->imodels) (2023.7.22)\r\n",
      "Requirement already satisfied: six>=1.5 in /Users/carlesgm/DataspellProjects/Notebooks/venv/lib/python3.11/site-packages (from python-dateutil>=2.7->matplotlib->imodels) (1.16.0)\r\n",
      "\r\n",
      "\u001B[1m[\u001B[0m\u001B[34;49mnotice\u001B[0m\u001B[1;39;49m]\u001B[0m\u001B[39;49m A new release of pip available: \u001B[0m\u001B[31;49m22.3.1\u001B[0m\u001B[39;49m -> \u001B[0m\u001B[32;49m23.3.2\u001B[0m\r\n",
      "\u001B[1m[\u001B[0m\u001B[34;49mnotice\u001B[0m\u001B[1;39;49m]\u001B[0m\u001B[39;49m To update, run: \u001B[0m\u001B[32;49mpip install --upgrade pip\u001B[0m\r\n"
     ]
    }
   ],
   "source": [
    "# instal·lem la llibreria\n",
    "!pip install imodels "
   ],
   "metadata": {
    "collapsed": false,
    "ExecuteTime": {
     "end_time": "2024-01-08T14:40:45.150380Z",
     "start_time": "2024-01-08T14:40:32.855540Z"
    }
   },
   "id": "fd405e39b8c0948f",
   "execution_count": 243
  },
  {
   "cell_type": "code",
   "outputs": [],
   "source": [
    "# Carreguem la llibreria\n",
    "from imodels import FIGSClassifier"
   ],
   "metadata": {
    "collapsed": false,
    "ExecuteTime": {
     "end_time": "2024-01-08T14:40:45.209239Z",
     "start_time": "2024-01-08T14:40:45.160055Z"
    }
   },
   "id": "fb6d4bad9a488541",
   "execution_count": 244
  },
  {
   "cell_type": "markdown",
   "source": [
    "Crea un classificador d'imodels' i entrena'l amb les dades d'entrenament (`fit`). Després mostra la precisió del classificador amb les dades de test (`score`)."
   ],
   "metadata": {
    "collapsed": false
   },
   "id": "e91e73182b417a51"
  },
  {
   "cell_type": "code",
   "outputs": [],
   "source": [
    "# Creem el classificador"
   ],
   "metadata": {
    "collapsed": false,
    "ExecuteTime": {
     "end_time": "2024-01-08T14:41:15.979816Z",
     "start_time": "2024-01-08T14:41:15.948515Z"
    }
   },
   "id": "3c7c51ae1cc81170",
   "execution_count": 245
  },
  {
   "cell_type": "code",
   "outputs": [
    {
     "data": {
      "text/plain": "FIGSClassifier(max_rules=4)",
      "text/html": "<style>#sk-container-id-8 {color: black;}#sk-container-id-8 pre{padding: 0;}#sk-container-id-8 div.sk-toggleable {background-color: white;}#sk-container-id-8 label.sk-toggleable__label {cursor: pointer;display: block;width: 100%;margin-bottom: 0;padding: 0.3em;box-sizing: border-box;text-align: center;}#sk-container-id-8 label.sk-toggleable__label-arrow:before {content: \"▸\";float: left;margin-right: 0.25em;color: #696969;}#sk-container-id-8 label.sk-toggleable__label-arrow:hover:before {color: black;}#sk-container-id-8 div.sk-estimator:hover label.sk-toggleable__label-arrow:before {color: black;}#sk-container-id-8 div.sk-toggleable__content {max-height: 0;max-width: 0;overflow: hidden;text-align: left;background-color: #f0f8ff;}#sk-container-id-8 div.sk-toggleable__content pre {margin: 0.2em;color: black;border-radius: 0.25em;background-color: #f0f8ff;}#sk-container-id-8 input.sk-toggleable__control:checked~div.sk-toggleable__content {max-height: 200px;max-width: 100%;overflow: auto;}#sk-container-id-8 input.sk-toggleable__control:checked~label.sk-toggleable__label-arrow:before {content: \"▾\";}#sk-container-id-8 div.sk-estimator input.sk-toggleable__control:checked~label.sk-toggleable__label {background-color: #d4ebff;}#sk-container-id-8 div.sk-label input.sk-toggleable__control:checked~label.sk-toggleable__label {background-color: #d4ebff;}#sk-container-id-8 input.sk-hidden--visually {border: 0;clip: rect(1px 1px 1px 1px);clip: rect(1px, 1px, 1px, 1px);height: 1px;margin: -1px;overflow: hidden;padding: 0;position: absolute;width: 1px;}#sk-container-id-8 div.sk-estimator {font-family: monospace;background-color: #f0f8ff;border: 1px dotted black;border-radius: 0.25em;box-sizing: border-box;margin-bottom: 0.5em;}#sk-container-id-8 div.sk-estimator:hover {background-color: #d4ebff;}#sk-container-id-8 div.sk-parallel-item::after {content: \"\";width: 100%;border-bottom: 1px solid gray;flex-grow: 1;}#sk-container-id-8 div.sk-label:hover label.sk-toggleable__label {background-color: #d4ebff;}#sk-container-id-8 div.sk-serial::before {content: \"\";position: absolute;border-left: 1px solid gray;box-sizing: border-box;top: 0;bottom: 0;left: 50%;z-index: 0;}#sk-container-id-8 div.sk-serial {display: flex;flex-direction: column;align-items: center;background-color: white;padding-right: 0.2em;padding-left: 0.2em;position: relative;}#sk-container-id-8 div.sk-item {position: relative;z-index: 1;}#sk-container-id-8 div.sk-parallel {display: flex;align-items: stretch;justify-content: center;background-color: white;position: relative;}#sk-container-id-8 div.sk-item::before, #sk-container-id-8 div.sk-parallel-item::before {content: \"\";position: absolute;border-left: 1px solid gray;box-sizing: border-box;top: 0;bottom: 0;left: 50%;z-index: -1;}#sk-container-id-8 div.sk-parallel-item {display: flex;flex-direction: column;z-index: 1;position: relative;background-color: white;}#sk-container-id-8 div.sk-parallel-item:first-child::after {align-self: flex-end;width: 50%;}#sk-container-id-8 div.sk-parallel-item:last-child::after {align-self: flex-start;width: 50%;}#sk-container-id-8 div.sk-parallel-item:only-child::after {width: 0;}#sk-container-id-8 div.sk-dashed-wrapped {border: 1px dashed gray;margin: 0 0.4em 0.5em 0.4em;box-sizing: border-box;padding-bottom: 0.4em;background-color: white;}#sk-container-id-8 div.sk-label label {font-family: monospace;font-weight: bold;display: inline-block;line-height: 1.2em;}#sk-container-id-8 div.sk-label-container {text-align: center;}#sk-container-id-8 div.sk-container {/* jupyter's `normalize.less` sets `[hidden] { display: none; }` but bootstrap.min.css set `[hidden] { display: none !important; }` so we also need the `!important` here to be able to override the default hidden behavior on the sphinx rendered scikit-learn.org. See: https://github.com/scikit-learn/scikit-learn/issues/21755 */display: inline-block !important;position: relative;}#sk-container-id-8 div.sk-text-repr-fallback {display: none;}</style><div id=\"sk-container-id-8\" class=\"sk-top-container\"><div class=\"sk-text-repr-fallback\"><pre>&gt; ------------------------------\n&gt; FIGS-Fast Interpretable Greedy-Tree Sums:\n&gt; \tPredictions are made by summing the &quot;Val&quot; reached by traversing each tree.\n&gt; \tFor classifiers, a sigmoid function is then applied to the sum.\n&gt; ------------------------------\nrelease_clause_eur &lt;= 96150000.000 (Tree #0 root)\n\tVal: 0.000 (leaf)\n\trelease_clause_eur &lt;= 105600000.000 (split)\n\t\tclub_team_id &lt;= 136.000 (split)\n\t\t\tVal: 1.000 (leaf)\n\t\t\tgoalkeeping_positioning &lt;= 10.000 (split)\n\t\t\t\tVal: 0.000 (leaf)\n\t\t\t\tVal: 1.000 (leaf)\n\t\tVal: 1.000 (leaf)\n</pre><b>In a Jupyter environment, please rerun this cell to show the HTML representation or trust the notebook. <br />On GitHub, the HTML representation is unable to render, please try loading this page with nbviewer.org.</b></div><div class=\"sk-container\" hidden><div class=\"sk-item\"><div class=\"sk-estimator sk-toggleable\"><input class=\"sk-toggleable__control sk-hidden--visually\" id=\"sk-estimator-id-8\" type=\"checkbox\" checked><label for=\"sk-estimator-id-8\" class=\"sk-toggleable__label sk-toggleable__label-arrow\">FIGSClassifier</label><div class=\"sk-toggleable__content\"><pre>&gt; ------------------------------\n&gt; FIGS-Fast Interpretable Greedy-Tree Sums:\n&gt; \tPredictions are made by summing the &quot;Val&quot; reached by traversing each tree.\n&gt; \tFor classifiers, a sigmoid function is then applied to the sum.\n&gt; ------------------------------\nrelease_clause_eur &lt;= 96150000.000 (Tree #0 root)\n\tVal: 0.000 (leaf)\n\trelease_clause_eur &lt;= 105600000.000 (split)\n\t\tclub_team_id &lt;= 136.000 (split)\n\t\t\tVal: 1.000 (leaf)\n\t\t\tgoalkeeping_positioning &lt;= 10.000 (split)\n\t\t\t\tVal: 0.000 (leaf)\n\t\t\t\tVal: 1.000 (leaf)\n\t\tVal: 1.000 (leaf)\n</pre></div></div></div></div></div>"
     },
     "execution_count": 246,
     "metadata": {},
     "output_type": "execute_result"
    }
   ],
   "source": [
    "# L'entrenem"
   ],
   "metadata": {
    "collapsed": false,
    "ExecuteTime": {
     "end_time": "2024-01-08T14:41:20.232848Z",
     "start_time": "2024-01-08T14:41:18.668011Z"
    }
   },
   "id": "847d9667ef53ffcf",
   "execution_count": 246
  },
  {
   "cell_type": "code",
   "outputs": [
    {
     "data": {
      "text/plain": "array([0, 0, 0, ..., 0, 0, 0])"
     },
     "execution_count": 247,
     "metadata": {},
     "output_type": "execute_result"
    }
   ],
   "source": [],
   "metadata": {
    "collapsed": false,
    "ExecuteTime": {
     "end_time": "2024-01-08T14:41:26.035122Z",
     "start_time": "2024-01-08T14:41:25.991891Z"
    }
   },
   "id": "ab32e1ce2881d3bb",
   "execution_count": 247
  },
  {
   "cell_type": "code",
   "outputs": [
    {
     "data": {
      "text/plain": "0.9987006237006237"
     },
     "execution_count": 248,
     "metadata": {},
     "output_type": "execute_result"
    }
   ],
   "source": [],
   "metadata": {
    "collapsed": false,
    "ExecuteTime": {
     "end_time": "2024-01-08T14:41:30.241724Z",
     "start_time": "2024-01-08T14:41:30.208648Z"
    }
   },
   "id": "6c0b7ea905e5f5cf",
   "execution_count": 248
  },
  {
   "cell_type": "markdown",
   "source": [
    "Podem veure que el classificador ha aconseguit una precisió molt alta. Això és degut a que hi ha dades que son molt aclaridores, com pot ser la clausula de rescissió, el valor general, el potencial, el sou o el valor de mercat. Per això, hem de tenir en compte que aquestes dades no estaran disponibles per a jugadors emergents i per tant el nostre classificador no serà tan precís.\n",
    "\n",
    "Llevarem totes aquestes dades i tornarem a entrenar el classificador."
   ],
   "metadata": {
    "collapsed": false
   },
   "id": "7aeb6f7fe951ce98"
  },
  {
   "cell_type": "code",
   "outputs": [
    {
     "data": {
      "text/plain": "FIGSClassifier(max_rules=4)",
      "text/html": "<style>#sk-container-id-11 {color: black;}#sk-container-id-11 pre{padding: 0;}#sk-container-id-11 div.sk-toggleable {background-color: white;}#sk-container-id-11 label.sk-toggleable__label {cursor: pointer;display: block;width: 100%;margin-bottom: 0;padding: 0.3em;box-sizing: border-box;text-align: center;}#sk-container-id-11 label.sk-toggleable__label-arrow:before {content: \"▸\";float: left;margin-right: 0.25em;color: #696969;}#sk-container-id-11 label.sk-toggleable__label-arrow:hover:before {color: black;}#sk-container-id-11 div.sk-estimator:hover label.sk-toggleable__label-arrow:before {color: black;}#sk-container-id-11 div.sk-toggleable__content {max-height: 0;max-width: 0;overflow: hidden;text-align: left;background-color: #f0f8ff;}#sk-container-id-11 div.sk-toggleable__content pre {margin: 0.2em;color: black;border-radius: 0.25em;background-color: #f0f8ff;}#sk-container-id-11 input.sk-toggleable__control:checked~div.sk-toggleable__content {max-height: 200px;max-width: 100%;overflow: auto;}#sk-container-id-11 input.sk-toggleable__control:checked~label.sk-toggleable__label-arrow:before {content: \"▾\";}#sk-container-id-11 div.sk-estimator input.sk-toggleable__control:checked~label.sk-toggleable__label {background-color: #d4ebff;}#sk-container-id-11 div.sk-label input.sk-toggleable__control:checked~label.sk-toggleable__label {background-color: #d4ebff;}#sk-container-id-11 input.sk-hidden--visually {border: 0;clip: rect(1px 1px 1px 1px);clip: rect(1px, 1px, 1px, 1px);height: 1px;margin: -1px;overflow: hidden;padding: 0;position: absolute;width: 1px;}#sk-container-id-11 div.sk-estimator {font-family: monospace;background-color: #f0f8ff;border: 1px dotted black;border-radius: 0.25em;box-sizing: border-box;margin-bottom: 0.5em;}#sk-container-id-11 div.sk-estimator:hover {background-color: #d4ebff;}#sk-container-id-11 div.sk-parallel-item::after {content: \"\";width: 100%;border-bottom: 1px solid gray;flex-grow: 1;}#sk-container-id-11 div.sk-label:hover label.sk-toggleable__label {background-color: #d4ebff;}#sk-container-id-11 div.sk-serial::before {content: \"\";position: absolute;border-left: 1px solid gray;box-sizing: border-box;top: 0;bottom: 0;left: 50%;z-index: 0;}#sk-container-id-11 div.sk-serial {display: flex;flex-direction: column;align-items: center;background-color: white;padding-right: 0.2em;padding-left: 0.2em;position: relative;}#sk-container-id-11 div.sk-item {position: relative;z-index: 1;}#sk-container-id-11 div.sk-parallel {display: flex;align-items: stretch;justify-content: center;background-color: white;position: relative;}#sk-container-id-11 div.sk-item::before, #sk-container-id-11 div.sk-parallel-item::before {content: \"\";position: absolute;border-left: 1px solid gray;box-sizing: border-box;top: 0;bottom: 0;left: 50%;z-index: -1;}#sk-container-id-11 div.sk-parallel-item {display: flex;flex-direction: column;z-index: 1;position: relative;background-color: white;}#sk-container-id-11 div.sk-parallel-item:first-child::after {align-self: flex-end;width: 50%;}#sk-container-id-11 div.sk-parallel-item:last-child::after {align-self: flex-start;width: 50%;}#sk-container-id-11 div.sk-parallel-item:only-child::after {width: 0;}#sk-container-id-11 div.sk-dashed-wrapped {border: 1px dashed gray;margin: 0 0.4em 0.5em 0.4em;box-sizing: border-box;padding-bottom: 0.4em;background-color: white;}#sk-container-id-11 div.sk-label label {font-family: monospace;font-weight: bold;display: inline-block;line-height: 1.2em;}#sk-container-id-11 div.sk-label-container {text-align: center;}#sk-container-id-11 div.sk-container {/* jupyter's `normalize.less` sets `[hidden] { display: none; }` but bootstrap.min.css set `[hidden] { display: none !important; }` so we also need the `!important` here to be able to override the default hidden behavior on the sphinx rendered scikit-learn.org. See: https://github.com/scikit-learn/scikit-learn/issues/21755 */display: inline-block !important;position: relative;}#sk-container-id-11 div.sk-text-repr-fallback {display: none;}</style><div id=\"sk-container-id-11\" class=\"sk-top-container\"><div class=\"sk-text-repr-fallback\"><pre>&gt; ------------------------------\n&gt; FIGS-Fast Interpretable Greedy-Tree Sums:\n&gt; \tPredictions are made by summing the &quot;Val&quot; reached by traversing each tree.\n&gt; \tFor classifiers, a sigmoid function is then applied to the sum.\n&gt; ------------------------------\nmovement_reactions &lt;= 82.500 (Tree #0 root)\n\tVal: 0.001 (leaf)\n\tage &lt;= 27.500 (split)\n\t\tVal: 0.672 (leaf)\n\t\tVal: 0.253 (leaf)\n\n\t+\nmovement_reactions &lt;= 86.500 (Tree #1 root)\n\tVal: -0.001 (leaf)\n\tage &lt;= 33.500 (split)\n\t\tVal: 0.501 (leaf)\n\t\tVal: -0.253 (leaf)\n</pre><b>In a Jupyter environment, please rerun this cell to show the HTML representation or trust the notebook. <br />On GitHub, the HTML representation is unable to render, please try loading this page with nbviewer.org.</b></div><div class=\"sk-container\" hidden><div class=\"sk-item\"><div class=\"sk-estimator sk-toggleable\"><input class=\"sk-toggleable__control sk-hidden--visually\" id=\"sk-estimator-id-11\" type=\"checkbox\" checked><label for=\"sk-estimator-id-11\" class=\"sk-toggleable__label sk-toggleable__label-arrow\">FIGSClassifier</label><div class=\"sk-toggleable__content\"><pre>&gt; ------------------------------\n&gt; FIGS-Fast Interpretable Greedy-Tree Sums:\n&gt; \tPredictions are made by summing the &quot;Val&quot; reached by traversing each tree.\n&gt; \tFor classifiers, a sigmoid function is then applied to the sum.\n&gt; ------------------------------\nmovement_reactions &lt;= 82.500 (Tree #0 root)\n\tVal: 0.001 (leaf)\n\tage &lt;= 27.500 (split)\n\t\tVal: 0.672 (leaf)\n\t\tVal: 0.253 (leaf)\n\n\t+\nmovement_reactions &lt;= 86.500 (Tree #1 root)\n\tVal: -0.001 (leaf)\n\tage &lt;= 33.500 (split)\n\t\tVal: 0.501 (leaf)\n\t\tVal: -0.253 (leaf)\n</pre></div></div></div></div></div>"
     },
     "execution_count": 254,
     "metadata": {},
     "output_type": "execute_result"
    }
   ],
   "source": [],
   "metadata": {
    "collapsed": false,
    "ExecuteTime": {
     "end_time": "2024-01-08T14:49:26.832457Z",
     "start_time": "2024-01-08T14:49:25.650644Z"
    }
   },
   "id": "b6a5ce0997083186",
   "execution_count": 254
  },
  {
   "cell_type": "code",
   "outputs": [
    {
     "data": {
      "text/plain": "0.9968814968814969"
     },
     "execution_count": 255,
     "metadata": {},
     "output_type": "execute_result"
    }
   ],
   "source": [],
   "metadata": {
    "collapsed": false,
    "ExecuteTime": {
     "end_time": "2024-01-08T14:49:26.901906Z",
     "start_time": "2024-01-08T14:49:26.839592Z"
    }
   },
   "id": "2e4eb725234c91ea",
   "execution_count": 255
  },
  {
   "cell_type": "code",
   "outputs": [],
   "source": [],
   "metadata": {
    "collapsed": false
   },
   "id": "8c015751ffa95f4"
  }
 ],
 "metadata": {
  "kernelspec": {
   "display_name": "Python 3",
   "language": "python",
   "name": "python3"
  },
  "language_info": {
   "codemirror_mode": {
    "name": "ipython",
    "version": 2
   },
   "file_extension": ".py",
   "mimetype": "text/x-python",
   "name": "python",
   "nbconvert_exporter": "python",
   "pygments_lexer": "ipython2",
   "version": "2.7.6"
  }
 },
 "nbformat": 4,
 "nbformat_minor": 5
}
