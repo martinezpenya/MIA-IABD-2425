{
 "cells": [
  {
   "cell_type": "markdown",
   "id": "34e40f04473a10fa",
   "metadata": {
    "collapsed": false
   },
   "source": [
    "# Qui va sobreviure al Titanic?\n",
    "\n",
    "En aquest exercici, utilitzarem les dades del Titanic per predir si un passatger va sobreviure o no al naufragi. \n",
    "Veurem diferent formes de fer-ho; amb diversos graus d'automatisme."
   ]
  },
  {
   "cell_type": "markdown",
   "id": "ec69289f113fc6a9",
   "metadata": {
    "collapsed": false
   },
   "source": [
    "## Human learn\n",
    "\n",
    "Human learn és una llibreria que ens permet combinar el machine learning amb el coneixement humà de forma senzilla."
   ]
  },
  {
   "cell_type": "code",
   "execution_count": null,
   "id": "64bef4a435fdd146",
   "metadata": {
    "ExecuteTime": {
     "end_time": "2024-01-08T15:17:49.199438Z",
     "start_time": "2024-01-08T15:17:49.071191Z"
    },
    "collapsed": false
   },
   "outputs": [],
   "source": [
    "# Carreguem les llibreries i les dades"
   ]
  },
  {
   "cell_type": "code",
   "execution_count": null,
   "id": "614e3f256ed002c5",
   "metadata": {
    "ExecuteTime": {
     "end_time": "2024-01-08T15:18:03.913737Z",
     "start_time": "2024-01-08T15:17:49.214884Z"
    },
    "collapsed": false
   },
   "outputs": [],
   "source": [
    "# Instal·lem la llibreria\n",
    "%pip install git+https://github.com/koaning/human-learn.git"
   ]
  },
  {
   "cell_type": "code",
   "execution_count": null,
   "id": "2dac3db4d659ca1f",
   "metadata": {
    "ExecuteTime": {
     "end_time": "2024-01-08T15:18:05.182641Z",
     "start_time": "2024-01-08T15:18:03.922465Z"
    },
    "collapsed": false
   },
   "outputs": [],
   "source": [
    "from hulearn.datasets import load_titanic"
   ]
  },
  {
   "cell_type": "code",
   "execution_count": null,
   "id": "5bd4f161fba434c",
   "metadata": {
    "ExecuteTime": {
     "end_time": "2024-01-08T15:18:05.249102Z",
     "start_time": "2024-01-08T15:18:05.190452Z"
    },
    "collapsed": false
   },
   "outputs": [],
   "source": [
    "df = load_titanic(as_frame=True)\n",
    "df"
   ]
  },
  {
   "cell_type": "code",
   "execution_count": null,
   "id": "66db6720acc24205",
   "metadata": {
    "ExecuteTime": {
     "end_time": "2024-01-08T15:18:07.349465Z",
     "start_time": "2024-01-08T15:18:05.250047Z"
    },
    "collapsed": false
   },
   "outputs": [],
   "source": [
    "from sklearn.model_selection import train_test_split\n",
    "\n",
    "# Preparem les dades: separem les variables explicatives de la variable objectiu i creem els conjunts d'entrenament i de test\n",
    "X_train, X_test, y_train, y_test = train_test_split(\n",
    "    df.drop(['name', 'survived'], axis=1), df['survived'], test_size=0.25, random_state=42)"
   ]
  },
  {
   "cell_type": "markdown",
   "id": "1f1dbffad43c9454",
   "metadata": {
    "collapsed": false
   },
   "source": [
    "### Classificació amb una funció\n",
    "\n",
    "En aquest primer exemple, utilitzarem una funció per classificar els passatgers. Es tracta d'una funció molt senzilla que classifica els passatgers en funció del preu del bitllet. El plantejament és que els passatgers que van pagar més tenien més probabilitats de sobreviure."
   ]
  },
  {
   "cell_type": "code",
   "execution_count": null,
   "id": "c093e50ea67fe78d",
   "metadata": {
    "ExecuteTime": {
     "end_time": "2024-01-08T15:18:07.421935Z",
     "start_time": "2024-01-08T15:18:07.352723Z"
    },
    "collapsed": false
   },
   "outputs": [],
   "source": [
    "# FunctionClassifier ens permet crear un classificador a partir d'una funció\n",
    "from hulearn.classification import FunctionClassifier"
   ]
  },
  {
   "cell_type": "code",
   "execution_count": null,
   "id": "86a28d1169e69845",
   "metadata": {
    "ExecuteTime": {
     "end_time": "2024-01-08T15:18:07.465186Z",
     "start_time": "2024-01-08T15:18:07.426983Z"
    },
    "collapsed": false
   },
   "outputs": [],
   "source": [
    "# Utilitzarem el FunctionClassifier per crear un classificador que utilitzi el preu del bitllet per predir si un passatger va sobreviure o no\n",
    "\n",
    "def classificador_preu_bitllet(df, preu_minim=20):\n",
    "    \"\"\"\n",
    "    Classifica els passatgers en funció del preu del bitllet\n",
    "    El plantejament és que els passatgers que van pagar més tenien més probabilitats de sobreviure.\n",
    "    El valor per defecte és 20, però podem canviar-lo\n",
    "    \"\"\"\n",
    "    return (df['fare'] > preu_minim).astype(int)\n",
    "\n",
    "\n",
    "model = FunctionClassifier(classificador_preu_bitllet)\n",
    "\n",
    "# Preparem el classificador\n",
    "model.fit(X_train, y_train)"
   ]
  },
  {
   "cell_type": "markdown",
   "id": "984bf10e4fecf755",
   "metadata": {
    "collapsed": false
   },
   "source": [
    "### Evaluem el classificador"
   ]
  },
  {
   "cell_type": "code",
   "execution_count": null,
   "id": "67b13f6674f19d79",
   "metadata": {
    "ExecuteTime": {
     "end_time": "2024-01-08T15:18:07.541807Z",
     "start_time": "2024-01-08T15:18:07.455471Z"
    },
    "collapsed": false
   },
   "outputs": [],
   "source": [
    "from sklearn.metrics import classification_report\n",
    "\n",
    "print(classification_report(y_test, model.predict(X_test)))"
   ]
  },
  {
   "cell_type": "markdown",
   "id": "108415d7eecd00b5",
   "metadata": {
    "collapsed": false
   },
   "source": [
    "El rendiment del classificador és prou dolent. Segurament, el preu del bitllet no és una bona variable per predir si un passatger va sobreviure o no. Així i tot intentarem millorar el seu rendiment afinant el paràmetre preu_minim.\n",
    "\n",
    "Utilitzarem GridSearchCV per trobar el millor valor per preu_minim. GridSearchCV ens permet fer una cerca en graella per trobar els millors paràmetres, la puntuació vindrà donada per la precisió (accuracy), la precisió (precision) i la sensibilitat (recall).\n",
    "\n",
    "**Accuracy**: Quantes prediccions són correctes?\n",
    "**Precision**: Quantes prediccions positives són correctes?\n",
    "**Recall**: Quantes prediccions positives són correctes de totes les positives?"
   ]
  },
  {
   "cell_type": "code",
   "execution_count": null,
   "id": "c52b1eab0c9699a5",
   "metadata": {
    "ExecuteTime": {
     "end_time": "2024-01-08T15:18:08.323493Z",
     "start_time": "2024-01-08T15:18:07.517718Z"
    },
    "collapsed": false
   },
   "outputs": [],
   "source": [
    "import numpy as np\n",
    "from sklearn.metrics import make_scorer, accuracy_score, precision_score, recall_score\n",
    "from sklearn.model_selection import GridSearchCV\n",
    "\n",
    "# Creem un classificador amb un preu mínim de 20\n",
    "mod = FunctionClassifier(classificador_preu_bitllet, preu_minim=20)\n",
    "\n",
    "# L'objecte GridSearchCV ens permet fer una cerca en graella per trobar els millors paràmetres.\n",
    "# En aquest cas, buscarem el millor preu mínim per classificar els passatgers\n",
    "grid = GridSearchCV(mod,\n",
    "                    cv=2,\n",
    "                    param_grid={'preu_minim': np.linspace(0, 100, 30)},\n",
    "                    scoring={'accuracy': make_scorer(accuracy_score),\n",
    "                             'precision': make_scorer(precision_score),\n",
    "                             'recall': make_scorer(recall_score)},\n",
    "                    refit='accuracy')\n",
    "grid.fit(X_train, y_train)\n",
    "\n",
    "print(classification_report(y_test, grid.predict(X_test)))"
   ]
  },
  {
   "cell_type": "code",
   "execution_count": null,
   "id": "589c41ab3121d4f7",
   "metadata": {
    "ExecuteTime": {
     "end_time": "2024-01-08T15:18:08.393213Z",
     "start_time": "2024-01-08T15:18:08.312134Z"
    },
    "collapsed": false
   },
   "outputs": [],
   "source": [
    "# Podem veure quin ha estat el millor preu mínim\n",
    "grid.best_params_"
   ]
  },
  {
   "cell_type": "markdown",
   "id": "6f547d25473021c",
   "metadata": {
    "collapsed": false
   },
   "source": [
    "### Exploració interactiva\n",
    "\n",
    "Ara que ja hem vist que el preu del bitllet no és una bona variable per predir si un passatger va sobreviure o no, podem explorar les dades per trobar una variable millor.\n",
    "\n",
    "Per fer-ho, utilitzarem la funció InteractiveCharts. Aquesta funció ens permetrà explorar les dades de forma interactiva. En aquest cas, utilitzarem la funció parallel_coordinates per veure com es distribueixen les dades en funció de les variables explicatives."
   ]
  },
  {
   "cell_type": "code",
   "execution_count": null,
   "id": "a077f1c80f36068a",
   "metadata": {
    "ExecuteTime": {
     "end_time": "2024-01-08T15:18:08.923285Z",
     "start_time": "2024-01-08T15:18:08.350618Z"
    },
    "collapsed": false
   },
   "outputs": [],
   "source": [
    "from hulearn.experimental.interactive import parallel_coordinates\n",
    "\n",
    "parallel_coordinates(df, label=\"survived\", height=200)"
   ]
  },
  {
   "cell_type": "markdown",
   "id": "e688464b6b92da50",
   "metadata": {
    "collapsed": false
   },
   "source": [
    "Partint de la hipótesi que les dones i els nens van tenir més probabilitats de sobreviure, podem explorar les dades per veure si es veritat i sembla que  sí (comptant amb les diferències de classe social): Si Solament deixem les dones i els nens de 1a i 2a classe, la majoria van sobreviure.\n",
    "\n",
    "Així doncs, podem crear un classificador que utilitzi el sexe, la edat i la classe del passatger per predir si va sobreviure o no."
   ]
  },
  {
   "cell_type": "code",
   "execution_count": null,
   "id": "85c6243fc0a6391a",
   "metadata": {
    "ExecuteTime": {
     "end_time": "2024-01-08T15:18:08.930742Z",
     "start_time": "2024-01-08T15:18:08.922527Z"
    },
    "collapsed": false
   },
   "outputs": [],
   "source": [
    "def classificador_edat_sexe_classe(df, edat=12):\n",
    "    \"\"\"\n",
    "    Classifica els passatgers en funció del sexe, la edat i la classe del passatger\n",
    "    El plantejament és que les dones i els nens van tenir més probabilitats de sobreviure\n",
    "    \"\"\"\n",
    "    regla_dones = (df['pclass'] < 3.0) & (df['sex'] == \"female\")\n",
    "    regla_nens = (df['pclass'] < 3.0) & (df['age'] <= edat)\n",
    "    return regla_dones | regla_nens\n",
    "\n",
    "\n",
    "mod = FunctionClassifier(classificador_edat_sexe_classe)\n",
    "mod.fit(X_train, y_train)\n",
    "mod.score(X_test, y_test)"
   ]
  },
  {
   "cell_type": "code",
   "execution_count": null,
   "id": "a826cdf8de70564b",
   "metadata": {
    "ExecuteTime": {
     "end_time": "2024-01-08T15:18:10.508277Z",
     "start_time": "2024-01-08T15:18:08.941670Z"
    },
    "collapsed": false
   },
   "outputs": [],
   "source": [
    "grid = GridSearchCV(mod,\n",
    "                    cv=2,\n",
    "                    param_grid={'edat': np.linspace(0, 50, 50)},\n",
    "                    scoring={'accuracy': make_scorer(accuracy_score),\n",
    "                             'precision': make_scorer(precision_score),\n",
    "                             'recall': make_scorer(recall_score)},\n",
    "                    refit='accuracy')\n",
    "grid.fit(X_train, y_train)\n",
    "\n",
    "print(grid.best_params_)\n",
    "predict = grid.predict(X_train)\n",
    "\n",
    "print(predict)\n",
    "print(classification_report(y_test, grid.predict(X_test)))"
   ]
  },
  {
   "cell_type": "markdown",
   "id": "dd396aace21094b9",
   "metadata": {
    "collapsed": false
   },
   "source": [
    "Els nombres son prou millors que els anteriors. Així doncs, podem utilitzar aquest classificador per fer prediccions sobre nous passatgers."
   ]
  },
  {
   "cell_type": "markdown",
   "id": "644b4776983453ff",
   "metadata": {
    "collapsed": false
   },
   "source": [
    "## FIGS\n",
    "\n",
    "FIGS és una llibreria que ens permet crear regles per classificar les dades. En aquest cas, utilitzarem les dades del Titanic per crear regles que ens permetin predir si un passatger va sobreviure o no."
   ]
  },
  {
   "cell_type": "code",
   "execution_count": null,
   "id": "d80fc18bfa3eb3ad",
   "metadata": {
    "ExecuteTime": {
     "end_time": "2024-01-08T15:18:15.756337Z",
     "start_time": "2024-01-08T15:18:10.503242Z"
    },
    "collapsed": false
   },
   "outputs": [],
   "source": [
    "# instal·lem la llibreria\n",
    "%pip install imodels"
   ]
  },
  {
   "cell_type": "code",
   "execution_count": null,
   "id": "de740ee4c575fdc9",
   "metadata": {
    "ExecuteTime": {
     "end_time": "2024-01-08T15:18:17.007541Z",
     "start_time": "2024-01-08T15:18:15.762238Z"
    },
    "collapsed": false
   },
   "outputs": [],
   "source": [
    "# Carreguem la llibreria\n",
    "from imodels import FIGSClassifier"
   ]
  },
  {
   "cell_type": "code",
   "execution_count": null,
   "id": "d080536d129ef89b",
   "metadata": {
    "ExecuteTime": {
     "end_time": "2024-01-08T15:18:17.057589Z",
     "start_time": "2024-01-08T15:18:17.015147Z"
    },
    "collapsed": false
   },
   "outputs": [],
   "source": [
    "# Preparem les dades\n",
    "X_skope = df.drop(columns=['name', 'sibsp'])\n",
    "X_skope['sex'] = X_skope['sex'].replace(['female', 'male'], [0, 1])\n",
    "\n",
    "X_train, X_test, y_train, y_test = train_test_split(\n",
    "    X_skope.drop(['survived'], axis=1), X_skope['survived'], test_size=0.25, random_state=42)"
   ]
  },
  {
   "cell_type": "code",
   "execution_count": null,
   "id": "57a655d7ac877efa",
   "metadata": {
    "ExecuteTime": {
     "end_time": "2024-01-08T15:18:17.110449Z",
     "start_time": "2024-01-08T15:18:17.048375Z"
    },
    "collapsed": false
   },
   "outputs": [],
   "source": [
    "# Creem el classificador\n",
    "clf = FIGSClassifier(max_rules=4)\n",
    "# Entrenem el classificador\n",
    "clf.fit(X_train, y_train)"
   ]
  },
  {
   "cell_type": "code",
   "execution_count": null,
   "id": "d328fd73de9e804",
   "metadata": {
    "ExecuteTime": {
     "end_time": "2024-01-08T15:18:17.151056Z",
     "start_time": "2024-01-08T15:18:17.119888Z"
    },
    "collapsed": false
   },
   "outputs": [],
   "source": [
    "# Podem veure el rendiment del classificador\n",
    "print(classification_report(y_test, clf.predict(X_test)))"
   ]
  },
  {
   "cell_type": "markdown",
   "id": "d21ca1f154042daa",
   "metadata": {
    "collapsed": false
   },
   "source": [
    "Podem observar que les regles que ha creat el classificador tenen un rendiment semblant al classificador que hem creat amb Human learn i els conceptes que hem creat amb Human learn són més fàcils d'interpretar i podem seguir afegint regles per millorar el rendiment del classificador (per exemple, podríem incorporar la variable `fare`)."
   ]
  }
 ],
 "metadata": {
  "kernelspec": {
   "display_name": "Python 3",
   "language": "python",
   "name": "python3"
  },
  "language_info": {
   "codemirror_mode": {
    "name": "ipython",
    "version": 2
   },
   "file_extension": ".py",
   "mimetype": "text/x-python",
   "name": "python",
   "nbconvert_exporter": "python",
   "pygments_lexer": "ipython2",
   "version": "2.7.6"
  }
 },
 "nbformat": 4,
 "nbformat_minor": 5
}
