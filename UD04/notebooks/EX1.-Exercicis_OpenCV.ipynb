{
 "cells": [
  {
   "cell_type": "markdown",
   "metadata": {},
   "source": [
    "# Exercicis OpenCV\n",
    "\n",
    "Hem vist com ver funcions bàsiques de OpenCV. Ara ho posarem en pràctica.\n",
    "\n",
    "La teva tasca es posar en pràctica el que has après en quant a processament d'imatges amb un exemple semblant al que hem vist a classe.\n",
    "\n",
    "## Exercici 1\n",
    "\n",
    "![Camp](https://lawer.github.io/mia/apunts/2.-segon_trimestre/8.-Reconeixement%20imatges/camp.png)\n",
    "\n",
    "Utilitzant OpenCV, carrega la imatge [`camp.png`](https://lawer.github.io/mia/apunts/2.-segon_trimestre/8.-Reconeixement%20imatges/camp.png), troba les línies i enmarca-les de color verd. Mostra el resultat.\n",
    "\n",
    "## Exercici 2\n",
    "\n",
    "Hem vist com detectar el moviment utilitzant les diferències entre dos _frames_ consecutius. Ara, carrega [`vtest.mp4`](https://lawer.github.io/mia/apunts/2.-segon_trimestre/8.-Reconeixement%20imatges/vtest.mp4) i utilitza aquest mètode per detectar el moviment en un vídeo i utilitzant la técnica vista en l'exemple del seguiment de línia resalta l'objecte que s'està movent.\n",
    "\n",
    "## Exercici 3\n",
    "\n",
    "Calcula el flux òptic de `vtest.mp4` i visualitza'l.\n",
    "\n"
   ]
  }
 ],
 "metadata": {
  "language_info": {
   "name": "python"
  }
 },
 "nbformat": 4,
 "nbformat_minor": 2
}
