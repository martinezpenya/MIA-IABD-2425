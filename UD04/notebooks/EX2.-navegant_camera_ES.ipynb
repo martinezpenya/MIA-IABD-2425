{
 "cells": [
  {
   "cell_type": "markdown",
   "metadata": {},
   "source": [
    "# Hacemos un seguidor de línea usando la cámara robot\n",
    "\n",
    "Esta vez, haremos un seguidor de línea usando la cámara del robot. Para hacer esto, usaremos la cámara para capturar imágenes del suelo y procesarlas para detectar la línea. Luego usaremos la información obtenida para controlar el robot y hacer que siga la línea.\n",
    "\n",
    "Para hacer esto, usaremos la librería `opencv` para procesar imágenes y `aitk.robots` para controlar el robot.\n",
    "\n",
    "Comencemos por instalar e importar las librerías necesarias:"
   ]
  },
  {
   "cell_type": "code",
   "execution_count": 17,
   "metadata": {},
   "outputs": [
    {
     "name": "stdout",
     "output_type": "stream",
     "text": [
      "Requirement already satisfied: aitk in /home/carles/Documentos/notebooks/.venv/lib64/python3.11/site-packages (2.1.0)\n",
      "Requirement already satisfied: numpy in /home/carles/Documentos/notebooks/.venv/lib64/python3.11/site-packages (1.26.4)\n",
      "Requirement already satisfied: opencv-python-headless in /home/carles/Documentos/notebooks/.venv/lib64/python3.11/site-packages (4.10.0.84)\n",
      "Requirement already satisfied: scikit-fuzzy in /home/carles/Documentos/notebooks/.venv/lib64/python3.11/site-packages (0.4.2)\n",
      "Requirement already satisfied: matplotlib in /home/carles/Documentos/notebooks/.venv/lib64/python3.11/site-packages (3.9.2)\n",
      "Requirement already satisfied: requests in /home/carles/Documentos/notebooks/.venv/lib64/python3.11/site-packages (2.32.3)\n",
      "Requirement already satisfied: Pillow==9.4 in /home/carles/Documentos/notebooks/.venv/lib64/python3.11/site-packages (9.4.0)\n",
      "Requirement already satisfied: ipywidgets in /home/carles/Documentos/notebooks/.venv/lib64/python3.11/site-packages (from aitk) (8.1.5)\n",
      "Requirement already satisfied: tqdm in /home/carles/Documentos/notebooks/.venv/lib64/python3.11/site-packages (from aitk) (4.66.5)\n",
      "Requirement already satisfied: tensorflow<=2.15.1 in /home/carles/Documentos/notebooks/.venv/lib64/python3.11/site-packages (from aitk) (2.15.1)\n",
      "Requirement already satisfied: scipy>=0.9.0 in /home/carles/Documentos/notebooks/.venv/lib64/python3.11/site-packages (from scikit-fuzzy) (1.14.1)\n",
      "Requirement already satisfied: networkx>=1.9.0 in /home/carles/Documentos/notebooks/.venv/lib64/python3.11/site-packages (from scikit-fuzzy) (3.3)\n",
      "Requirement already satisfied: contourpy>=1.0.1 in /home/carles/Documentos/notebooks/.venv/lib64/python3.11/site-packages (from matplotlib) (1.3.0)\n",
      "Requirement already satisfied: cycler>=0.10 in /home/carles/Documentos/notebooks/.venv/lib64/python3.11/site-packages (from matplotlib) (0.12.1)\n",
      "Requirement already satisfied: fonttools>=4.22.0 in /home/carles/Documentos/notebooks/.venv/lib64/python3.11/site-packages (from matplotlib) (4.53.1)\n",
      "Requirement already satisfied: kiwisolver>=1.3.1 in /home/carles/Documentos/notebooks/.venv/lib64/python3.11/site-packages (from matplotlib) (1.4.7)\n",
      "Requirement already satisfied: packaging>=20.0 in /home/carles/Documentos/notebooks/.venv/lib64/python3.11/site-packages (from matplotlib) (24.1)\n",
      "Requirement already satisfied: pyparsing>=2.3.1 in /home/carles/Documentos/notebooks/.venv/lib64/python3.11/site-packages (from matplotlib) (3.1.4)\n",
      "Requirement already satisfied: python-dateutil>=2.7 in /home/carles/Documentos/notebooks/.venv/lib64/python3.11/site-packages (from matplotlib) (2.9.0.post0)\n",
      "Requirement already satisfied: charset-normalizer<4,>=2 in /home/carles/Documentos/notebooks/.venv/lib64/python3.11/site-packages (from requests) (3.3.2)\n",
      "Requirement already satisfied: idna<4,>=2.5 in /home/carles/Documentos/notebooks/.venv/lib64/python3.11/site-packages (from requests) (3.8)\n",
      "Requirement already satisfied: urllib3<3,>=1.21.1 in /home/carles/Documentos/notebooks/.venv/lib64/python3.11/site-packages (from requests) (2.2.2)\n",
      "Requirement already satisfied: certifi>=2017.4.17 in /home/carles/Documentos/notebooks/.venv/lib64/python3.11/site-packages (from requests) (2024.8.30)\n",
      "Requirement already satisfied: six>=1.5 in /home/carles/Documentos/notebooks/.venv/lib64/python3.11/site-packages (from python-dateutil>=2.7->matplotlib) (1.16.0)\n",
      "Requirement already satisfied: absl-py>=1.0.0 in /home/carles/Documentos/notebooks/.venv/lib64/python3.11/site-packages (from tensorflow<=2.15.1->aitk) (2.1.0)\n",
      "Requirement already satisfied: astunparse>=1.6.0 in /home/carles/Documentos/notebooks/.venv/lib64/python3.11/site-packages (from tensorflow<=2.15.1->aitk) (1.6.3)\n",
      "Requirement already satisfied: flatbuffers>=23.5.26 in /home/carles/Documentos/notebooks/.venv/lib64/python3.11/site-packages (from tensorflow<=2.15.1->aitk) (24.3.25)\n",
      "Requirement already satisfied: gast!=0.5.0,!=0.5.1,!=0.5.2,>=0.2.1 in /home/carles/Documentos/notebooks/.venv/lib64/python3.11/site-packages (from tensorflow<=2.15.1->aitk) (0.6.0)\n",
      "Requirement already satisfied: google-pasta>=0.1.1 in /home/carles/Documentos/notebooks/.venv/lib64/python3.11/site-packages (from tensorflow<=2.15.1->aitk) (0.2.0)\n",
      "Requirement already satisfied: h5py>=2.9.0 in /home/carles/Documentos/notebooks/.venv/lib64/python3.11/site-packages (from tensorflow<=2.15.1->aitk) (3.11.0)\n",
      "Requirement already satisfied: libclang>=13.0.0 in /home/carles/Documentos/notebooks/.venv/lib64/python3.11/site-packages (from tensorflow<=2.15.1->aitk) (18.1.1)\n",
      "Requirement already satisfied: ml-dtypes~=0.3.1 in /home/carles/Documentos/notebooks/.venv/lib64/python3.11/site-packages (from tensorflow<=2.15.1->aitk) (0.3.2)\n",
      "Requirement already satisfied: opt-einsum>=2.3.2 in /home/carles/Documentos/notebooks/.venv/lib64/python3.11/site-packages (from tensorflow<=2.15.1->aitk) (3.3.0)\n",
      "Requirement already satisfied: protobuf!=4.21.0,!=4.21.1,!=4.21.2,!=4.21.3,!=4.21.4,!=4.21.5,<5.0.0dev,>=3.20.3 in /home/carles/Documentos/notebooks/.venv/lib64/python3.11/site-packages (from tensorflow<=2.15.1->aitk) (4.25.4)\n",
      "Requirement already satisfied: setuptools in /home/carles/Documentos/notebooks/.venv/lib64/python3.11/site-packages (from tensorflow<=2.15.1->aitk) (65.5.0)\n",
      "Requirement already satisfied: termcolor>=1.1.0 in /home/carles/Documentos/notebooks/.venv/lib64/python3.11/site-packages (from tensorflow<=2.15.1->aitk) (2.4.0)\n",
      "Requirement already satisfied: typing-extensions>=3.6.6 in /home/carles/Documentos/notebooks/.venv/lib64/python3.11/site-packages (from tensorflow<=2.15.1->aitk) (4.12.2)\n",
      "Requirement already satisfied: wrapt<1.15,>=1.11.0 in /home/carles/Documentos/notebooks/.venv/lib64/python3.11/site-packages (from tensorflow<=2.15.1->aitk) (1.14.1)\n",
      "Requirement already satisfied: tensorflow-io-gcs-filesystem>=0.23.1 in /home/carles/Documentos/notebooks/.venv/lib64/python3.11/site-packages (from tensorflow<=2.15.1->aitk) (0.37.1)\n",
      "Requirement already satisfied: grpcio<2.0,>=1.24.3 in /home/carles/Documentos/notebooks/.venv/lib64/python3.11/site-packages (from tensorflow<=2.15.1->aitk) (1.66.1)\n",
      "Requirement already satisfied: tensorboard<2.16,>=2.15 in /home/carles/Documentos/notebooks/.venv/lib64/python3.11/site-packages (from tensorflow<=2.15.1->aitk) (2.15.2)\n",
      "Requirement already satisfied: tensorflow-estimator<2.16,>=2.15.0 in /home/carles/Documentos/notebooks/.venv/lib64/python3.11/site-packages (from tensorflow<=2.15.1->aitk) (2.15.0)\n",
      "Requirement already satisfied: keras<2.16,>=2.15.0 in /home/carles/Documentos/notebooks/.venv/lib64/python3.11/site-packages (from tensorflow<=2.15.1->aitk) (2.15.0)\n",
      "Requirement already satisfied: comm>=0.1.3 in /home/carles/Documentos/notebooks/.venv/lib64/python3.11/site-packages (from ipywidgets->aitk) (0.2.2)\n",
      "Requirement already satisfied: ipython>=6.1.0 in /home/carles/Documentos/notebooks/.venv/lib64/python3.11/site-packages (from ipywidgets->aitk) (8.27.0)\n",
      "Requirement already satisfied: traitlets>=4.3.1 in /home/carles/Documentos/notebooks/.venv/lib64/python3.11/site-packages (from ipywidgets->aitk) (5.14.3)\n",
      "Requirement already satisfied: widgetsnbextension~=4.0.12 in /home/carles/Documentos/notebooks/.venv/lib64/python3.11/site-packages (from ipywidgets->aitk) (4.0.13)\n",
      "Requirement already satisfied: jupyterlab-widgets~=3.0.12 in /home/carles/Documentos/notebooks/.venv/lib64/python3.11/site-packages (from ipywidgets->aitk) (3.0.13)\n",
      "Requirement already satisfied: wheel<1.0,>=0.23.0 in /home/carles/Documentos/notebooks/.venv/lib64/python3.11/site-packages (from astunparse>=1.6.0->tensorflow<=2.15.1->aitk) (0.44.0)\n",
      "Requirement already satisfied: decorator in /home/carles/Documentos/notebooks/.venv/lib64/python3.11/site-packages (from ipython>=6.1.0->ipywidgets->aitk) (5.1.1)\n",
      "Requirement already satisfied: jedi>=0.16 in /home/carles/Documentos/notebooks/.venv/lib64/python3.11/site-packages (from ipython>=6.1.0->ipywidgets->aitk) (0.19.1)\n",
      "Requirement already satisfied: matplotlib-inline in /home/carles/Documentos/notebooks/.venv/lib64/python3.11/site-packages (from ipython>=6.1.0->ipywidgets->aitk) (0.1.7)\n",
      "Requirement already satisfied: prompt-toolkit<3.1.0,>=3.0.41 in /home/carles/Documentos/notebooks/.venv/lib64/python3.11/site-packages (from ipython>=6.1.0->ipywidgets->aitk) (3.0.47)\n",
      "Requirement already satisfied: pygments>=2.4.0 in /home/carles/Documentos/notebooks/.venv/lib64/python3.11/site-packages (from ipython>=6.1.0->ipywidgets->aitk) (2.18.0)\n",
      "Requirement already satisfied: stack-data in /home/carles/Documentos/notebooks/.venv/lib64/python3.11/site-packages (from ipython>=6.1.0->ipywidgets->aitk) (0.6.3)\n",
      "Requirement already satisfied: pexpect>4.3 in /home/carles/Documentos/notebooks/.venv/lib64/python3.11/site-packages (from ipython>=6.1.0->ipywidgets->aitk) (4.9.0)\n",
      "Requirement already satisfied: google-auth<3,>=1.6.3 in /home/carles/Documentos/notebooks/.venv/lib64/python3.11/site-packages (from tensorboard<2.16,>=2.15->tensorflow<=2.15.1->aitk) (2.34.0)\n",
      "Requirement already satisfied: google-auth-oauthlib<2,>=0.5 in /home/carles/Documentos/notebooks/.venv/lib64/python3.11/site-packages (from tensorboard<2.16,>=2.15->tensorflow<=2.15.1->aitk) (1.2.1)\n",
      "Requirement already satisfied: markdown>=2.6.8 in /home/carles/Documentos/notebooks/.venv/lib64/python3.11/site-packages (from tensorboard<2.16,>=2.15->tensorflow<=2.15.1->aitk) (3.7)\n",
      "Requirement already satisfied: tensorboard-data-server<0.8.0,>=0.7.0 in /home/carles/Documentos/notebooks/.venv/lib64/python3.11/site-packages (from tensorboard<2.16,>=2.15->tensorflow<=2.15.1->aitk) (0.7.2)\n",
      "Requirement already satisfied: werkzeug>=1.0.1 in /home/carles/Documentos/notebooks/.venv/lib64/python3.11/site-packages (from tensorboard<2.16,>=2.15->tensorflow<=2.15.1->aitk) (3.0.4)\n",
      "Requirement already satisfied: cachetools<6.0,>=2.0.0 in /home/carles/Documentos/notebooks/.venv/lib64/python3.11/site-packages (from google-auth<3,>=1.6.3->tensorboard<2.16,>=2.15->tensorflow<=2.15.1->aitk) (5.5.0)\n",
      "Requirement already satisfied: pyasn1-modules>=0.2.1 in /home/carles/Documentos/notebooks/.venv/lib64/python3.11/site-packages (from google-auth<3,>=1.6.3->tensorboard<2.16,>=2.15->tensorflow<=2.15.1->aitk) (0.4.1)\n",
      "Requirement already satisfied: rsa<5,>=3.1.4 in /home/carles/Documentos/notebooks/.venv/lib64/python3.11/site-packages (from google-auth<3,>=1.6.3->tensorboard<2.16,>=2.15->tensorflow<=2.15.1->aitk) (4.9)\n",
      "Requirement already satisfied: requests-oauthlib>=0.7.0 in /home/carles/Documentos/notebooks/.venv/lib64/python3.11/site-packages (from google-auth-oauthlib<2,>=0.5->tensorboard<2.16,>=2.15->tensorflow<=2.15.1->aitk) (2.0.0)\n",
      "Requirement already satisfied: parso<0.9.0,>=0.8.3 in /home/carles/Documentos/notebooks/.venv/lib64/python3.11/site-packages (from jedi>=0.16->ipython>=6.1.0->ipywidgets->aitk) (0.8.4)\n",
      "Requirement already satisfied: ptyprocess>=0.5 in /home/carles/Documentos/notebooks/.venv/lib64/python3.11/site-packages (from pexpect>4.3->ipython>=6.1.0->ipywidgets->aitk) (0.7.0)\n",
      "Requirement already satisfied: wcwidth in /home/carles/Documentos/notebooks/.venv/lib64/python3.11/site-packages (from prompt-toolkit<3.1.0,>=3.0.41->ipython>=6.1.0->ipywidgets->aitk) (0.2.13)\n",
      "Requirement already satisfied: MarkupSafe>=2.1.1 in /home/carles/Documentos/notebooks/.venv/lib64/python3.11/site-packages (from werkzeug>=1.0.1->tensorboard<2.16,>=2.15->tensorflow<=2.15.1->aitk) (2.1.5)\n",
      "Requirement already satisfied: executing>=1.2.0 in /home/carles/Documentos/notebooks/.venv/lib64/python3.11/site-packages (from stack-data->ipython>=6.1.0->ipywidgets->aitk) (2.1.0)\n",
      "Requirement already satisfied: asttokens>=2.1.0 in /home/carles/Documentos/notebooks/.venv/lib64/python3.11/site-packages (from stack-data->ipython>=6.1.0->ipywidgets->aitk) (2.4.1)\n",
      "Requirement already satisfied: pure-eval in /home/carles/Documentos/notebooks/.venv/lib64/python3.11/site-packages (from stack-data->ipython>=6.1.0->ipywidgets->aitk) (0.2.3)\n",
      "Requirement already satisfied: pyasn1<0.7.0,>=0.4.6 in /home/carles/Documentos/notebooks/.venv/lib64/python3.11/site-packages (from pyasn1-modules>=0.2.1->google-auth<3,>=1.6.3->tensorboard<2.16,>=2.15->tensorflow<=2.15.1->aitk) (0.6.1)\n",
      "Requirement already satisfied: oauthlib>=3.0.0 in /home/carles/Documentos/notebooks/.venv/lib64/python3.11/site-packages (from requests-oauthlib>=0.7.0->google-auth-oauthlib<2,>=0.5->tensorboard<2.16,>=2.15->tensorflow<=2.15.1->aitk) (3.2.2)\n",
      "\n",
      "\u001b[1m[\u001b[0m\u001b[34;49mnotice\u001b[0m\u001b[1;39;49m]\u001b[0m\u001b[39;49m A new release of pip is available: \u001b[0m\u001b[31;49m24.2\u001b[0m\u001b[39;49m -> \u001b[0m\u001b[32;49m24.3.1\u001b[0m\n",
      "\u001b[1m[\u001b[0m\u001b[34;49mnotice\u001b[0m\u001b[1;39;49m]\u001b[0m\u001b[39;49m To update, run: \u001b[0m\u001b[32;49mpip install --upgrade pip\u001b[0m\n",
      "Note: you may need to restart the kernel to use updated packages.\n"
     ]
    }
   ],
   "source": [
    "%pip install aitk numpy opencv-python-headless scikit-fuzzy matplotlib requests Pillow==9.4"
   ]
  },
  {
   "cell_type": "code",
   "execution_count": 18,
   "metadata": {},
   "outputs": [],
   "source": [
    "import aitk.robots as bots\n",
    "import numpy as np\n",
    "import matplotlib.pyplot as plt\n",
    "import cv2"
   ]
  },
  {
   "cell_type": "markdown",
   "metadata": {},
   "source": [
    "## Seguidor de línea simple\n",
    "\n",
    "Crearemos el mundo de Robot y Robot. Necesitaremos la imagen del mapa para este ejemplo (tienes 5 diponibles de `EX2_pista_1.png` a `EX2_pista_5.png`), contiene una pista con una línea negra.\n",
    "\n",
    "El robot tendrá una cámara que capturará imágenes del suelo y las procesará para detectar la línea. Será de tipo `GroundCamera` y la añadiremos al robot."
   ]
  },
  {
   "cell_type": "code",
   "execution_count": null,
   "metadata": {},
   "outputs": [
    {
     "data": {
      "text/plain": [
       "<matplotlib.image.AxesImage at 0x7f40671da1d0>"
      ]
     },
     "execution_count": 28,
     "metadata": {},
     "output_type": "execute_result"
    },
    {
     "data": {
      "image/png": "[encoded data removed]",
      "text/plain": [
       "<Figure size 640x480 with 1 Axes>"
      ]
     },
     "metadata": {},
     "output_type": "display_data"
    }
   ],
   "source": [
    "nom_imatge = \"EX2_pista_1.png\"\n",
    "\n",
    "# Cargamos la imagen en una variable\n",
    "\n",
    "img = cv2.imread(nom_imatge)\n",
    "\n",
    "# Mostramos la imagen\n",
    "plt.imshow(cv2.cvtColor(img, cv2.COLOR_BGR2RGB))"
   ]
  },
  {
   "cell_type": "code",
   "execution_count": 26,
   "metadata": {},
   "outputs": [
    {
     "name": "stdout",
     "output_type": "stream",
     "text": [
      "Random seed set to: 9750301\n"
     ]
    },
    {
     "data": {
      "application/vnd.jupyter.widget-view+json": {
       "model_id": "035972ee9985432c8a7013989e0ca16e",
       "version_major": 2,
       "version_minor": 0
      },
      "text/plain": [
       "HTML(value='<style>img.pixelated {image-rendering: pixelated;}</style>')"
      ]
     },
     "metadata": {},
     "output_type": "display_data"
    },
    {
     "data": {
      "application/vnd.jupyter.widget-view+json": {
       "model_id": "be3c87d6f85e4ccca1031b20ef8822dc",
       "version_major": 2,
       "version_minor": 0
      },
      "text/plain": [
       "HTML(value='<style>img.pixelated {image-rendering: pixelated;}</style>')"
      ]
     },
     "metadata": {},
     "output_type": "display_data"
    },
    {
     "data": {
      "application/vnd.jupyter.widget-view+json": {
       "model_id": "f7adab9e79264250897d03c271087379",
       "version_major": 2,
       "version_minor": 0
      },
      "text/plain": [
       "HTML(value='<style>img.pixelated {image-rendering: pixelated;}</style>')"
      ]
     },
     "metadata": {},
     "output_type": "display_data"
    },
    {
     "data": {
      "application/vnd.jupyter.widget-view+json": {
       "model_id": "5c256ee6382f4aef83bd50d6853e773f",
       "version_major": 2,
       "version_minor": 0
      },
      "text/plain": [
       "Image(value=b'\\x89PNG\\r\\n\\x1a\\n\\x00\\x00\\x00\\rIHDR\\x00\\x00\\x00x\\x00\\x00\\x002\\x08\\x06\\x00\\x00\\x00\\x97\\xa7\\x1f\\xd…"
      ]
     },
     "metadata": {},
     "output_type": "display_data"
    },
    {
     "data": {
      "application/vnd.jupyter.widget-view+json": {
       "model_id": "6f0c4e23f180455aaac4cd308903d650",
       "version_major": 2,
       "version_minor": 0
      },
      "text/plain": [
       "Image(value=b'\\xff\\xd8\\xff\\xe0\\x00\\x10JFIF\\x00\\x01\\x01\\x00\\x00\\x01\\x00\\x01\\x00\\x00\\xff\\xdb\\x00C\\x00\\x08\\x06\\x0…"
      ]
     },
     "metadata": {},
     "output_type": "display_data"
    }
   ],
   "source": [
    "world = bots.World(220, 180, boundary_wall_color=\"yellow\", ground_image_filename=nom_imatge)\n",
    "\n",
    "robot = bots.Scribbler(x=24, y=90, a=90)\n",
    "robot.add_device(bots.GroundCamera(width=120, height=50))\n",
    "\n",
    "world.add_robot(robot)\n",
    "\n",
    "robot['ground-camera'].watch()\n",
    "world.watch()"
   ]
  },
  {
   "cell_type": "markdown",
   "metadata": {},
   "source": [
    "Implementa la función `controlador_cam` que será el que tendrá que controlar el robot. Puedes basarte en el ejemplo hecho en [`1.-Introduccio_OpenCV_ES.ipynb`](https://colab.research.google.com/github/martinezpenya/MIA-IABD-2425/blob/main/UD04/notebooks/1.-Introduccio_OpenCV_ES.ipynb) para detectar la línea (ten en cuenta que la cámara aquí está debajo del robot, por lo que si usamos la parte inferior de la imagen seguramente el robot sea demasiado inestable, sería mejor usar la parte superior de la imagen) y en el ejemplo hecho en [`3.-exemples_robots_ES.ipynb`](https://colab.research.google.com/github/martinezpenya/MIA-IABD-2425/blob/main/UD04/notebooks/3.-exemples_robots_ES.ipynb) para controlar el robot."
   ]
  },
  {
   "cell_type": "code",
   "execution_count": null,
   "metadata": {},
   "outputs": [
    {
     "name": "stdout",
     "output_type": "stream",
     "text": [
      "Using random seed: 9750301\n"
     ]
    },
    {
     "data": {
      "application/vnd.jupyter.widget-view+json": {
       "model_id": "d561a25550514fc28e39bede23888893",
       "version_major": 2,
       "version_minor": 0
      },
      "text/plain": [
       "  0%|          | 0/600 [00:00<?, ?it/s]"
      ]
     },
     "metadata": {},
     "output_type": "display_data"
    },
    {
     "name": "stdout",
     "output_type": "stream",
     "text": [
      "Simulation stopped at: 00:01:00.00; speed 0.97 x real time\n"
     ]
    }
   ],
   "source": [
    "def controlador_cam(robot):\n",
    "    cam = robot['ground-camera']\n",
    "    image = cam.get_image()\n",
    "\n",
    "    # Detectamos la línea de pista y controlamos el robot para seguirla\n",
    "\n",
    "world.reset()\n",
    "world.seconds(60, [controlador_cam], real_time=True)"
   ]
  },
  {
   "cell_type": "markdown",
   "metadata": {},
   "source": [
    "## Seguidor de doble línea (mantenerse en el camino)\n",
    "\n",
    "Adapte el seguidor de la línea para que el robot pueda seguir dos líneas paralelas y permanecer en el camino. Para hacer esto, usaremos la imagen `EX2_pista__6.png` que contiene dos líneas paralelas."
   ]
  },
  {
   "cell_type": "code",
   "execution_count": null,
   "metadata": {},
   "outputs": [
    {
     "data": {
      "text/plain": [
       "<matplotlib.image.AxesImage at 0x7f40731815d0>"
      ]
     },
     "execution_count": 22,
     "metadata": {},
     "output_type": "execute_result"
    },
    {
     "data": {
      "image/png": "[encoded data removed]",
      "text/plain": [
       "<Figure size 640x480 with 1 Axes>"
      ]
     },
     "metadata": {},
     "output_type": "display_data"
    }
   ],
   "source": [
    "nom_imatge = \"EX2_pista_6.png\"\n",
    "\n",
    "# Cargamos la imagen en una variable\n",
    "\n",
    "img = cv2.imread(nom_imatge)\n",
    "\n",
    "# Mostramos la imagen\n",
    "plt.imshow(cv2.cvtColor(img, cv2.COLOR_BGR2RGB))"
   ]
  },
  {
   "cell_type": "code",
   "execution_count": null,
   "metadata": {},
   "outputs": [
    {
     "name": "stdout",
     "output_type": "stream",
     "text": [
      "Random seed set to: 118642\n"
     ]
    },
    {
     "data": {
      "application/vnd.jupyter.widget-view+json": {
       "model_id": "2b570ed3a09b4086963046745ef355a7",
       "version_major": 2,
       "version_minor": 0
      },
      "text/plain": [
       "HTML(value='<style>img.pixelated {image-rendering: pixelated;}</style>')"
      ]
     },
     "metadata": {},
     "output_type": "display_data"
    },
    {
     "data": {
      "application/vnd.jupyter.widget-view+json": {
       "model_id": "47152daacf174cfb80fce7e684fe31a8",
       "version_major": 2,
       "version_minor": 0
      },
      "text/plain": [
       "HTML(value='<style>img.pixelated {image-rendering: pixelated;}</style>')"
      ]
     },
     "metadata": {},
     "output_type": "display_data"
    },
    {
     "data": {
      "application/vnd.jupyter.widget-view+json": {
       "model_id": "7cc63eefab0c4b14b4b74bf0cc158d7a",
       "version_major": 2,
       "version_minor": 0
      },
      "text/plain": [
       "HTML(value='<style>img.pixelated {image-rendering: pixelated;}</style>')"
      ]
     },
     "metadata": {},
     "output_type": "display_data"
    },
    {
     "data": {
      "application/vnd.jupyter.widget-view+json": {
       "model_id": "58b790cdd0944f68a3339c9df1ff72f6",
       "version_major": 2,
       "version_minor": 0
      },
      "text/plain": [
       "Image(value=b'\\x89PNG\\r\\n\\x1a\\n\\x00\\x00\\x00\\rIHDR\\x00\\x00\\x00x\\x00\\x00\\x002\\x08\\x06\\x00\\x00\\x00\\x97\\xa7\\x1f\\xd…"
      ]
     },
     "metadata": {},
     "output_type": "display_data"
    },
    {
     "data": {
      "application/vnd.jupyter.widget-view+json": {
       "model_id": "bb7d0b15d7c64f97be05f77631bc3dc1",
       "version_major": 2,
       "version_minor": 0
      },
      "text/plain": [
       "Image(value=b'\\xff\\xd8\\xff\\xe0\\x00\\x10JFIF\\x00\\x01\\x01\\x00\\x00\\x01\\x00\\x01\\x00\\x00\\xff\\xdb\\x00C\\x00\\x08\\x06\\x0…"
      ]
     },
     "metadata": {},
     "output_type": "display_data"
    }
   ],
   "source": [
    "world = bots.World(220, 180, boundary_wall_color=\"yellow\", ground_image_filename=nom_imatge)\n",
    "\n",
    "amplada_camera = 120\n",
    "alcada_camera = 50\n",
    "robot = bots.Scribbler(x=36, y=80, a=90)\n",
    "robot.add_device(bots.GroundCamera(width=amplada_camera, height=alcada_camera))\n",
    "\n",
    "world.add_robot(robot)\n",
    "\n",
    "robot['ground-camera'].watch()\n",
    "world.watch()"
   ]
  },
  {
   "cell_type": "code",
   "execution_count": null,
   "metadata": {},
   "outputs": [
    {
     "name": "stdout",
     "output_type": "stream",
     "text": [
      "Using random seed: 118642\n"
     ]
    },
    {
     "data": {
      "application/vnd.jupyter.widget-view+json": {
       "model_id": "83bf885c7eb44be18c200185482d0b50",
       "version_major": 2,
       "version_minor": 0
      },
      "text/plain": [
       "  0%|          | 0/600 [00:00<?, ?it/s]"
      ]
     },
     "metadata": {},
     "output_type": "display_data"
    },
    {
     "name": "stdout",
     "output_type": "stream",
     "text": [
      "Simulation stopped at: 00:01:00.00; speed 198.25 x real time\n"
     ]
    }
   ],
   "source": [
    "def controlador_cam(robot):\n",
    "    cam = robot['ground-camera']\n",
    "    image = cam.get_image()\n",
    "\n",
    "    # Detectamos el camino y controlamos el robot para que lo siga\n",
    "\n",
    "\n",
    "world.reset()\n",
    "world.seconds(60, [controlador_cam], real_time=False)"
   ]
  }
 ],
 "metadata": {
  "kernelspec": {
   "display_name": ".venv",
   "language": "python",
   "name": "python3"
  },
  "language_info": {
   "codemirror_mode": {
    "name": "ipython",
    "version": 3
   },
   "file_extension": ".py",
   "mimetype": "text/x-python",
   "name": "python",
   "nbconvert_exporter": "python",
   "pygments_lexer": "ipython3",
   "version": "3.11.11"
  }
 },
 "nbformat": 4,
 "nbformat_minor": 2
}
