{
 "cells": [
  {
   "cell_type": "markdown",
   "id": "b6caca43a0b4a35d",
   "metadata": {
    "collapsed": false
   },
   "source": [
    "# Ejercicios UD03_01\n",
    "\n",
    "## Ejercicio 1\n",
    "\n",
    "Tokeniza el siguiente texto en palabras y en oraciones. Luego elimine las palabras de parada (stopwords) y las comas en el texto. Finalmente, crea un vector con la representación *Bolsa de palabras* (BoW).\n",
    "\n",
    "*Texto*: \"El Barça es el mejor equipo del mundo. A veces, sin embargo, juega mal\"."
   ]
  },
  {
   "cell_type": "code",
   "execution_count": null,
   "id": "eb61c2fcf97abb12",
   "metadata": {
    "collapsed": false
   },
   "outputs": [],
   "source": []
  },
  {
   "cell_type": "markdown",
   "id": "dd119885912268ec",
   "metadata": {
    "collapsed": false
   },
   "source": [
    "## Ejercicio 2\n",
    "\n",
    "Cree un vector con la representación *tf-idf* del texto del ejercicio anterior."
   ]
  },
  {
   "cell_type": "code",
   "execution_count": null,
   "id": "5b1af3fea4872dad",
   "metadata": {
    "collapsed": false
   },
   "outputs": [],
   "source": []
  },
  {
   "cell_type": "markdown",
   "id": "c5f1f0688fa4e4fb",
   "metadata": {
    "collapsed": false
   },
   "source": [
    "## Ejercicio 3\n",
    "\n",
    "Cree un vector con la representación *Word2Vec* del texto del ejercicio anterior."
   ]
  },
  {
   "cell_type": "code",
   "execution_count": null,
   "id": "1b1095f43d5ff126",
   "metadata": {
    "collapsed": false
   },
   "outputs": [],
   "source": []
  },
  {
   "cell_type": "markdown",
   "id": "fb0208b28868114c",
   "metadata": {
    "collapsed": false
   },
   "source": [
    "## Ejercicio 4\n",
    "\n",
    "Clasifique el siguiente texto usando el clasificador *Naive Bayes* como el que hemos utilizado en la práctica [Introducción a PLN](https://colab.research.google.com/github/martinezpenya/MIA-IABD-2425/blob/main/UD03/notebooks/1.-introduccio_nlp_ES.ipynb).\n",
    "\n",
    "*Texto*: \"Creo que la aplicación no funciona\"."
   ]
  },
  {
   "cell_type": "code",
   "execution_count": null,
   "id": "357960e3fd0cbbd2",
   "metadata": {
    "collapsed": false
   },
   "outputs": [],
   "source": []
  }
 ],
 "metadata": {
  "kernelspec": {
   "display_name": "Python 3",
   "language": "python",
   "name": "python3"
  },
  "language_info": {
   "codemirror_mode": {
    "name": "ipython",
    "version": 2
   },
   "file_extension": ".py",
   "mimetype": "text/x-python",
   "name": "python",
   "nbconvert_exporter": "python",
   "pygments_lexer": "ipython2",
   "version": "2.7.6"
  }
 },
 "nbformat": 4,
 "nbformat_minor": 5
}
