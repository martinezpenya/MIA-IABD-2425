{
 "cells": [
  {
   "cell_type": "markdown",
   "id": "473eca6fbfabaadd",
   "metadata": {
    "collapsed": false
   },
   "source": [
    "# Simulador regat de la gespa\n",
    "\n",
    "En aquesta pràctica simularem el sistema de regat de la gespa d'un camp de futbol. El nostre sistema de regat està format per un sensor de temperatura i un sensor d'humitat del terreny.\n",
    "\n",
    "Segons els valors d'aquests sensors, el sistema de regat decidirà si ha d'activar o no l'aspersor i amb quina intensitat. L'objectiu es mantindre la humitat del terreny entre el 20% i el 25%."
   ]
  },
  {
   "cell_type": "markdown",
   "id": "c0ab3c61900a9e8e",
   "metadata": {
    "collapsed": false
   },
   "source": [
    "## Variables físiques del sistema\n",
    "\n",
    "En primer lloc, definirem el funcionament de les variables físiques del sistema.  Per simplificar el problema, considerarem que la temperatura vindrà definida per una funció sinusoidal. \n",
    "\n",
    "La funció python que defineix la temperatura és la següent:"
   ]
  },
  {
   "cell_type": "code",
   "execution_count": null,
   "id": "c51b82994da3fab0",
   "metadata": {
    "ExecuteTime": {
     "end_time": "2024-01-22T19:21:58.254767Z",
     "start_time": "2024-01-22T19:21:57.819199Z"
    },
    "collapsed": false
   },
   "outputs": [],
   "source": [
    "import numpy as np\n",
    "\n",
    "def calc_temperatura(t):\n",
    "    return 20 + 50 * np.sin(1.5 * np.pi * t / 200)\n",
    "\n",
    "# Grafiquem la funció\n",
    "\n",
    "import matplotlib.pyplot as plt\n",
    "\n",
    "t = np.arange(0, 24, 0.1)\n",
    "plt.plot(t, calc_temperatura(t), label='temperatura')\n",
    "plt.legend()\n",
    "plt.show()"
   ]
  },
  {
   "cell_type": "markdown",
   "id": "4d9bde484ff25646",
   "metadata": {
    "collapsed": false
   },
   "source": [
    "La humitat del terreny, començarà del 20% i anirà augmentant o disminuint en funció de la temperatura i de si s'activa o no l'aspersor. La funció python que defineix la humitat del terreny és la següent:"
   ]
  },
  {
   "cell_type": "code",
   "execution_count": null,
   "id": "1c5b15a1c91b8588",
   "metadata": {
    "ExecuteTime": {
     "end_time": "2024-01-22T19:21:58.779855Z",
     "start_time": "2024-01-22T19:21:58.231345Z"
    },
    "collapsed": false
   },
   "outputs": [],
   "source": [
    "def humitat_terreny(h_actual=20, temperatura=20, aspersor=0):\n",
    "    h = h_actual + 0.1 * (aspersor - 50) + 0.1 * (temperatura - 20) / 30\n",
    "    return h\n",
    "\n",
    "# Grafiquem la funció\n",
    "\n",
    "#t = np.arange(0, 24, 0.1)\n",
    "#plt.plot(t, humitat_terreny(20, 10), label='humitat terreny')\n",
    "#plt.legend()\n",
    "#plt.show()"
   ]
  },
  {
   "cell_type": "markdown",
   "id": "2be04efc9026c6e2",
   "metadata": {
    "collapsed": false
   },
   "source": [
    "## Definició del sistema de regat simple\n",
    "\n",
    "En aquest apartat, definirem un controlador simple per al sistema de regat. Aquest controlador activarà l'aspersor quan la humitat del terreny sigui inferior al 20% i desactivarà l'aspersor quan la humitat del terreny sigui superior al 25%. En cas contrari, el controlador mantindrà l'aspersor amb una intensitat proporcional a la humitat del terreny."
   ]
  },
  {
   "cell_type": "code",
   "execution_count": null,
   "id": "cad9a41328c1e105",
   "metadata": {
    "ExecuteTime": {
     "end_time": "2024-01-22T19:21:59.106097Z",
     "start_time": "2024-01-22T19:21:58.245436Z"
    },
    "collapsed": false
   },
   "outputs": [],
   "source": [
    "def controlador_simple(humitat_terreny_actual,  temperatura=20):\n",
    "    if humitat_terreny_actual < 20:\n",
    "        return 100\n",
    "    elif humitat_terreny_actual > 25:\n",
    "        return 0\n",
    "    else:\n",
    "        return (25 - humitat_terreny_actual) * 100 / 3\n",
    "        \n",
    "def simula_regat(cnt, humitat_terreny_actual=20, t_final=100):\n",
    "    # Definim els vectors de temps i de valors de les variables\n",
    "    temperatures = []\n",
    "    humitats_terreny = []\n",
    "    aspersors = []\n",
    "    for i in range(t_final):\n",
    "        temp = calc_temperatura(i)\n",
    "        temperatures.append(temp)\n",
    "\n",
    "        aspersor = cnt(humitat_terreny_actual, temp)\n",
    "        aspersors.append(aspersor)\n",
    "        \n",
    "        humitat_terreny_actual = humitat_terreny(h_actual=humitat_terreny_actual, temperatura=temp, aspersor=aspersor)\n",
    "        humitats_terreny.append(humitat_terreny_actual)\n",
    "        \n",
    "    # Grafiquem els resultats\n",
    "    plt.plot(temperatures, label='temperatura')\n",
    "    plt.plot(aspersors, label='aspersor')\n",
    "    plt.plot(humitats_terreny, label='humitat terreny')\n",
    "    plt.legend()\n",
    "\n",
    "simula_regat(controlador_simple, 20, 200)    "
   ]
  },
  {
   "cell_type": "markdown",
   "id": "36843ef0e5137a4d",
   "metadata": {
    "collapsed": false
   },
   "source": [
    "## Controlador difús\n",
    "\n",
    "En aquest apartat, definirem un controlador difús per al sistema de regat.\n",
    "\n",
    "Per a la implementació del controlador, utilitzarem la llibreria [scikit-fuzzy](https://pythonhosted.org/scikit-fuzzy/). Aquesta llibreria ens permetrà definir les funcions d'adhesió i les regles difuses de forma senzilla.\n",
    "\n",
    "Començarem important les llibreries necessàries:"
   ]
  },
  {
   "cell_type": "code",
   "execution_count": null,
   "id": "f8ef0768a5dd6050",
   "metadata": {
    "ExecuteTime": {
     "end_time": "2024-01-22T19:21:59.127442Z",
     "start_time": "2024-01-22T19:21:59.116927Z"
    },
    "collapsed": false
   },
   "outputs": [],
   "source": [
    "#%pip install scikit-fuzzy\n",
    "# Importem les llibreries necessàries\n",
    "\n",
    "import skfuzzy as fuzz\n",
    "from skfuzzy import control as ctrl"
   ]
  },
  {
   "cell_type": "markdown",
   "id": "71de51aedd9059e5",
   "metadata": {
    "collapsed": false
   },
   "source": [
    "## Definició dels antecedents i dels consequents\n",
    "\n",
    "En primer lloc, definirem els antecedents i els consequents del sistema de regat. Els antecedents són els sensors de temperatura i humitat del terreny. Els consequents són els valors de l'aspersor."
   ]
  },
  {
   "cell_type": "code",
   "execution_count": null,
   "id": "f53b31c5e8e23932",
   "metadata": {
    "ExecuteTime": {
     "end_time": "2024-01-22T19:21:59.162987Z",
     "start_time": "2024-01-22T19:21:59.133364Z"
    },
    "collapsed": false
   },
   "outputs": [],
   "source": [
    "# Definim els antecedents i els consequents\n",
    "\n",
    "# Antecedents\n",
    "\n",
    "# Temperatura\n",
    "temperatura = ctrl.Antecedent(np.arange(-10, 101, 1), 'temperatura (ºC)')\n",
    "\n",
    "# Humitat del terreny\n",
    "humitat = ctrl.Antecedent(np.arange(0, 101, 1), 'humitat terreny (%)')\n",
    "\n",
    "# Consequents\n",
    "\n",
    "# Aspersor\n",
    "aspersor = ctrl.Consequent(np.arange(0, 101, 1), 'aspersor (%)')"
   ]
  },
  {
   "cell_type": "markdown",
   "id": "cc98fc4ffe81bac6",
   "metadata": {
    "collapsed": false
   },
   "source": [
    "## Definició de les funcions d'adhesió\n",
    "\n",
    "A continuació, definirem les funcions d'adhesió dels antecedents i dels consequents. Per a cada antecedent i per a cada consequent, definirem les funcions d'adhesió que considerem necessàries. En aquest cas, definirem les funcions d'adhesió triangulars.\n",
    "\n",
    "Per a definir les funcions d'adhesió, utilitzarem la funció `trimf` de la llibreria `skfuzzy`. Aquesta funció rep com a paràmetre un vector amb els punts de la funció d'adhesió. En el nostre cas, definirem funcions d'adhesió triangulars.\n",
    "\n",
    "Per a definir els punts de les funcions d'adhesió, ens basarem en els criteris de la taula següent:\n",
    "\n",
    "| Antecedent  | Punts funció d'adhesió                                                                                  |\n",
    "|-------------|---------------------------------------------------------------------------------------------------------|\n",
    "| Humitat     | Sec: 0, 0, 17<br>Apropiat: 15, 20, 25<br>Mullat: 23, 50, 100                                            |\n",
    "| Temperatura | Fred: -10, 0, 15<br>Normal: 12, 20, 28<br>Calor: 24, 31.5, 39<br>Molta calor: 35, 65.5, 100             |\n",
    "| Aspersor    | Molt poc: -20, 0, 20<br>Poc: 15, 30, 45<br>Mitja: 40, 55, 70<br>Molt: 65, 75, 85<br>Total: 80, 100, 120 |\n",
    "\n"
   ]
  },
  {
   "cell_type": "code",
   "execution_count": null,
   "id": "57ae04314c301240",
   "metadata": {
    "ExecuteTime": {
     "end_time": "2024-01-22T19:22:02.263473Z",
     "start_time": "2024-01-22T19:21:59.165218Z"
    },
    "collapsed": false
   },
   "outputs": [],
   "source": [
    "# Definim les funcions d'adhesió dels antecedents i dels consequents\n",
    "\n",
    "# Humitat terreny\n",
    "humitat['sec'] = fuzz.trimf(humitat.universe, [0, 0, 17])\n",
    "humitat['apropiat'] = fuzz.trimf(humitat.universe, [15, 20, 25])\n",
    "humitat['mullat'] = fuzz.trimf(humitat.universe, [23, 50, 100])\n",
    "\n",
    "# Temperatura\n",
    "temperatura['fred'] = fuzz.trimf(temperatura.universe, [-50, 0, 15])\n",
    "temperatura['normal'] = fuzz.trimf(temperatura.universe, [12, 20, 28])\n",
    "temperatura['calor'] = fuzz.trimf(temperatura.universe, [24, 31.5, 39])\n",
    "temperatura['molta_calor'] = fuzz.trimf(temperatura.universe, [35, 65.5, 100])\n",
    "\n",
    "# Aspersor\n",
    "aspersor['molt poc'] = fuzz.trimf(aspersor.universe, [-20, 0, 20])\n",
    "aspersor['poc'] = fuzz.trimf(aspersor.universe, [15, 30, 45])\n",
    "aspersor['mitja'] = fuzz.trimf(aspersor.universe, [40, 55, 70])\n",
    "aspersor['molt'] = fuzz.trimf(aspersor.universe, [65, 75, 85])\n",
    "aspersor['total'] = fuzz.trimf(aspersor.universe, [80, 100, 120])\n",
    "\n",
    "# Visualitzem les funcions d'adhesió\n",
    "humitat.view()\n",
    "temperatura.view()\n",
    "humitat.view()\n",
    "\n",
    "aspersor.view()"
   ]
  },
  {
   "cell_type": "markdown",
   "id": "f7e7da9e56c208a5",
   "metadata": {
    "collapsed": false
   },
   "source": [
    "## Definició de les regles difuses\n",
    "\n",
    "A continuació, definirem les regles difuses del sistema de regat. Per a definir les regles difuses, utilitzarem la funció `ctrl.Rule` de la llibreria `skfuzzy`. Aquesta funció rep com a paràmetres els antecedents i els consequents de la regla difusa, així com l'operador lógic que s'aplicarà entre els antecedents.\n",
    "\n",
    "En el nostre cas, definirem les regles difuses següents:\n",
    "\n",
    "| Humi. terreny | Temp.      | Aspersor |\n",
    "|---------------|------------|----------|\n",
    "| Sec           | Fred       | Molt     |\n",
    "| Sec           | Normal     | Molt     |\n",
    "| Sec           | Calor      | Total    |\n",
    "| Sec           | Molt calor | Total    |\n",
    "| Apropiat      | Fred       | Poc      |\n",
    "| Apropiat      | Normal     | Poc      |\n",
    "| Apropiat      | Calor      | Mitja    |\n",
    "| Apropiat      | Molt calor | Mitja    |\n",
    "| Mullat        | Fred       | Molt Poc |\n",
    "| Mullat        | Normal     | Molt Poc |\n",
    "| Mullat        | Calor      | Molt Poc |\n",
    "| Mullat        | Molt calor | Poc      |\n",
    "\n",
    "  "
   ]
  },
  {
   "cell_type": "code",
   "execution_count": null,
   "id": "337cd24e53e0a931",
   "metadata": {
    "ExecuteTime": {
     "end_time": "2024-01-22T19:22:02.315870Z",
     "start_time": "2024-01-22T19:22:02.278828Z"
    },
    "collapsed": false
   },
   "outputs": [],
   "source": [
    "# Definim les regles difuses\n",
    "\n",
    "regla1 = ctrl.Rule(humitat['sec'] & temperatura['fred'], aspersor['mitja'])\n",
    "regla2 = ctrl.Rule(humitat['sec'] & temperatura['normal'], aspersor['mitja'])\n",
    "regla3 = ctrl.Rule(humitat['sec'] & temperatura['calor'], aspersor['mitja'])\n",
    "regla4 = ctrl.Rule(humitat['sec'] & temperatura['molta_calor'], aspersor['mitja'])\n",
    "regla5 = ctrl.Rule(humitat['apropiat'] & temperatura['fred'], aspersor['poc'])\n",
    "regla6 = ctrl.Rule(humitat['apropiat'] & temperatura['normal'], aspersor['poc'])\n",
    "regla7 = ctrl.Rule(humitat['apropiat'] & temperatura['calor'], aspersor['mitja'])\n",
    "regla8 = ctrl.Rule(humitat['apropiat'] & temperatura['molta_calor'], aspersor['mitja'])\n",
    "regla9 = ctrl.Rule(humitat['mullat'] & temperatura['fred'], aspersor['molt poc'])\n",
    "regla10 = ctrl.Rule(humitat['mullat'] & temperatura['normal'], aspersor['molt poc'])\n",
    "regla11 = ctrl.Rule(humitat['mullat'] & temperatura['calor'], aspersor['molt poc'])\n",
    "regla12 = ctrl.Rule(humitat['mullat'] & temperatura['molta_calor'], aspersor['poc'])"
   ]
  },
  {
   "cell_type": "markdown",
   "id": "a856f3f0dffb3c4c",
   "metadata": {
    "collapsed": false
   },
   "source": [
    "## Definició del sistema de regat\n",
    "\n",
    "A continuació, definirem el sistema de regat. Per a definir el sistema de regat, utilitzarem la funció `ctrl.ControlSystem` de la llibreria `skfuzzy`. Aquesta funció rep com a paràmetre una llista amb les regles difuses del sistema.\n"
   ]
  },
  {
   "cell_type": "code",
   "execution_count": null,
   "id": "6edda116b918d7e7",
   "metadata": {
    "ExecuteTime": {
     "end_time": "2024-01-22T19:22:04.036786Z",
     "start_time": "2024-01-22T19:22:02.305784Z"
    },
    "collapsed": false
   },
   "outputs": [],
   "source": [
    "# Definim el sistema de regat\n",
    "\n",
    "sistema_regat = ctrl.ControlSystem([regla1, regla2, regla3, regla4, regla5, regla6, regla7, regla8, regla9, regla10, regla11, regla12])\n",
    "\n",
    "# Visualitzem el sistema de regat\n",
    "sistema_regat.view()"
   ]
  },
  {
   "cell_type": "markdown",
   "id": "4206d886547d5dfa",
   "metadata": {
    "collapsed": false
   },
   "source": [
    "## Definició del simulador del sistema de regat\n",
    "\n",
    "A continuació, definirem el simulador del sistema de regat. Per a definir el simulador del sistema de regat, utilitzarem la funció `ctrl.ControlSystemSimulation` de la llibreria `skfuzzy`. Aquesta funció rep com a paràmetre el sistema de regat.\n"
   ]
  },
  {
   "cell_type": "code",
   "execution_count": null,
   "id": "85d389ad0ca97223",
   "metadata": {
    "ExecuteTime": {
     "end_time": "2024-01-22T19:22:04.086228Z",
     "start_time": "2024-01-22T19:22:04.039156Z"
    },
    "collapsed": false
   },
   "outputs": [],
   "source": [
    "# Definim el simulador del sistema de regat\n",
    "\n",
    "simulador_regat = ctrl.ControlSystemSimulation(sistema_regat)"
   ]
  },
  {
   "cell_type": "markdown",
   "id": "fb0c5f5a2b05932f",
   "metadata": {
    "collapsed": false
   },
   "source": [
    "## Simulació del sistema de regat\n",
    "\n",
    "A continuació, simularem el sistema de regat."
   ]
  },
  {
   "cell_type": "code",
   "execution_count": null,
   "id": "de3883cf5e1038f0",
   "metadata": {
    "ExecuteTime": {
     "end_time": "2024-01-22T19:22:04.898629Z",
     "start_time": "2024-01-22T19:22:04.068337Z"
    },
    "collapsed": false
   },
   "outputs": [],
   "source": [
    "def controlador_difus(humitat_terreny_actual, temperatura):\n",
    "    # Definim els antecedents del sistema de regat\n",
    "    simulador_regat.input['humitat terreny (%)'] = humitat_terreny_actual\n",
    "    simulador_regat.input['temperatura (ºC)'] = temperatura\n",
    "    \n",
    "    # Executem el sistema de regat\n",
    "    try:\n",
    "        simulador_regat.compute()\n",
    "    except Exception as e:\n",
    "        print(\"Humi. terreny: \" + str(humitat_terreny_actual) + \" Temp.: \" + str(temperatura))\n",
    "    \n",
    "    # Retornem el valor de l'aspersor\n",
    "    return simulador_regat.output['aspersor (%)']\n",
    "\n",
    "simula_regat(controlador_difus, 20, 100)"
   ]
  }
 ],
 "metadata": {
  "kernelspec": {
   "display_name": "Python 3",
   "language": "python",
   "name": "python3"
  },
  "language_info": {
   "codemirror_mode": {
    "name": "ipython",
    "version": 2
   },
   "file_extension": ".py",
   "mimetype": "text/x-python",
   "name": "python",
   "nbconvert_exporter": "python",
   "pygments_lexer": "ipython2",
   "version": "2.7.6"
  }
 },
 "nbformat": 4,
 "nbformat_minor": 5
}
