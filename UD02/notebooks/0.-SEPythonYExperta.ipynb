{
 "cells": [
  {
   "cell_type": "markdown",
   "metadata": {},
   "source": [
    "# Sistemas expertos con Python y Experta\n",
    "\n",
    "## Introducción\n",
    "\n",
    "### Filosofía\n",
    "\n",
    "Nuestro objetivo es implementar una alternativa Python a CLIPS, lo más compatible posible. Con el objetivo de facilitar al programador CLIPS la transferencia de todos sus conocimientos a esta plataforma.\n",
    "\n",
    "\n",
    "### Características\n",
    "\n",
    "* Compatible con Python 3.\n",
    "* Implementación pura de Python.\n",
    "* Matcher basado en el algoritmo RETE.\n",
    "\n",
    "### Diferencia entre CLIPS y Experta\n",
    "\n",
    "1. CLIPS es un lenguaje de programación, Experta es una biblioteca de Python. Esto impone algunas limitaciones a las construcciones que podemos hacer (especialmente al LHS de una regla).\n",
    "2. CLIPS está escrito en C, Experta en Python. Es de esperar un impacto notable en el rendimiento.\n",
    "3. En CLIPS agregas hechos usando `assert`, en Python `assert` es una palabra clave, por lo que usamos `declare` en su lugar.\n",
    "\n",
    "### Installation\n",
    "\n",
    "El docente del módulo MIA ha preparado un contenedor docker en el que podemos ejecutar este NoteBook de jupyter y además lleva instalado experta y python 3.6.\n",
    "\n",
    "## Lo básico\n",
    "\n",
    "Un sistema experto es un programa capaz de emparejar un conjunto de hechos con un conjunto de reglas para esos hechos y ejecutar algunas acciones basadas en las reglas de coincidencia.\n",
    "\n",
    "### Hechos\n",
    "\n",
    "Los hechos son la unidad básica de información de Experta. Son utilizados por el sistema para razonar sobre el problema.\n",
    "\n",
    "Enumeremos algunos datos sobre *Hechos*, entonces… *metahechos*;)\n",
    "\n",
    "Necesitamos preparar el Notebook importando experta"
   ]
  },
  {
   "cell_type": "code",
   "execution_count": 1,
   "metadata": {},
   "outputs": [
    {
     "name": "stdout",
     "output_type": "stream",
     "text": [
      "\u001b[1;31merror\u001b[0m: \u001b[1mexternally-managed-environment\u001b[0m\n",
      "\n",
      "\u001b[31m×\u001b[0m This environment is externally managed\n",
      "\u001b[31m╰─>\u001b[0m To install Python packages system-wide, try apt install\n",
      "\u001b[31m   \u001b[0m python3-xyz, where xyz is the package you are trying to\n",
      "\u001b[31m   \u001b[0m install.\n",
      "\u001b[31m   \u001b[0m \n",
      "\u001b[31m   \u001b[0m If you wish to install a non-Debian-packaged Python package,\n",
      "\u001b[31m   \u001b[0m create a virtual environment using python3 -m venv path/to/venv.\n",
      "\u001b[31m   \u001b[0m Then use path/to/venv/bin/python and path/to/venv/bin/pip. Make\n",
      "\u001b[31m   \u001b[0m sure you have python3-full installed.\n",
      "\u001b[31m   \u001b[0m \n",
      "\u001b[31m   \u001b[0m If you wish to install a non-Debian packaged Python application,\n",
      "\u001b[31m   \u001b[0m it may be easiest to use pipx install xyz, which will manage a\n",
      "\u001b[31m   \u001b[0m virtual environment for you. Make sure you have pipx installed.\n",
      "\u001b[31m   \u001b[0m \n",
      "\u001b[31m   \u001b[0m See /usr/share/doc/python3.12/README.venv for more information.\n",
      "\n",
      "\u001b[1;35mnote\u001b[0m: If you believe this is a mistake, please contact your Python installation or OS distribution provider. You can override this, at the risk of breaking your Python installation or OS, by passing --break-system-packages.\n",
      "\u001b[1;36mhint\u001b[0m: See PEP 668 for the detailed specification.\n"
     ]
    },
    {
     "ename": "ModuleNotFoundError",
     "evalue": "No module named 'experta'",
     "output_type": "error",
     "traceback": [
      "\u001b[0;31m---------------------------------------------------------------------------\u001b[0m",
      "\u001b[0;31mModuleNotFoundError\u001b[0m                       Traceback (most recent call last)",
      "\u001b[1;32m/media/DADES/OneDriveGVA/DOCENCIA/24-25/MIA-2425/MIA-IABD-2425/UD02/jupyter/notebooks/Sistemas expertos con Python y Experta.ipynb Celda 2\u001b[0m line \u001b[0;36m2\n\u001b[1;32m      <a href='vscode-notebook-cell:/media/DADES/OneDriveGVA/DOCENCIA/24-25/MIA-2425/MIA-IABD-2425/UD02/jupyter/notebooks/Sistemas%20expertos%20con%20Python%20y%20Experta.ipynb#W1sZmlsZQ%3D%3D?line=0'>1</a>\u001b[0m get_ipython()\u001b[39m.\u001b[39msystem(\u001b[39m'\u001b[39m\u001b[39mpip install git+https://github.com/openmotics/om-experta.git\u001b[39m\u001b[39m'\u001b[39m)\n\u001b[0;32m----> <a href='vscode-notebook-cell:/media/DADES/OneDriveGVA/DOCENCIA/24-25/MIA-2425/MIA-IABD-2425/UD02/jupyter/notebooks/Sistemas%20expertos%20con%20Python%20y%20Experta.ipynb#W1sZmlsZQ%3D%3D?line=1'>2</a>\u001b[0m \u001b[39mfrom\u001b[39;00m \u001b[39mexperta\u001b[39;00m \u001b[39mimport\u001b[39;00m \u001b[39m*\u001b[39m\n",
      "\u001b[0;31mModuleNotFoundError\u001b[0m: No module named 'experta'"
     ]
    }
   ],
   "source": [
    "!pip install git+https://github.com/openmotics/om-experta.git\n",
    "from experta import *"
   ]
  },
  {
   "cell_type": "markdown",
   "metadata": {},
   "source": [
    "1. La clase Fact es una subclase de dict."
   ]
  },
  {
   "cell_type": "code",
   "execution_count": 2,
   "metadata": {
    "scrolled": true
   },
   "outputs": [
    {
     "data": {
      "text/plain": [
       "1"
      ]
     },
     "execution_count": 2,
     "metadata": {},
     "output_type": "execute_result"
    }
   ],
   "source": [
    "f = Fact(a=1, b=2)\n",
    "f['a']"
   ]
  },
  {
   "cell_type": "markdown",
   "metadata": {},
   "source": [
    "2. Por lo tanto un Hecho no mantiene un orden interno de elementos."
   ]
  },
  {
   "cell_type": "code",
   "execution_count": 3,
   "metadata": {},
   "outputs": [
    {
     "data": {
      "text/plain": [
       "Fact(a=1, b=2)"
      ]
     },
     "execution_count": 3,
     "metadata": {},
     "output_type": "execute_result"
    }
   ],
   "source": [
    "Fact(a=1, b=2)  # Order is arbirary :O"
   ]
  },
  {
   "cell_type": "markdown",
   "metadata": {},
   "source": [
    "3. A diferencia de dict , puedes crear un Hecho sin claves (solo valores), y `Fact` creará un índice numérico para tus valores."
   ]
  },
  {
   "cell_type": "code",
   "execution_count": 4,
   "metadata": {},
   "outputs": [
    {
     "data": {
      "text/plain": [
       "'x'"
      ]
     },
     "execution_count": 4,
     "metadata": {},
     "output_type": "execute_result"
    }
   ],
   "source": [
    "f = Fact('x', 'y', 'z')\n",
    "f[0]"
   ]
  },
  {
   "cell_type": "markdown",
   "metadata": {},
   "source": [
    "4. Puede mezclar valores autonuméricos con valores-clave, pero primero se deben declarar los autonuméricos:"
   ]
  },
  {
   "cell_type": "code",
   "execution_count": 5,
   "metadata": {},
   "outputs": [
    {
     "data": {
      "text/plain": [
       "'y'"
      ]
     },
     "execution_count": 5,
     "metadata": {},
     "output_type": "execute_result"
    }
   ],
   "source": [
    "f = Fact('x', 'y', 'z', a=1, b=2)\n",
    "f[1]"
   ]
  },
  {
   "cell_type": "code",
   "execution_count": 6,
   "metadata": {},
   "outputs": [
    {
     "data": {
      "text/plain": [
       "2"
      ]
     },
     "execution_count": 6,
     "metadata": {},
     "output_type": "execute_result"
    }
   ],
   "source": [
    "f['b']"
   ]
  },
  {
   "cell_type": "markdown",
   "metadata": {},
   "source": [
    "### Reglas\n",
    "\n",
    "En Experta una regla es invocable.\n",
    "\n",
    "Las reglas tienen dos componentes, LHS (lado izquierdo) y RHS (lado derecho).\n",
    "\n",
    "* El LHS describe (usando patrones) las condiciones en las que la regla debe ejecutarse (o activarse).\n",
    "* El RHS es el conjunto de acciones a realizar cuando se activa la regla.\n",
    "\n",
    "Para que un Hecho coincida con un Patron, todas las restricciones del patrón deben ser **True** cuando el Hecho se evalúa con respecto a él."
   ]
  },
  {
   "cell_type": "code",
   "execution_count": 7,
   "metadata": {},
   "outputs": [],
   "source": [
    "class MyFact(Fact):\n",
    "    pass\n",
    "\n",
    "@Rule(MyFact())  # This is the LHS\n",
    "def match_with_every_myfact():\n",
    "    \"\"\"This rule will match with every instance of `MyFact`.\"\"\"\n",
    "    # This is the RHS\n",
    "    pass\n",
    "\n",
    "@Rule(Fact('animal', family='felinae'))\n",
    "def match_with_cats():\n",
    "    \"\"\"\n",
    "    Match with every `Fact` which:\n",
    "\n",
    "      * f[0] == 'animal'\n",
    "      * f['family'] == 'felinae'\n",
    "\n",
    "    \"\"\"\n",
    "    print(\"Meow!\")"
   ]
  },
  {
   "cell_type": "markdown",
   "metadata": {},
   "source": [
    "Puede utilizar operadores lógicos para expresar condiciones LHS complejas."
   ]
  },
  {
   "cell_type": "code",
   "execution_count": 8,
   "metadata": {},
   "outputs": [],
   "source": [
    "class User(Fact):\n",
    "    pass\n",
    "\n",
    "@Rule(\n",
    "    AND(\n",
    "        OR(User('admin'),\n",
    "           User('root')),\n",
    "        NOT(Fact('drop-privileges'))\n",
    "    )\n",
    ")\n",
    "def the_user_has_power():\n",
    "    \"\"\"\n",
    "    The user is a privileged one and we are not dropping privileges.\n",
    "\n",
    "    \"\"\"\n",
    "    enable_superpowers()"
   ]
  },
  {
   "cell_type": "markdown",
   "metadata": {},
   "source": [
    "#### Hechos vs Patrones\n",
    "\n",
    "La diferencia entre hechos y patrones es pequeña. De hecho, los patrones son solo hechos que contienen elementos condicionales de patrón (Pattern Conditional Elements PCE) en lugar de datos regulares. Se utilizan únicamente en el LHS de una regla.\n",
    "\n",
    "Si no proporciona el contenido de un patrón como **PCE**, Experta incluirá el valor en un Literal PCE automáticamente.\n",
    "\n",
    "Además, no puede declarar ningún Hecho que contenga un PCE; si lo hace, recibirá una excepción."
   ]
  },
  {
   "cell_type": "code",
   "execution_count": 10,
   "metadata": {},
   "outputs": [
    {
     "ename": "TypeError",
     "evalue": "Declared facts cannot contain conditional elements",
     "output_type": "error",
     "traceback": [
      "\u001b[0;31m---------------------------------------------------------------------------\u001b[0m",
      "\u001b[0;31mTypeError\u001b[0m                                 Traceback (most recent call last)",
      "\u001b[0;32m<ipython-input-10-3450b450571e>\u001b[0m in \u001b[0;36m<module>\u001b[0;34m\u001b[0m\n\u001b[1;32m      1\u001b[0m \u001b[0mke\u001b[0m \u001b[0;34m=\u001b[0m \u001b[0mKnowledgeEngine\u001b[0m\u001b[0;34m(\u001b[0m\u001b[0;34m)\u001b[0m\u001b[0;34m\u001b[0m\u001b[0;34m\u001b[0m\u001b[0m\n\u001b[1;32m      2\u001b[0m \u001b[0mke\u001b[0m\u001b[0;34m.\u001b[0m\u001b[0mreset\u001b[0m\u001b[0;34m(\u001b[0m\u001b[0;34m)\u001b[0m\u001b[0;34m\u001b[0m\u001b[0;34m\u001b[0m\u001b[0m\n\u001b[0;32m----> 3\u001b[0;31m \u001b[0mke\u001b[0m\u001b[0;34m.\u001b[0m\u001b[0mdeclare\u001b[0m\u001b[0;34m(\u001b[0m\u001b[0mFact\u001b[0m\u001b[0;34m(\u001b[0m\u001b[0mL\u001b[0m\u001b[0;34m(\u001b[0m\u001b[0;34m\"hi\"\u001b[0m\u001b[0;34m)\u001b[0m\u001b[0;34m)\u001b[0m\u001b[0;34m)\u001b[0m\u001b[0;34m\u001b[0m\u001b[0;34m\u001b[0m\u001b[0m\n\u001b[0m",
      "\u001b[0;32m/usr/local/lib/python3.6/site-packages/experta/engine.py\u001b[0m in \u001b[0;36mdeclare\u001b[0;34m(self, *facts)\u001b[0m\n\u001b[1;32m    242\u001b[0m         \u001b[0;32mif\u001b[0m \u001b[0;32mnot\u001b[0m \u001b[0mself\u001b[0m\u001b[0;34m.\u001b[0m\u001b[0mfacts\u001b[0m\u001b[0;34m:\u001b[0m\u001b[0;34m\u001b[0m\u001b[0;34m\u001b[0m\u001b[0m\n\u001b[1;32m    243\u001b[0m             \u001b[0mwatchers\u001b[0m\u001b[0;34m.\u001b[0m\u001b[0mENGINE\u001b[0m\u001b[0;34m.\u001b[0m\u001b[0mwarning\u001b[0m\u001b[0;34m(\u001b[0m\u001b[0;34m\"Declaring fact before reset()\"\u001b[0m\u001b[0;34m)\u001b[0m\u001b[0;34m\u001b[0m\u001b[0;34m\u001b[0m\u001b[0m\n\u001b[0;32m--> 244\u001b[0;31m         \u001b[0;32mreturn\u001b[0m \u001b[0mself\u001b[0m\u001b[0;34m.\u001b[0m\u001b[0m__declare\u001b[0m\u001b[0;34m(\u001b[0m\u001b[0;34m*\u001b[0m\u001b[0mfacts\u001b[0m\u001b[0;34m)\u001b[0m\u001b[0;34m\u001b[0m\u001b[0;34m\u001b[0m\u001b[0m\n\u001b[0m",
      "\u001b[0;32m/usr/local/lib/python3.6/site-packages/experta/engine.py\u001b[0m in \u001b[0;36m__declare\u001b[0;34m(self, *facts)\u001b[0m\n\u001b[1;32m    216\u001b[0m         \u001b[0;32mif\u001b[0m \u001b[0many\u001b[0m\u001b[0;34m(\u001b[0m\u001b[0mf\u001b[0m\u001b[0;34m.\u001b[0m\u001b[0mhas_field_constraints\u001b[0m\u001b[0;34m(\u001b[0m\u001b[0;34m)\u001b[0m \u001b[0;32mfor\u001b[0m \u001b[0mf\u001b[0m \u001b[0;32min\u001b[0m \u001b[0mfacts\u001b[0m\u001b[0;34m)\u001b[0m\u001b[0;34m:\u001b[0m\u001b[0;34m\u001b[0m\u001b[0;34m\u001b[0m\u001b[0m\n\u001b[1;32m    217\u001b[0m             raise TypeError(\n\u001b[0;32m--> 218\u001b[0;31m                 \"Declared facts cannot contain conditional elements\")\n\u001b[0m\u001b[1;32m    219\u001b[0m         \u001b[0;32melif\u001b[0m \u001b[0many\u001b[0m\u001b[0;34m(\u001b[0m\u001b[0mf\u001b[0m\u001b[0;34m.\u001b[0m\u001b[0mhas_nested_accessor\u001b[0m\u001b[0;34m(\u001b[0m\u001b[0;34m)\u001b[0m \u001b[0;32mfor\u001b[0m \u001b[0mf\u001b[0m \u001b[0;32min\u001b[0m \u001b[0mfacts\u001b[0m\u001b[0;34m)\u001b[0m\u001b[0;34m:\u001b[0m\u001b[0;34m\u001b[0m\u001b[0;34m\u001b[0m\u001b[0m\n\u001b[1;32m    220\u001b[0m             raise KeyError(\n",
      "\u001b[0;31mTypeError\u001b[0m: Declared facts cannot contain conditional elements"
     ]
    }
   ],
   "source": [
    "ke = KnowledgeEngine()\n",
    "ke.declare(Fact(L(\"hi\")))"
   ]
  },
  {
   "cell_type": "markdown",
   "metadata": {},
   "source": [
    "### DefFacts (Hechos iniciales?)\n",
    "\n",
    "La mayoría de las veces, los sistemas expertos necesitan que esté presente un conjunto de hechos para que el sistema funcione. Este es el propósito del decorador DefFacts."
   ]
  },
  {
   "cell_type": "code",
   "execution_count": 10,
   "metadata": {},
   "outputs": [],
   "source": [
    "@DefFacts()\n",
    "def needed_data():\n",
    "    yield Fact(best_color=\"red\")\n",
    "    yield Fact(best_body=\"medium\")\n",
    "    yield Fact(best_sweetness=\"dry\")"
   ]
  },
  {
   "cell_type": "markdown",
   "metadata": {},
   "source": [
    "Todos los DefFacts dentro de **KnowledgeEngine** se llamarán cada vez que se llame al método de `reset()`."
   ]
  },
  {
   "cell_type": "markdown",
   "metadata": {},
   "source": [
    "### Base de hechos (KnowledgeEngine)\n",
    "\n",
    "Este es el lugar donde ocurre toda la magia.\n",
    "El primer paso es crear una subclase y usar `Rule` para decorar sus métodos.\n",
    "Después de eso, puede crear una instancia, completarlo con hechos y finalmente ejecutarlo."
   ]
  },
  {
   "cell_type": "code",
   "execution_count": 11,
   "metadata": {},
   "outputs": [
    {
     "name": "stdout",
     "output_type": "stream",
     "text": [
      "Where are you? \n",
      "What's your name? \n",
      "Hi ! How is the weather in ?\n"
     ]
    }
   ],
   "source": [
    "from experta import *\n",
    "\n",
    "class Greetings(KnowledgeEngine):\n",
    "    @DefFacts()\n",
    "    def _initial_action(self):\n",
    "        yield Fact(action=\"greet\")\n",
    "\n",
    "    @Rule(Fact(action='greet'),\n",
    "          NOT(Fact(name=W())))\n",
    "    def ask_name(self):\n",
    "        self.declare(Fact(name=input(\"What's your name? \")))\n",
    "\n",
    "    @Rule(Fact(action='greet'),\n",
    "          NOT(Fact(location=W())))\n",
    "    def ask_location(self):\n",
    "        self.declare(Fact(location=input(\"Where are you? \")))\n",
    "\n",
    "    @Rule(Fact(action='greet'),\n",
    "          Fact(name=MATCH.name),\n",
    "          Fact(location=MATCH.location))\n",
    "    def greet(self, name, location):\n",
    "        print(\"Hi %s! How is the weather in %s?\" % (name, location))\n",
    "\n",
    "engine = Greetings()\n",
    "engine.reset()  # Prepare the engine for the execution.\n",
    "engine.run()  # Run it!"
   ]
  },
  {
   "cell_type": "markdown",
   "metadata": {},
   "source": [
    "#### Manejo de hechos\n",
    "Los siguientes métodos se utilizan para manipular el conjunto de hechos que conoce el motor.\n",
    "\n",
    "##### declare\n",
    "\n",
    "Agrega un nuevo hecho a la lista de hechos (la lista de hechos conocidos por el motor)."
   ]
  },
  {
   "cell_type": "code",
   "execution_count": 12,
   "metadata": {},
   "outputs": [
    {
     "data": {
      "text/plain": [
       "FactList([(0, InitialFact()), (1, Fact(score=5))])"
      ]
     },
     "execution_count": 12,
     "metadata": {},
     "output_type": "execute_result"
    }
   ],
   "source": [
    "engine = KnowledgeEngine()\n",
    "engine.reset()\n",
    "engine.declare(Fact(score=5))\n",
    "engine.facts"
   ]
  },
  {
   "cell_type": "markdown",
   "metadata": {},
   "source": [
    ">El mismo hecho no se puede declarar dos veces a menos que Facts.duplication esté establecido en True.\n",
    "\n",
    "##### retract\n",
    "\n",
    "Elimina un hecho existente de la lista de hechos.\n",
    "\n",
    ">Tanto el índice como el hecho se pueden utilizar con `retract`."
   ]
  },
  {
   "cell_type": "code",
   "execution_count": 13,
   "metadata": {
    "scrolled": true
   },
   "outputs": [
    {
     "data": {
      "text/plain": [
       "FactList([(0, InitialFact())])"
      ]
     },
     "execution_count": 13,
     "metadata": {},
     "output_type": "execute_result"
    }
   ],
   "source": [
    "engine.retract(1)\n",
    "engine.facts"
   ]
  },
  {
   "cell_type": "markdown",
   "metadata": {},
   "source": [
    "##### modify\n",
    "\n",
    "Retira algún hecho de la lista de hechos y declara uno nuevo con algunos cambios. Los cambios se pasan como argumentos.\n"
   ]
  },
  {
   "cell_type": "code",
   "execution_count": 14,
   "metadata": {},
   "outputs": [
    {
     "data": {
      "text/plain": [
       "FactList([(0, InitialFact()), (2, Fact(color='red'))])"
      ]
     },
     "execution_count": 14,
     "metadata": {},
     "output_type": "execute_result"
    }
   ],
   "source": [
    "engine.declare(Fact(color=\"red\"))\n",
    "engine.facts"
   ]
  },
  {
   "cell_type": "code",
   "execution_count": 15,
   "metadata": {},
   "outputs": [
    {
     "data": {
      "text/plain": [
       "FactList([(0, InitialFact()), (3, Fact(color='yellow', blink=True))])"
      ]
     },
     "execution_count": 15,
     "metadata": {},
     "output_type": "execute_result"
    }
   ],
   "source": [
    "engine.modify(engine.facts[2], color='yellow', blink=True)\n",
    "engine.facts"
   ]
  },
  {
   "cell_type": "markdown",
   "metadata": {},
   "source": [
    "##### duplicate\n",
    "\n",
    "Agrega un hecho nuevo a la lista de hechos utilizando un hecho existente como plantilla y agregando algunas modificaciones."
   ]
  },
  {
   "cell_type": "code",
   "execution_count": 16,
   "metadata": {},
   "outputs": [
    {
     "data": {
      "text/plain": [
       "FactList([(0, InitialFact()), (3, Fact(color='yellow', blink=True))])"
      ]
     },
     "execution_count": 16,
     "metadata": {},
     "output_type": "execute_result"
    }
   ],
   "source": [
    "engine.facts"
   ]
  },
  {
   "cell_type": "code",
   "execution_count": 17,
   "metadata": {},
   "outputs": [
    {
     "data": {
      "text/plain": [
       "FactList([(0, InitialFact()),\n",
       "          (3, Fact(color='yellow', blink=True)),\n",
       "          (4, Fact(color='orange', blink=False))])"
      ]
     },
     "execution_count": 17,
     "metadata": {},
     "output_type": "execute_result"
    }
   ],
   "source": [
    "engine.duplicate(engine.facts[3], color=\"orange\", blink=False)\n",
    "engine.facts"
   ]
  },
  {
   "cell_type": "markdown",
   "metadata": {},
   "source": [
    "#### Procedimiento de ejecución del motor.\n",
    "\n",
    "Este es el proceso habitual para ejecutar `knowledgeEngine`.\n",
    "1. Por supuesto, se debe crear una instancia de la clase.\n",
    "2. Se debe llamar al método de reinicio (`reset()`):\n",
    "   * Esto declara el hecho especial `InitialFact`, necesario para que algunas reglas funcionen correctamente.\n",
    "   * Declare todos los hechos obtenidos por los métodos decorados con `@DefFacts`.\n",
    "3. Se debe llamar al método de ejecución (`run()`). Esto inicia el ciclo de ejecución.\n",
    "\n",
    "#### Ciclo de ejecución\n",
    "\n",
    "En un estilo de programación convencional, el programador define explícitamente el punto de inicio, el punto de finalización y la secuencia de operaciones. Con **Experta**, no es necesario definir el flujo del programa de forma tan explícita. El conocimiento (Reglas) y los datos (Hechos) se separan y **KnowledgeEngine** se utiliza para aplicar el conocimiento a los datos.\n",
    "\n",
    "#### El ciclo de ejecución básico es el siguiente:\n",
    "\n",
    "1. Si se ha alcanzado el límite de activación de la regla, se detiene la ejecución.\n",
    "2. Se selecciona para su ejecución la regla superior de la agenda. Si no hay reglas en el orden del día, se detiene la ejecución.\n",
    "3. Se ejecutan las acciones RHS de la regla seleccionada (se llama al método). Como resultado, las reglas pueden activarse o desactivarse. Las reglas activadas (aquellas reglas cuyas condiciones se cumplen actualmente) se colocan en la agenda. La ubicación en la agenda está determinada por la prominencia de la regla y la estrategia actual de resolución de conflictos. Las reglas desactivadas se eliminan de la agenda.\n",
    "\n",
    "#### Diferencia entre DefFacts y declarar\n",
    "\n",
    "Ambos se utilizan para declarar hechos en la instancia del motor, pero:\n",
    "* `declare` agrega los hechos directamente a la memoria de trabajo.\n",
    "* Los generadores declarados con `DefFacts` se llaman mediante el método reset y todos los hechos generados se agregan a la memoria de trabajo usando `declare`.\n",
    "\n",
    "## Referencia\n",
    "\n",
    "El siguiente diagrama muestra todos los componentes del sistema y las relaciones entre ellos.\n",
    "\n",
    "![diagrama](assets/diagrama.png)\n",
    "\n",
    "### `Rule` (*Regla*)\n",
    "\n",
    "La regla es el método básico para componer patrones. Puede agregar tantos patrones o elementos condicionales como desee a una regla y se activará si todos ellos coinciden. Por lo tanto, se comporta como AND por defecto.\n",
    "\n",
    "```python\n",
    "@Rule(<pattern_1>@Rule(<pattern_1>`,\n",
    "      <pattern_2>,\n",
    "      ...\n",
    "      <pattern_n>)\n",
    "def _():\n",
    "    pass\n",
    "```\n",
    "\n",
    "\n",
    "### `salience` (*Prioridad*)\n",
    "\n",
    "Este valor, por defecto 0, determina la prioridad de la regla con respecto a las demás. Las reglas con mayor relevancia (salience) se activarán antes que las reglas con menor importancia.\n",
    "\n",
    "*r1 tiene prioridad sobre r2*\n",
    "```python\n",
    "@Rule(salience=1)\n",
    "def r1():\n",
    "    pass\n",
    "\n",
    "@Rule(salience=0)\n",
    "def r2():\n",
    "    pass\n",
    "```\n",
    "\n",
    "### Elementos condicionales: componer patrones\n",
    "#### `AND`\n",
    "`AND` crea un patrón compuesto que contiene todos los hechos pasados como argumentos. Todos los patrones pasados deben coincidir para que coincida el patrón compuesto.\n",
    "\n",
    "*Coincide si se declaran dos hechos, uno que coincide con Fact(1) y otro que coincide con Fact(2)*\n",
    "\n",
    "```python\n",
    "@Rule(AND(Fact(1),\n",
    "          Fact(2)))\n",
    "def _():\n",
    "    pass\n",
    "```\n",
    "\n",
    "#### `O`\n",
    "`O` crea un patrón compuesto en el que cualquiera de los patrones dados hará que la regla coincida.\n",
    "\n",
    "*Coincidencia si existe un hecho que coincida con Fact(1) y/o un hecho que coincida con Fact(2)*\n",
    "```python\n",
    "@Rule(OR(Fact(1),\n",
    "         Fact(2)))\n",
    "def _():\n",
    "    pass\n",
    "```\n",
    "\n",
    ">Advertencia: Si coinciden varios hechos, la regla se activará varias veces, una por cada combinación válida de hechos coincidentes.\n",
    "\n",
    "#### `NO`\n",
    "\n",
    "Este elemento coincide si el patrón dado no coincide con ningún hecho o combinación de hechos. Por lo tanto, este elemento coincide con la ausencia del patrón dado.\n",
    "\n",
    "*Coincide si ningún hecho coincide con el Hecho(1)*\n",
    "```python\n",
    "@Rule(NOT(Fact(1)))\n",
    "def _():\n",
    "    pass\n",
    "```\n",
    "\n",
    "#### `TEST` (*PRUEBA*)\n",
    "\n",
    "Verifique el invocable recibido con los valores vinculados actuales. Si la ejecución devuelve *True*, la evaluación continuará y se detendrá en caso contrario.\n",
    "\n",
    "*Coincidencia de todos los números a , b , c donde a > b > c*\n",
    "```python\n",
    "@Rule(Number(MATCH.a),\n",
    "      Number(MATCH.b),\n",
    "      TEST(lambda a, b: a > b),\n",
    "      Number(MATCH.c),\n",
    "      TEST(lambda b, c: b > c))\n",
    "def _(a, b, c):\n",
    "    pass\n",
    "```\n",
    "#### `EXISTS` (*EXISTE*)\n",
    "\n",
    "Este elemento condicional recibe un patrón y coincide si uno o más hechos coinciden con este patrón. Esto coincidirá solo una vez mientras existan uno o más datos coincidentes y dejará de coincidir cuando no haya datos coincidentes.\n",
    "\n",
    "Coincidirá una vez cuando existan uno o más colores\n",
    "```python\n",
    "@Rule(EXISTS(Color()))\n",
    "def _():\n",
    "    pass\n",
    "```\n",
    "\n",
    "#### `FORALL` (*PARA TODOS*)\n",
    "\n",
    "El elemento condicional FORALL proporciona un mecanismo para determinar si un grupo de elementos condicionales especificados se cumple para cada aparición de otro elemento condicional especificado.\n",
    "\n",
    "*Casará cuando para cada hecho de Estudiante existe un hecho de Lectura, Escritura y Aritmética con el mismo nombre.*\n",
    "```python\n",
    "@Rule(FORALL(Student(MATCH.name),\n",
    "             Reading(MATCH.name),\n",
    "             Writing(MATCH.name),\n",
    "             Arithmetic(MATCH.name)))\n",
    "def all_students_passed():\n",
    "  ` pass\n",
    "```\n",
    "> Nota: Todas las variables vinculadas capturadas dentro de una cláusula FORALL no se pasarán como contexto al lado derecho de la regla.\n",
    "> Nota: Cada vez que se activa la regla, el hecho coincidente es el hecho inicial (`InitialFact`).\n",
    "\n",
    "\n",
    "### Field Constraints: *Restricciones de Campo* para ordenar\n",
    "\n",
    "#### L (Literal Field Constraint) (*Restricción de campo literal*)\n",
    "\n",
    "Este elemento realiza una coincidencia exacta con el valor dado. La coincidencia se realiza utilizando el operador de igualdad `==`.\n",
    "\n",
    "*Coincide si el primer elemento es exactamente 3*\n",
    "```python\n",
    "@Rule(Fact(L(3)))\n",
    "def _():\n",
    "    pass\n",
    "```\n",
    ">Nota: Este es la restricción de campo predeterminado que se utiliza cuando no se proporciona ninguna restricción de campo como valor de patrón.\n",
    "\n",
    "#### W (Wildcard Field Constraint) (*Restricción de campo comodín*)\n",
    "\n",
    "Este elemento coincide con cualquier valor.\n",
    "\n",
    "*Coincide si algún hecho se declara con la clave `mykey`.*\n",
    "```python\n",
    "@Rule(Fact(mykey=W()))\n",
    "def _():\n",
    "    pass\n",
    "```\n",
    "> Nota: Este elemento solo coincide si el elemento existe.\n",
    "\n",
    "#### P (Predicate Field Constraint) (*Restricción de campo de predicado*)\n",
    "La coincidencia de este elemento es el resultado de aplicar el valor exigible dado al valor extraído del hecho. Si el callable devuelve *True*, la restricción de campo coincidirá; en otro caso, la restricción de campo no coincidirá.\n",
    "\n",
    "*Coincide si se declara algún hecho cuyo primer parámetro sea una instancia de `int`*\n",
    "```python\n",
    "@Rule(Fact(P(lambda x: isinstance(x, int))))\n",
    "def _():\n",
    "    pass\n",
    "```\n",
    "\n",
    "### Composición de Restricciones de campo: `&` , `|` y `~`\n",
    "\n",
    "Todas las restricciones de campo se pueden componer juntas utilizando los operadores de composición `&` , `|` y `~`.\n",
    "\n",
    "#### `ANDFC()` también conocido como `&`\n",
    "\n",
    "La restricción de campo compuesto se cumple si todas las restricciones de campo dadas se cumplen.\n",
    "\n",
    "*Coincide si la clave x del Punto es un valor entre 0 y 255.*\n",
    "```python\n",
    "@Rule(Fact(x=P(lambda x: x >= 0) & P(lambda x: x <= 255)))\n",
    "def _():\n",
    "    pass\n",
    "```\n",
    "\n",
    "#### `ORFC()` también conocido como `|`\n",
    "\n",
    "La restricción de campo compuesto se cumple si alguna de las restricciones de campo se cumple.\n",
    "\n",
    "*Coincide si el nombre es Alice o Bob .*\n",
    "```python\n",
    "@Rule(Fact(name=L('Alice') | L('Bob')))\n",
    "def _():\n",
    "    pass\n",
    "```\n",
    "\n",
    "#### `NOTFC()` también conocido como `~`\n",
    "\n",
    "Esta restricción de campo compuesto niega la restricción de campo dada, invirtiendo la lógica. Si la restricción de campo se cumple, este no lo hará y viceversa.\n",
    "\n",
    "*Coincide si el nombre no es Charlie.*\n",
    "```python\n",
    "@Rule(Fact(name=~L('Charlie')))\n",
    "def _():\n",
    "    pass\n",
    "```\n",
    "\n",
    "### Enlace de variables: el operador `<<`\n",
    "\n",
    "Cualquier patrón y algunas restricciones de campo se pueden vincular a un nombre utilizando el operador `<<`.\n",
    "\n",
    "*El primer valor del hecho coincidente se vinculará al nombre `value` y se pasará a la función cuando se active.*\n",
    "```python\n",
    "@Rule(Fact('value' << W()))\n",
    "def _(value):\n",
    "    pass\n",
    "```\n",
    "\n",
    "### objeto `MATCH` (*COINCIDIR*)\n",
    "\n",
    "Los objetos MATCH ayudan a generar enlaces de nombres más legibles. Es azúcar sintáctico para una restricción de campo comodín vinculada a un nombre. Por ejemplo:\n",
    "```python\n",
    "@Rule(Fact(MATCH.myvalue))\n",
    "def _(myvalue):\n",
    "    pass\n",
    "```\n",
    "Es exactamente lo mismo que:\n",
    "```python\n",
    "@Rule(Fact(\"myvalue\" << W()))\n",
    "def _(myvalue):\n",
    "    pass\n",
    "```\n",
    "### objeto `AS` (*COMO*)\n",
    "\n",
    "El objeto `AS`, como el objeto `MATCH`, es azúcar sintáctico para generar nombres enlazables. En este caso, cualquier atributo solicitado al objeto `AS` devolverá una cadena con el mismo nombre.\n",
    "\n",
    "```python\n",
    "@Rule(AS.myfact << Fact(W()))\n",
    "def _(myfact):\n",
    "    pass\n",
    "```\n",
    "Es exactamente lo mismo que:\n",
    "```python\n",
    "@Rule(\"myfact\" << Fact(W()))\n",
    "def _(myfact):\n",
    "    pass\n",
    "```\n",
    "> Advertencia: Este comportamiento variará en futuras versiones de Experta y el tipo de cadena del operador puede desaparecer.\n",
    "\n",
    "### Coincidencia anidada\n",
    "\n",
    "Nuevo en la versión 1.3.0.\n",
    "\n",
    "La coincidencia anidada es útil para comparar valores de hechos que contienen estructuras anidadas como dictados o listas.\n",
    "Las coincidencias anidadas toman la forma campo__subclave=valor. (Eso es un doble guión bajo). Por ejemplo:"
   ]
  },
  {
   "cell_type": "code",
   "execution_count": 12,
   "metadata": {},
   "outputs": [
    {
     "name": "stdout",
     "output_type": "stream",
     "text": [
      "rock\n"
     ]
    }
   ],
   "source": [
    "from experta import *\n",
    "\n",
    "class Nested(KnowledgeEngine):\n",
    "    @DefFacts()\n",
    "    def _initial_action(self):\n",
    "        yield Fact(name=\"scissors\", against={\"scissors\": 0, \"rock\": -1, \"paper\": 1})\n",
    "        yield Fact(name=\"paper\", against={\"scissors\": -1, \"rock\": 1, \"paper\": 0})\n",
    "        yield Fact(name=\"rock\", against={\"scissors\": 1, \"rock\": 0, \"paper\": -1})\n",
    "\n",
    "    @Rule(Fact(name=MATCH.name, against__scissors=1, against__paper=-1))\n",
    "    def what_wins_to_scissors_and_losses_to_paper(self, name):\n",
    "        print(name)\n",
    "\n",
    "engine = Nested()\n",
    "engine.reset()  # Prepare the engine for the execution.\n",
    "engine.run()  # Run it!    "
   ]
  },
  {
   "cell_type": "markdown",
   "metadata": {},
   "source": [
    "Es posible compararlo con una estructura profunda arbitraria siguiendo el mismo método.\n",
    "En este ejemplo podemos comprobar la colisión entre un barco y su padre con la siguiente regla:"
   ]
  },
  {
   "cell_type": "code",
   "execution_count": 31,
   "metadata": {},
   "outputs": [],
   "source": [
    "from experta import *\n",
    "\n",
    "class Ship(KnowledgeEngine):      \n",
    "    @DefFacts()\n",
    "    def _initial_action(self):\n",
    "        yield Fact(data={\n",
    "                    \"name\": \"SmallShip\",\n",
    "                    \"position\": {\n",
    "                        \"x\": 200,\n",
    "                        \"y\": 300},\n",
    "                    \"parent\": {\n",
    "                        \"name\": \"BigShip\",\n",
    "                        \"position\": {\n",
    "                            \"x\": 150,\n",
    "                            \"y\": 300}}})\n",
    "\n",
    "    @Rule(Fact(data__name=MATCH.name1,\n",
    "        data__position__x=MATCH.x,\n",
    "        data__position__y=MATCH.y,\n",
    "        data__parent__name=MATCH.name2,\n",
    "        data__parent__position__x=MATCH.x,\n",
    "        data__parent__position__y=MATCH.y))\n",
    "    def collision_detected(self, name1, name2, **_):\n",
    "        print(\"COLLISION!\", name1, name2)\n",
    "    \n",
    "engine = Ship()\n",
    "engine.reset()  # Prepare the engine for the execution.\n",
    "engine.run()  # Run it!    "
   ]
  },
  {
   "cell_type": "markdown",
   "metadata": {},
   "source": [
    "> Prueba a cambiar las posiciones de los dos barcos anteriores (para que coincidan) y vuelve a ejecutar el código."
   ]
  },
  {
   "cell_type": "markdown",
   "metadata": {},
   "source": [
    "Si la estructura de datos anidada contiene listas, tuplas o cualquier otra secuencia, puede utilizar índices numéricos según sea necesario."
   ]
  },
  {
   "cell_type": "code",
   "execution_count": 33,
   "metadata": {},
   "outputs": [
    {
     "name": "stdout",
     "output_type": "stream",
     "text": [
      "Bye byee!\n"
     ]
    }
   ],
   "source": [
    "from experta import *\n",
    "\n",
    "class Ship(KnowledgeEngine):      \n",
    "    @DefFacts()\n",
    "    def _initial_action(self):\n",
    "        yield Fact(data={\n",
    "                    \"name\": \"SmallShip\",\n",
    "                    \"position\": {\n",
    "                        \"x\": 200,\n",
    "                        \"y\": 300},\n",
    "                    \"enemies\": [\n",
    "                    {\"name\": \"Destroyer\"},\n",
    "                    {\"name\": \"BigShip\"}]})\n",
    "\n",
    "    @Rule(Fact(data__enemies__0__name=\"Destroyer\"))\n",
    "    def next_enemy_is_destroyer(self):\n",
    "         print(\"Bye byee!\")\n",
    "    \n",
    "engine = Ship()\n",
    "engine.reset()  # Prepare the engine for the execution.\n",
    "engine.run()  # Run it!    "
   ]
  },
  {
   "cell_type": "markdown",
   "metadata": {},
   "source": [
    "### Objetos mutables\n",
    "\n",
    "El algoritmo de comparación de Experta depende de que los valores de los hechos declarados sean inmutables.\n",
    "\n",
    "Cuando se crea un hecho, todos sus valores se transforman a un tipo inmutable si no es así. Para esto se utiliza internamente el método `experta.utils.freeze`."
   ]
  },
  {
   "cell_type": "code",
   "execution_count": 34,
   "metadata": {},
   "outputs": [
    {
     "name": "stdout",
     "output_type": "stream",
     "text": [
      "<class 'frozendict.frozendict'> is Immutable!\n",
      "<class 'experta.utils.frozenlist'> is Immutable!\n",
      "<class 'frozenset'> is Immutable!\n"
     ]
    }
   ],
   "source": [
    "class MutableTest(KnowledgeEngine):\n",
    "     @Rule(Fact(v1=MATCH.v1, v2=MATCH.v2, v3=MATCH.v3))\n",
    "     def is_immutable(self, v1, v2, v3):\n",
    "         print(type(v1), \"is Immutable!\")\n",
    "         print(type(v2), \"is Immutable!\")\n",
    "         print(type(v3), \"is Immutable!\")\n",
    "\n",
    "ke = MutableTest()\n",
    "ke.reset()\n",
    "ke.declare(Fact(v1={\"a\": 1, \"b\": 2}, v2=[1, 2, 3], v3={1, 2, 3}))\n",
    "ke.run()"
   ]
  },
  {
   "cell_type": "markdown",
   "metadata": {},
   "source": [
    "> Nota: Puede importar `frozendict` y `frozenlist` desde el módulo `experta.utils`. Sin embargo, `frozenset` es un tipo integrado en Python.\n",
    "\n",
    "#### Registre su propio congelador mutable\n",
    "\n",
    "Si necesita incluir sus propios tipos mutables personalizados como valores de hecho, debe registrar un congelador de tipo especializado para su tipo personalizado.\n",
    "\n",
    "```python\n",
    "from experta.utils import freeze\n",
    "@freeze.register(MyType)\n",
    "def freeze_mytype(obj):\n",
    "    return ... # My frozen version of my type\n",
    "```\n",
    "\n",
    "#### Descongelar objetos congelados\n",
    "\n",
    "Para descongelar fácilmente los objetos congelados, `experta.utils` contiene un método de descongelación ."
   ]
  },
  {
   "cell_type": "code",
   "execution_count": 37,
   "metadata": {},
   "outputs": [
    {
     "name": "stdout",
     "output_type": "stream",
     "text": [
      "<class 'dict'> is Mutable!\n",
      "<class 'list'> is Mutable!\n",
      "<class 'set'> is Mutable!\n"
     ]
    }
   ],
   "source": [
    "from experta import *\n",
    "from experta.utils import *\n",
    "\n",
    "class MutableTest(KnowledgeEngine):\n",
    "     @Rule(Fact(v1=MATCH.v1, v2=MATCH.v2, v3=MATCH.v3))\n",
    "     def is_immutable(self, v1, v2, v3):\n",
    "         print(type(unfreeze(v1)), \"is Mutable!\")\n",
    "         print(type(unfreeze(v2)), \"is Mutable!\")\n",
    "         print(type(unfreeze(v3)), \"is Mutable!\")\n",
    "\n",
    "ke = MutableTest()\n",
    "ke.reset()\n",
    "ke.declare(Fact(v1={\"a\": 1, \"b\": 2}, v2=[1, 2, 3], v3={1, 2, 3}))\n",
    "ke.run()"
   ]
  },
  {
   "cell_type": "markdown",
   "metadata": {},
   "source": [
    "> Nota: El mismo procedimiento de registro de congelación que se muestra arriba también se aplica al descongelamiento."
   ]
  },
  {
   "cell_type": "markdown",
   "metadata": {},
   "source": [
    "# Fuentes de información\n",
    "- https://experta.readthedocs.io/en/latest/introduction.html\n",
    "- https://clipsrules.net/documentation/v624/ug624.pdf"
   ]
  }
 ],
 "metadata": {
  "kernelspec": {
   "display_name": "Python 3",
   "language": "python",
   "name": "python3"
  },
  "language_info": {
   "codemirror_mode": {
    "name": "ipython",
    "version": 3
   },
   "file_extension": ".py",
   "mimetype": "text/x-python",
   "name": "python",
   "nbconvert_exporter": "python",
   "pygments_lexer": "ipython3",
   "version": "3.12.3"
  }
 },
 "nbformat": 4,
 "nbformat_minor": 4
}
