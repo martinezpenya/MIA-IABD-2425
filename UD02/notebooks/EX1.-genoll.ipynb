{
 "cells": [
  {
   "cell_type": "markdown",
   "id": "9ba4bcdcc5581640",
   "metadata": {
    "collapsed": false
   },
   "source": [
    "# Lesions de genoll\n"
   ]
  },
  {
   "cell_type": "markdown",
   "id": "d0cbeb810ac114ad",
   "metadata": {
    "collapsed": false
   },
   "source": [
    "Les lesions de genoll són molt comunes en esports com el futbol, el bàsquet o l'esquí. Aquestes lesions poden ser de diferents tipus, però les més comunes són les lesions del lligament creuat anterior (LCA) i del menisc. \n",
    "\n",
    "Moltes vegades els sintomes d'aquestes lesions són similars, però el tractament és diferent. Per això, és important saber quina és la lesió que pateix el pacient per poder aplicar el tractament adequat i no empitjorar la lesió.\n",
    "\n",
    "Crearem un sistema expert amb `experta` per ajudar a entrenadors i metges no especialitzats a diagnosticar les lesions de genoll, utilitzant les dades de pacients que han estat diagnosticats per un metge especialitzat.\n",
    "\n",
    "Aquest sistema està basat en el treball [An Expert System for Knee Problems Diagnosis](https://www.researchgate.net/publication/354150948_An_Expert_System_for_Knee_Problems_Diagnosis/link/6127bc8338818c2eaf62917b/download?_tp=eyJjb250ZXh0Ijp7ImZpcnN0UGFnZSI6InB1YmxpY2F0aW9uIiwicGFnZSI6InB1YmxpY2F0aW9uIn19) de [Lamis F Samhan](https://www.researchgate.net/profile/Lamis-Samhan?_tp=eyJjb250ZXh0Ijp7ImZpcnN0UGFnZSI6InB1YmxpY2F0aW9uIiwicGFnZSI6InB1YmxpY2F0aW9uIn19) i [Samy S. Abu-Naser](https://www.researchgate.net/profile/Samy-Abu-Naser?_tp=eyJjb250ZXh0Ijp7ImZpcnN0UGFnZSI6InB1YmxpY2F0aW9uIiwicGFnZSI6InB1YmxpY2F0aW9uIn19)."
   ]
  },
  {
   "cell_type": "markdown",
   "id": "8d54d73218e27f40",
   "metadata": {
    "collapsed": false
   },
   "source": [
    "## Fets\n",
    "\n",
    "Per arribar a una conclusió sobre la lesió que pateix el pacient, el metge especialitzat en sistema expert ha de tindre en compte diferents símptomes. Aquests símptomes són els següents:\n",
    "\n",
    "- `colp` (s1): El dolor o la inflamació del genoll va començar després d'una caiguda, una lesió per gir o després que el genoll fos colpejat per un objecte o una persona.\n",
    "- `deformacio` (s2): El genoll està deformat.\n",
    "- `rotula inflamada` (s3): La rotula està inflamada, tendra i calenta i hi ha dolor en l'activitat.\n",
    "- `genoll inflamat` (s4): El genoll està inflamat, tendre i calent i hi ha dolor després d'estar assegut durant un temps o després de pujar i baixar escales.\n",
    "- `dolor posterior` (s5): Hi ha un dolor afilat en la part posterior del genoll i és dolorós quan s'estira la cama.\n",
    "- `crepitacions` (s6): Hi ha crepitacions en el genoll o es bloqueja el genoll encara que millore el dolor.\n",
    "- `roig` (s7): El genoll està roig i/o inflamat.\n",
    "- `febra` (s8): Hi ha febra associada al genoll inflamat/roig.\n",
    "- `temps` (s9): El genoll s'ha anat afeblint amb el temps i el dolor empitjora amb els canvis de temps.\n",
    "- `inflacio_darrera` (s10): El genoll està inflamat o tendre per darrera\n",
    "- `jove_baix_rotula` (s11): El pacient té entre 12 i 18 anys i presenta dolor en la part anterior del genoll que empitjora amb l'activitat.\n",
    "- `jove_genoll` (s12): El pacient té menys de 18 anys i presenta dolor al genoll.\n",
    "\n",
    "Segons les diferents combinacions de símptomes, el sistema expert ha de ser capaç de diagnosticar la lesió que pateix el pacient. Les lesions que pot diagnosticar el sistema expert són les següents:\n",
    "\n",
    "- Si el pacient té `colp`:\n",
    "    - Si també té `deformacio`, el sistema expert ha de diagnosticar que el pacient pot tindre una `fractura` o un `lligament trencat`\n",
    "    - Si també té `rotula inflamada`, el sistema expert ha de diagnosticar que el pacient pot tindre una `fractura rotula`.\n",
    "    - Si també té `genoll inflamat`, el sistema expert ha de diagnosticar que el pacient pot tindre un `lligament trencat` o el `menisc trencat`.\n",
    "    - Si també té `dolor posterior`, el sistema expert ha de diagnosticar que el \n",
    "     pacient pot tindre `múscul isquiotibial trencat`.\n",
    "    - Si també té `crepitacions`, el sistema expert ha de diagnosticar que el pacient pot tindre `menisc trencat`.\n",
    "\n",
    "- Si té `roig` i té `febra`, el sistema expert ha de diagnosticar que el pacient pot tindre una `artritis reumatoide`.\n",
    "\n",
    "- Si té `temps`: El sistema expert ha de diagnosticar que el pacient pot tindre `osteo artritis`.\n",
    "- Si té `inflacio_darrera`: El sistema expert ha de diagnosticar que el pacient pot tindre `quist de Baker`.\n",
    "- Si té `jove_baix_rotula`: El sistema expert ha de diagnosticar que el pacient pot tindre `sindrome de Osgood-Schlatter`.\n",
    "- Si té `jove_genoll`: El sistema expert ha de diagnosticar que el pacient pot tindre `dolor de creixement`."
   ]
  },
  {
   "cell_type": "markdown",
   "id": "3414dfa1d8e9c879",
   "metadata": {
    "collapsed": false
   },
   "source": [
    "Comecem instal·lant i important la llibreria `experta` i creant el sistema expert."
   ]
  },
  {
   "cell_type": "code",
   "execution_count": 21,
   "id": "2b830053f4963509",
   "metadata": {
    "ExecuteTime": {
     "end_time": "2024-01-08T22:21:48.300365Z",
     "start_time": "2024-01-08T22:21:39.790696Z"
    },
    "collapsed": false
   },
   "outputs": [
    {
     "name": "stdout",
     "output_type": "stream",
     "text": [
      "Collecting git+https://github.com/openmotics/om-experta.git\r\n",
      "  Cloning https://github.com/openmotics/om-experta.git to /private/var/folders/zm/06zm__c5637bs4z8mhp4pfph0000gn/T/pip-req-build-702rw3bp\r\n",
      "  Running command git clone --filter=blob:none --quiet https://github.com/openmotics/om-experta.git /private/var/folders/zm/06zm__c5637bs4z8mhp4pfph0000gn/T/pip-req-build-702rw3bp\r\n",
      "  Resolved https://github.com/openmotics/om-experta.git to commit d35d53708a46482e1ee4e3a4bc1a36bc03492913\r\n",
      "  Preparing metadata (setup.py) ... \u001b[?25ldone\r\n",
      "\u001b[?25hRequirement already satisfied: frozendict==2.3.8 in /Users/carlesgm/DataspellProjects/Notebooks/venv/lib/python3.11/site-packages (from om-experta==1.9.8) (2.3.8)\r\n",
      "Requirement already satisfied: schema==0.6.7 in /Users/carlesgm/DataspellProjects/Notebooks/venv/lib/python3.11/site-packages (from om-experta==1.9.8) (0.6.7)\r\n",
      "\r\n",
      "\u001b[1m[\u001b[0m\u001b[34;49mnotice\u001b[0m\u001b[1;39;49m]\u001b[0m\u001b[39;49m A new release of pip available: \u001b[0m\u001b[31;49m22.3.1\u001b[0m\u001b[39;49m -> \u001b[0m\u001b[32;49m23.3.2\u001b[0m\r\n",
      "\u001b[1m[\u001b[0m\u001b[34;49mnotice\u001b[0m\u001b[1;39;49m]\u001b[0m\u001b[39;49m To update, run: \u001b[0m\u001b[32;49mpip install --upgrade pip\u001b[0m\r\n"
     ]
    }
   ],
   "source": [
    "%pip install git+https://github.com/openmotics/om-experta.git"
   ]
  },
  {
   "cell_type": "code",
   "execution_count": 22,
   "id": "f8f4772fbf3619f4",
   "metadata": {
    "ExecuteTime": {
     "end_time": "2024-01-08T22:21:48.322844Z",
     "start_time": "2024-01-08T22:21:48.317080Z"
    },
    "collapsed": false
   },
   "outputs": [],
   "source": [
    "from experta import *"
   ]
  },
  {
   "cell_type": "markdown",
   "id": "27b9d955f6d535ce",
   "metadata": {
    "collapsed": false
   },
   "source": [
    "## Testeig del sistema expert\n",
    "\n",
    "Per testejar el sistema expert, farem una serie de proves amb diferents combinacions de símptomes i comprovarem que el sistema expert diagnostica correctament la lesió que pateix el pacient.\n",
    "\n",
    "Anem a fer 5 proves amb diferents combinacions de símptomes i comprovarem que el sistema expert diagnostica correctament la lesió que pateix el pacient.\n",
    "\n",
    "LEs proves que farem són les següents:\n",
    "\n",
    "- Prova 1: Pacient amb `colp` i `deformacio`. El sistema expert ha de diagnosticar que el pacient pot tindre una `fractura`.\n",
    "- Prova 2: Pacient amb `colp` i `genoll inflamat`. El sistema expert ha de diagnosticar que el pacient pot tindre un `lligament trencat` o un `menisc trencat`.\n",
    "- Prova 3: Pacient amb `roit` i `febra`. El sistema expert ha de diagnosticar que el pacient pot tindre una `artritis reumatoide`.\n",
    "- Prova 4: Pacient amb `temps`. El sistema expert ha de diagnosticar que el pacient pot tindre `osteo artritis`.\n",
    "- Prova 5: Pacient amb `inflacio_darrera`. El sistema expert ha de diagnosticar que el pacient pot tindre `quist de Baker`."
   ]
  },
  {
   "cell_type": "code",
   "execution_count": 23,
   "id": "21d4191617e7b605",
   "metadata": {
    "ExecuteTime": {
     "end_time": "2024-01-08T22:21:48.367737Z",
     "start_time": "2024-01-08T22:21:48.345408Z"
    },
    "collapsed": false
   },
   "outputs": [
    {
     "name": "stdout",
     "output_type": "stream",
     "text": [
      "El pacient pot tindre fractura\n"
     ]
    },
    {
     "data": {
      "text/plain": [
       "FactList([(0, InitialFact()),\n",
       "          (1, Fact('colp')),\n",
       "          (2, Fact('deformacio')),\n",
       "          (3, Fact(lesio='fractura'))])"
      ]
     },
     "execution_count": 23,
     "metadata": {},
     "output_type": "execute_result"
    }
   ],
   "source": []
  },
  {
   "cell_type": "code",
   "execution_count": 24,
   "id": "13ba38fdf6886a54",
   "metadata": {
    "ExecuteTime": {
     "end_time": "2024-01-08T22:21:48.466398Z",
     "start_time": "2024-01-08T22:21:48.371053Z"
    },
    "collapsed": false
   },
   "outputs": [
    {
     "name": "stdout",
     "output_type": "stream",
     "text": [
      "El pacient pot tindre menisc trencat\n",
      "El pacient pot tindre lligament trencat\n"
     ]
    },
    {
     "data": {
      "text/plain": [
       "FactList([(0, InitialFact()),\n",
       "          (1, Fact('colp')),\n",
       "          (2, Fact('genoll inflamat')),\n",
       "          (3, Fact(lesio='lligament trencat')),\n",
       "          (4, Fact(lesio='menisc trencat'))])"
      ]
     },
     "execution_count": 24,
     "metadata": {},
     "output_type": "execute_result"
    }
   ],
   "source": []
  },
  {
   "cell_type": "code",
   "execution_count": 25,
   "id": "79d613cf97f6694b",
   "metadata": {
    "ExecuteTime": {
     "end_time": "2024-01-08T22:21:48.534052Z",
     "start_time": "2024-01-08T22:21:48.396770Z"
    },
    "collapsed": false
   },
   "outputs": [
    {
     "name": "stdout",
     "output_type": "stream",
     "text": [
      "El pacient pot tindre artritis reumatoide\n"
     ]
    },
    {
     "data": {
      "text/plain": [
       "FactList([(0, InitialFact()),\n",
       "          (1, Fact('roig')),\n",
       "          (2, Fact('febra')),\n",
       "          (3, Fact(lesio='artritis reumatoide'))])"
      ]
     },
     "execution_count": 25,
     "metadata": {},
     "output_type": "execute_result"
    }
   ],
   "source": []
  },
  {
   "cell_type": "code",
   "execution_count": 26,
   "id": "dd19b4b0bd2327fc",
   "metadata": {
    "ExecuteTime": {
     "end_time": "2024-01-08T22:21:48.535774Z",
     "start_time": "2024-01-08T22:21:48.414181Z"
    },
    "collapsed": false
   },
   "outputs": [
    {
     "name": "stdout",
     "output_type": "stream",
     "text": [
      "El pacient pot tindre osteo artritis\n"
     ]
    },
    {
     "data": {
      "text/plain": [
       "FactList([(0, InitialFact()),\n",
       "          (1, Fact('temps')),\n",
       "          (2, Fact(lesio='osteo artritis'))])"
      ]
     },
     "execution_count": 26,
     "metadata": {},
     "output_type": "execute_result"
    }
   ],
   "source": []
  },
  {
   "cell_type": "code",
   "execution_count": 27,
   "id": "5edb8b51c105b704",
   "metadata": {
    "ExecuteTime": {
     "end_time": "2024-01-08T22:21:48.554804Z",
     "start_time": "2024-01-08T22:21:48.429298Z"
    },
    "collapsed": false
   },
   "outputs": [
    {
     "name": "stdout",
     "output_type": "stream",
     "text": [
      "El pacient pot tindre quist de Baker\n"
     ]
    },
    {
     "data": {
      "text/plain": [
       "FactList([(0, InitialFact()),\n",
       "          (1, Fact('inflacio_darrera')),\n",
       "          (2, Fact(lesio='quist de Baker'))])"
      ]
     },
     "execution_count": 27,
     "metadata": {},
     "output_type": "execute_result"
    }
   ],
   "source": []
  },
  {
   "cell_type": "code",
   "execution_count": 28,
   "id": "91f5bb634021d63c",
   "metadata": {
    "ExecuteTime": {
     "end_time": "2024-01-08T22:21:48.556023Z",
     "start_time": "2024-01-08T22:21:48.445482Z"
    },
    "collapsed": false
   },
   "outputs": [
    {
     "name": "stdout",
     "output_type": "stream",
     "text": [
      "El pacient pot tindre sindrome de Osgood-Schlatter\n"
     ]
    },
    {
     "data": {
      "text/plain": [
       "FactList([(0, InitialFact()),\n",
       "          (1, Fact('jove_baix_rotula')),\n",
       "          (2, Fact(lesio='sindrome de Osgood-Schlatter'))])"
      ]
     },
     "execution_count": 28,
     "metadata": {},
     "output_type": "execute_result"
    }
   ],
   "source": []
  }
 ],
 "metadata": {
  "kernelspec": {
   "display_name": "Python 3",
   "language": "python",
   "name": "python3"
  },
  "language_info": {
   "codemirror_mode": {
    "name": "ipython",
    "version": 2
   },
   "file_extension": ".py",
   "mimetype": "text/x-python",
   "name": "python",
   "nbconvert_exporter": "python",
   "pygments_lexer": "ipython2",
   "version": "2.7.6"
  }
 },
 "nbformat": 4,
 "nbformat_minor": 5
}
