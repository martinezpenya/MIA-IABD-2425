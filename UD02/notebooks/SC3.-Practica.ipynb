{
 "cells": [
  {
   "cell_type": "markdown",
   "metadata": {},
   "source": [
    "# Practica Experta\n",
    "\n",
    "## Introducción\n",
    "Realizar un sistema basado en reglas (Sistema Experto)\n",
    "Incluir en la memoria:\n",
    "* Descripción del sistema\n",
    "* Una descripción esquemática o gráfica del conocimiento integrado en el sistema basado en reglas diseñado\n",
    "* Significado de las principales reglas definidas\n",
    "* Ejemplos de uso o ejecución el sistema\n",
    "\n",
    "Fechas:\n",
    "Definición temática del trabajo 19 Enero 2024\n",
    "Fecha tope de entrega 2 febrero 2024\n",
    "\n",
    "## Ejemplos\n",
    "\n",
    "* Identificación de masas de agua oceánicas\n",
    "* Enfermedades cardíacas\n",
    "* Clasificación de setas\n",
    "* Estilista femenino\n",
    "* Entrenamiento personal\n",
    "* Dj musical\n",
    "* Tasación Vehiculos\n",
    "* Presupuesto PC\n"
   ]
  },
  {
   "cell_type": "markdown",
   "metadata": {},
   "source": [
    "# Fuentes de información\n",
    "- https://cayetanoguerra.github.io/ia/sbr/CLIPS_I-Tutorial.pdf"
   ]
  }
 ],
 "metadata": {
  "kernelspec": {
   "display_name": "Python 3",
   "language": "python",
   "name": "python3"
  },
  "language_info": {
   "codemirror_mode": {
    "name": "ipython",
    "version": 3
   },
   "file_extension": ".py",
   "mimetype": "text/x-python",
   "name": "python",
   "nbconvert_exporter": "python",
   "pygments_lexer": "ipython3",
   "version": "3.6.15"
  }
 },
 "nbformat": 4,
 "nbformat_minor": 4
}
