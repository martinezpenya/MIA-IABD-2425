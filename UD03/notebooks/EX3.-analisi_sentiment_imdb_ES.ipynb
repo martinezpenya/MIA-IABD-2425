{
 "cells": [
  {
   "cell_type": "markdown",
   "id": "88effafeef14f333",
   "metadata": {
    "collapsed": false
   },
   "source": [
    "# Anàlisi de sentiments amb DistilBERT\n",
    "\n",
    "En la pràctica 2 hem entrenat DistilBERT per classificar sentiments en textos, utilitzant una base de dades de tweets. \n",
    "\n",
    "En aquesta pràctica, però, volem utilitzar DistilBERT per classificar reviews de pel·lícules i el mateix entrenament no ens serveix. Per això, utilitzarem transfer learning per adaptar el model a la nova tasca, utilitzant el `dataset` de reviews de pel·lícules de IMDB, disponible en huggingface com a `imdb`.\n",
    "\n",
    "## Objectius de la pràctica\n",
    "\n",
    "* Reproduir el procés vist en la pràctica 3 per entrenar DistilBERT per classificar sentiments en reviews de pel·lícules.\n",
    "* Hauràs d'entrenar el model (DistilBERT o un altre model de transformers) amb el `dataset` de reviews de pel·lícules de IMDB.\n",
    "* Hauràs de fer un anàlisi de les prediccions del model i comparar-lo amb el model entrenat en la pràctica 2.\n",
    "* Utilitza un `pipeline` de transformers per fer prediccions [`zero-shot`](https://huggingface.co/transformers/main_classes/pipelines.html#transformers.ZeroShotClassificationPipeline) sobre les reviews de pel·lícules. Compara els resultats amb els del model entrenat amb el `dataset` d'IMDB."
   ]
  }
 ],
 "metadata": {
  "kernelspec": {
   "display_name": "Python 3",
   "language": "python",
   "name": "python3"
  },
  "language_info": {
   "codemirror_mode": {
    "name": "ipython",
    "version": 2
   },
   "file_extension": ".py",
   "mimetype": "text/x-python",
   "name": "python",
   "nbconvert_exporter": "python",
   "pygments_lexer": "ipython2",
   "version": "2.7.6"
  }
 },
 "nbformat": 4,
 "nbformat_minor": 5
}
