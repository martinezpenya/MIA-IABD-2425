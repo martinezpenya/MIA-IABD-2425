{
 "cells": [
  {
   "cell_type": "markdown",
   "metadata": {},
   "source": [
    "# Sistemas expertos con Python y Experta\n",
    "\n",
    "## Introducción\n",
    "\n",
    "### Filosofía\n",
    "\n",
    "Nuestro objetivo es implementar una alternativa Python a CLIPS, lo más compatible posible. Con el objetivo de facilitar al programador CLIPS la transferencia de todos sus conocimientos a esta plataforma.\n",
    "\n",
    "\n",
    "### Características\n",
    "\n",
    "* Compatible con Python 3.\n",
    "* Implementación pura de Python.\n",
    "* Matcher basado en el algoritmo RETE.\n",
    "\n",
    "### Diferencia entre CLIPS y Experta\n",
    "\n",
    "1. CLIPS es un lenguaje de programación, Experta es una biblioteca de Python. Esto impone algunas limitaciones a las construcciones que podemos hacer (especialmente al LHS de una regla).\n",
    "2. CLIPS está escrito en C, Experta en Python. Es de esperar un impacto notable en el rendimiento.\n",
    "3. En CLIPS agregas hechos usando `assert`, en Python `assert` es una palabra clave, por lo que usamos `declare` en su lugar.\n",
    "\n",
    "## Lo básico\n",
    "\n",
    "Un sistema experto es un programa capaz de emparejar un conjunto de hechos con un conjunto de reglas para esos hechos y ejecutar algunas acciones basadas en las reglas de coincidencia.\n",
    "\n",
    "### Hechos\n",
    "\n",
    "Los hechos son la unidad básica de información de Experta. Son utilizados por el sistema para razonar sobre el problema.\n",
    "\n",
    "Enumeremos algunos datos sobre *Hechos*, entonces… *metahechos*;)\n",
    "\n",
    "Necesitamos preparar el Notebook importando experta"
   ]
  },
  {
   "cell_type": "code",
   "execution_count": null,
   "metadata": {},
   "outputs": [],
   "source": [
    "%pip install git+https://github.com/openmotics/om-experta.git\n",
    "from experta import *"
   ]
  },
  {
   "cell_type": "markdown",
   "metadata": {},
   "source": [
    "1. La clase Fact es una subclase de dict."
   ]
  },
  {
   "cell_type": "code",
   "execution_count": null,
   "metadata": {
    "scrolled": true
   },
   "outputs": [],
   "source": [
    "f = Fact(a=1, b=2)\n",
    "f['a']"
   ]
  },
  {
   "cell_type": "markdown",
   "metadata": {},
   "source": [
    "2. Por lo tanto un Hecho no mantiene un orden interno de elementos."
   ]
  },
  {
   "cell_type": "code",
   "execution_count": null,
   "metadata": {},
   "outputs": [],
   "source": [
    "Fact(a=1, b=2)  # Order is arbirary :O"
   ]
  },
  {
   "cell_type": "markdown",
   "metadata": {},
   "source": [
    "3. A diferencia de dict , puedes crear un Hecho sin claves (solo valores), y `Fact` creará un índice numérico para tus valores."
   ]
  },
  {
   "cell_type": "code",
   "execution_count": null,
   "metadata": {},
   "outputs": [],
   "source": [
    "f = Fact('x', 'y', 'z')\n",
    "f[0]"
   ]
  },
  {
   "cell_type": "markdown",
   "metadata": {},
   "source": [
    "4. Puede mezclar valores autonuméricos con valores-clave, pero primero se deben declarar los autonuméricos:"
   ]
  },
  {
   "cell_type": "code",
   "execution_count": null,
   "metadata": {},
   "outputs": [],
   "source": [
    "f = Fact('x', 'y', 'z', a=1, b=2)\n",
    "f[1]"
   ]
  },
  {
   "cell_type": "code",
   "execution_count": null,
   "metadata": {},
   "outputs": [],
   "source": [
    "f['b']"
   ]
  },
  {
   "cell_type": "markdown",
   "metadata": {},
   "source": [
    "### Reglas\n",
    "\n",
    "En Experta una regla es invocable.\n",
    "\n",
    "Las reglas tienen dos componentes, LHS (lado izquierdo) y RHS (lado derecho).\n",
    "\n",
    "* El LHS describe (usando patrones) las condiciones en las que la regla debe ejecutarse (o activarse).\n",
    "* El RHS es el conjunto de acciones a realizar cuando se activa la regla.\n",
    "\n",
    "Para que un Hecho coincida con un Patron, todas las restricciones del patrón deben ser **True** cuando el Hecho se evalúa con respecto a él."
   ]
  },
  {
   "cell_type": "code",
   "execution_count": null,
   "metadata": {},
   "outputs": [],
   "source": [
    "class MyFact(Fact):\n",
    "    pass\n",
    "\n",
    "@Rule(MyFact())  # This is the LHS\n",
    "def match_with_every_myfact():\n",
    "    \"\"\"This rule will match with every instance of `MyFact`.\"\"\"\n",
    "    # This is the RHS\n",
    "    pass\n",
    "\n",
    "@Rule(Fact('animal', family='felinae'))\n",
    "def match_with_cats():\n",
    "    \"\"\"\n",
    "    Match with every `Fact` which:\n",
    "\n",
    "      * f[0] == 'animal'\n",
    "      * f['family'] == 'felinae'\n",
    "\n",
    "    \"\"\"\n",
    "    print(\"Meow!\")"
   ]
  },
  {
   "cell_type": "markdown",
   "metadata": {},
   "source": [
    "Puede utilizar operadores lógicos para expresar condiciones LHS complejas."
   ]
  },
  {
   "cell_type": "code",
   "execution_count": null,
   "metadata": {},
   "outputs": [],
   "source": [
    "class User(Fact):\n",
    "    pass\n",
    "\n",
    "@Rule(\n",
    "    AND(\n",
    "        OR(User('admin'),\n",
    "           User('root')),\n",
    "        NOT(Fact('drop-privileges'))\n",
    "    )\n",
    ")\n",
    "def the_user_has_power():\n",
    "    \"\"\"\n",
    "    The user is a privileged one and we are not dropping privileges.\n",
    "\n",
    "    \"\"\"\n",
    "    enable_superpowers()"
   ]
  },
  {
   "cell_type": "markdown",
   "metadata": {},
   "source": [
    "#### Hechos vs Patrones\n",
    "\n",
    "La diferencia entre hechos y patrones es pequeña. De hecho, los patrones son solo hechos que contienen elementos condicionales de patrón (Pattern Conditional Elements PCE) en lugar de datos regulares. Se utilizan únicamente en el LHS de una regla.\n",
    "\n",
    "Si no proporciona el contenido de un patrón como **PCE**, Experta incluirá el valor en un Literal PCE automáticamente.\n",
    "\n",
    "Además, no puede declarar ningún Hecho que contenga un PCE; si lo hace, recibirá una excepción."
   ]
  },
  {
   "cell_type": "code",
   "execution_count": null,
   "metadata": {},
   "outputs": [],
   "source": [
    "ke = KnowledgeEngine()\n",
    "ke.declare(Fact(L(\"hi\")))"
   ]
  },
  {
   "cell_type": "markdown",
   "metadata": {},
   "source": [
    "### DefFacts (Hechos iniciales?)\n",
    "\n",
    "La mayoría de las veces, los sistemas expertos necesitan que esté presente un conjunto de hechos para que el sistema funcione. Este es el propósito del decorador DefFacts."
   ]
  },
  {
   "cell_type": "code",
   "execution_count": null,
   "metadata": {},
   "outputs": [],
   "source": [
    "@DefFacts()\n",
    "def needed_data():\n",
    "    yield Fact(best_color=\"red\")\n",
    "    yield Fact(best_body=\"medium\")\n",
    "    yield Fact(best_sweetness=\"dry\")"
   ]
  },
  {
   "cell_type": "markdown",
   "metadata": {},
   "source": [
    "Todos los DefFacts dentro de **KnowledgeEngine** se llamarán cada vez que se llame al método de `reset()`."
   ]
  },
  {
   "cell_type": "markdown",
   "metadata": {},
   "source": [
    "### Base de hechos (KnowledgeEngine)\n",
    "\n",
    "Este es el lugar donde ocurre toda la magia.\n",
    "El primer paso es crear una subclase y usar `Rule` para decorar sus métodos.\n",
    "Después de eso, puede crear una instancia, completarlo con hechos y finalmente ejecutarlo."
   ]
  },
  {
   "cell_type": "code",
   "execution_count": null,
   "metadata": {},
   "outputs": [],
   "source": [
    "class Greetings(KnowledgeEngine):\n",
    "    @DefFacts()\n",
    "    def _initial_action(self):\n",
    "        yield Fact(action=\"greet\")\n",
    "\n",
    "    @Rule(Fact(action='greet'),\n",
    "          NOT(Fact(name=W())))\n",
    "    def ask_name(self):\n",
    "        self.declare(Fact(name=input(\"What's your name? \")))\n",
    "\n",
    "    @Rule(Fact(action='greet'),\n",
    "          NOT(Fact(location=W())))\n",
    "    def ask_location(self):\n",
    "        self.declare(Fact(location=input(\"Where are you? \")))\n",
    "\n",
    "    @Rule(Fact(action='greet'),\n",
    "          Fact(name=MATCH.name),\n",
    "          Fact(location=MATCH.location))\n",
    "    def greet(self, name, location):\n",
    "        print(\"Hi %s! How is the weather in %s?\" % (name, location))\n",
    "\n",
    "engine = Greetings()\n",
    "engine.reset()  # Prepare the engine for the execution.\n",
    "engine.run()  # Run it!"
   ]
  },
  {
   "cell_type": "markdown",
   "metadata": {},
   "source": [
    "#### Manejo de hechos\n",
    "Los siguientes métodos se utilizan para manipular el conjunto de hechos que conoce el motor.\n",
    "\n",
    "##### declare\n",
    "\n",
    "Agrega un nuevo hecho a la lista de hechos (la lista de hechos conocidos por el motor)."
   ]
  },
  {
   "cell_type": "code",
   "execution_count": null,
   "metadata": {},
   "outputs": [],
   "source": [
    "engine = KnowledgeEngine()\n",
    "engine.reset()\n",
    "engine.declare(Fact(score=5))\n",
    "engine.facts"
   ]
  },
  {
   "cell_type": "markdown",
   "metadata": {},
   "source": [
    ">El mismo hecho no se puede declarar dos veces a menos que Facts.duplication esté establecido en True.\n",
    "\n",
    "##### retract\n",
    "\n",
    "Elimina un hecho existente de la lista de hechos.\n",
    "\n",
    ">Tanto el índice como el hecho se pueden utilizar con `retract`."
   ]
  },
  {
   "cell_type": "code",
   "execution_count": null,
   "metadata": {
    "scrolled": true
   },
   "outputs": [],
   "source": [
    "engine.retract(1)\n",
    "engine.facts"
   ]
  },
  {
   "cell_type": "markdown",
   "metadata": {},
   "source": [
    "##### modify\n",
    "\n",
    "Retira algún hecho de la lista de hechos y declara uno nuevo con algunos cambios. Los cambios se pasan como argumentos.\n"
   ]
  },
  {
   "cell_type": "code",
   "execution_count": null,
   "metadata": {},
   "outputs": [],
   "source": [
    "engine.declare(Fact(color=\"red\"))\n",
    "engine.facts"
   ]
  },
  {
   "cell_type": "code",
   "execution_count": null,
   "metadata": {},
   "outputs": [],
   "source": [
    "engine.modify(engine.facts[2], color='yellow', blink=True)\n",
    "engine.facts"
   ]
  },
  {
   "cell_type": "markdown",
   "metadata": {},
   "source": [
    "##### duplicate\n",
    "\n",
    "Agrega un hecho nuevo a la lista de hechos utilizando un hecho existente como plantilla y agregando algunas modificaciones."
   ]
  },
  {
   "cell_type": "code",
   "execution_count": null,
   "metadata": {},
   "outputs": [],
   "source": [
    "engine.facts"
   ]
  },
  {
   "cell_type": "code",
   "execution_count": null,
   "metadata": {},
   "outputs": [],
   "source": [
    "engine.duplicate(engine.facts[2], color=\"orange\", blink=False)\n",
    "engine.facts"
   ]
  },
  {
   "cell_type": "markdown",
   "metadata": {},
   "source": [
    "#### Procedimiento de ejecución del motor.\n",
    "\n",
    "Este es el proceso habitual para ejecutar `knowledgeEngine`.\n",
    "1. Por supuesto, se debe crear una instancia de la clase.\n",
    "2. Se debe llamar al método de reinicio (`reset()`):\n",
    "   * Esto declara el hecho especial `InitialFact`, necesario para que algunas reglas funcionen correctamente.\n",
    "   * Declare todos los hechos obtenidos por los métodos decorados con `@DefFacts`.\n",
    "3. Se debe llamar al método de ejecución (`run()`). Esto inicia el ciclo de ejecución.\n",
    "\n",
    "#### Ciclo de ejecución\n",
    "\n",
    "En un estilo de programación convencional, el programador define explícitamente el punto de inicio, el punto de finalización y la secuencia de operaciones. Con **Experta**, no es necesario definir el flujo del programa de forma tan explícita. El conocimiento (Reglas) y los datos (Hechos) se separan y **KnowledgeEngine** se utiliza para aplicar el conocimiento a los datos.\n",
    "\n",
    "#### El ciclo de ejecución básico es el siguiente:\n",
    "\n",
    "1. Si se ha alcanzado el límite de activación de la regla, se detiene la ejecución.\n",
    "2. Se selecciona para su ejecución la regla superior de la agenda. Si no hay reglas en el orden del día, se detiene la ejecución.\n",
    "3. Se ejecutan las acciones RHS de la regla seleccionada (se llama al método). Como resultado, las reglas pueden activarse o desactivarse. Las reglas activadas (aquellas reglas cuyas condiciones se cumplen actualmente) se colocan en la agenda. La ubicación en la agenda está determinada por la prominencia de la regla y la estrategia actual de resolución de conflictos. Las reglas desactivadas se eliminan de la agenda.\n",
    "\n",
    "#### Diferencia entre DefFacts y declarar\n",
    "\n",
    "Ambos se utilizan para declarar hechos en la instancia del motor, pero:\n",
    "* `declare` agrega los hechos directamente a la memoria de trabajo.\n",
    "* Los generadores declarados con `DefFacts` se llaman mediante el método reset y todos los hechos generados se agregan a la memoria de trabajo usando `declare`.\n",
    "\n",
    "## Referencia\n",
    "\n",
    "El siguiente diagrama muestra todos los componentes del sistema y las relaciones entre ellos.\n",
    "\n",
    "![diagrama](assets/diagrama.png)"
   ]
  },
  {
   "cell_type": "code",
   "execution_count": null,
   "metadata": {},
   "outputs": [],
   "source": [
    "from experta import *\n",
    "\n",
    "class Nested(KnowledgeEngine):\n",
    "    @DefFacts()\n",
    "    def _initial_action(self):\n",
    "        yield Fact(name=\"scissors\", against={\"scissors\": 0, \"rock\": -1, \"paper\": 1})\n",
    "        yield Fact(name=\"paper\", against={\"scissors\": -1, \"rock\": 1, \"paper\": 0})\n",
    "        yield Fact(name=\"rock\", against={\"scissors\": 1, \"rock\": 0, \"paper\": -1})\n",
    "\n",
    "    @Rule(Fact(name=MATCH.name, against__scissors=1, against__paper=-1))\n",
    "    def what_wins_to_scissors_and_losses_to_paper(self, name):\n",
    "        print(name)\n",
    "\n",
    "engine = Nested()\n",
    "engine.reset()  # Prepare the engine for the execution.\n",
    "engine.run()  # Run it!    "
   ]
  },
  {
   "cell_type": "markdown",
   "metadata": {},
   "source": [
    "# Fuentes de información\n",
    "- https://experta.readthedocs.io/en/latest/introduction.html\n",
    "- https://clipsrules.net/documentation/v624/ug624.pdf"
   ]
  }
 ],
 "metadata": {
  "kernelspec": {
   "display_name": "Python 3",
   "language": "python",
   "name": "python3"
  },
  "language_info": {
   "codemirror_mode": {
    "name": "ipython",
    "version": 3
   },
   "file_extension": ".py",
   "mimetype": "text/x-python",
   "name": "python",
   "nbconvert_exporter": "python",
   "pygments_lexer": "ipython3",
   "version": "3.12.3"
  }
 },
 "nbformat": 4,
 "nbformat_minor": 4
}
