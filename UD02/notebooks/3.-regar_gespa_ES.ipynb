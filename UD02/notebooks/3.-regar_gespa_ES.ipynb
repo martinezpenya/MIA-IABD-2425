{
 "cells": [
  {
   "cell_type": "markdown",
   "id": "473eca6fbfabaadd",
   "metadata": {
    "collapsed": false
   },
   "source": [
    "# Simulador sistema de riego\n",
    "\n",
    "En esta práctica simularemos el sistema de riego de cesped de un campo de fútbol. Nuestro sistema de riego está formado por un sensor de temperatura y un sensor de humedad en el terreno.\n",
    "\n",
    "Dependiendo de los valores de estos sensores, el sistema de riego decidirá si activar o no el aspersor y con que intensidad. El objetivo es mantener la humedad del terreno de juego entre el 20% y el 25%."
   ]
  },
  {
   "cell_type": "markdown",
   "id": "c0ab3c61900a9e8e",
   "metadata": {
    "collapsed": false
   },
   "source": [
    "## Variables físicas del sistema\n",
    "\n",
    "Primero, definiremos el funcionamiento de las variables físicas del sistema. Para simplificar el problema, consideraremos que la temperatura se definirá por una función sinusoidal.\n",
    "\n",
    "La función de python que define la temperatura es la siguiente:"
   ]
  },
  {
   "cell_type": "code",
   "execution_count": null,
   "id": "c51b82994da3fab0",
   "metadata": {
    "ExecuteTime": {
     "end_time": "2024-01-22T19:21:58.254767Z",
     "start_time": "2024-01-22T19:21:57.819199Z"
    },
    "collapsed": false
   },
   "outputs": [],
   "source": [
    "import numpy as np\n",
    "\n",
    "def calc_temperatura(t):\n",
    "    return 20 + 50 * np.sin(1.5 * np.pi * t / 200)\n",
    "\n",
    "# Grafiquem la funció\n",
    "\n",
    "import matplotlib.pyplot as plt\n",
    "\n",
    "t = np.arange(0, 240, 0.1)\n",
    "plt.plot(t, calc_temperatura(t), label='temperatura')\n",
    "plt.legend()\n",
    "plt.show()"
   ]
  },
  {
   "cell_type": "markdown",
   "id": "4d9bde484ff25646",
   "metadata": {
    "collapsed": false
   },
   "source": [
    "La humedad del terreno comenzará en un 20% y aumentará o disminuirá dependiendo de la temperatura y si se activa o no el aspersor. La función de python que define la humedad del terreno es la siguiente:"
   ]
  },
  {
   "cell_type": "code",
   "execution_count": null,
   "id": "1c5b15a1c91b8588",
   "metadata": {
    "ExecuteTime": {
     "end_time": "2024-01-22T19:21:58.779855Z",
     "start_time": "2024-01-22T19:21:58.231345Z"
    },
    "collapsed": false
   },
   "outputs": [],
   "source": [
    "def humitat_terreny(h_actual=20, temperatura=20, aspersor=0):\n",
    "    h = h_actual + 0.1 * (aspersor - 50) + 0.1 * (temperatura - 20) / 30\n",
    "    return h"
   ]
  },
  {
   "cell_type": "markdown",
   "id": "2be04efc9026c6e2",
   "metadata": {
    "collapsed": false
   },
   "source": [
    "## Definición de sistema de riego simple\n",
    "\n",
    "En esta sección, definiremos un controlador simple para el sistema riego. Este controlador activará el aspersor cuando la humedad en el terreno sea inferior al 20% y desactivará el aspersor cuando la humedad en el terreno sea más del 25%. De lo contrario, el controlador mantendrá el aspersor con una intensidad proporcional a la humedad del terreno."
   ]
  },
  {
   "cell_type": "code",
   "execution_count": null,
   "id": "cad9a41328c1e105",
   "metadata": {
    "ExecuteTime": {
     "end_time": "2024-01-22T19:21:59.106097Z",
     "start_time": "2024-01-22T19:21:58.245436Z"
    },
    "collapsed": false
   },
   "outputs": [],
   "source": [
    "def controlador_simple(humitat_terreny_actual,  temperatura=20):\n",
    "    if humitat_terreny_actual < 20:\n",
    "        return 100\n",
    "    elif humitat_terreny_actual > 25:\n",
    "        return 0\n",
    "    else:\n",
    "        return (25 - humitat_terreny_actual) * 100 / 3\n",
    "        \n",
    "def simula_regat(cnt, humitat_terreny_actual=20, t_final=100):\n",
    "    # Definim els vectors de temps i de valors de les variables\n",
    "    temperatures = []\n",
    "    humitats_terreny = []\n",
    "    aspersors = []\n",
    "    for i in range(t_final):\n",
    "        temp = calc_temperatura(i)\n",
    "        temperatures.append(temp)\n",
    "\n",
    "        aspersor = cnt(humitat_terreny_actual, temp)\n",
    "        aspersors.append(aspersor)\n",
    "        \n",
    "        humitat_terreny_actual = humitat_terreny(h_actual=humitat_terreny_actual, temperatura=temp, aspersor=aspersor)\n",
    "        humitats_terreny.append(humitat_terreny_actual)\n",
    "        \n",
    "    # Grafiquem els resultats\n",
    "    plt.plot(temperatures, label='temperatura')\n",
    "    plt.plot(aspersors, label='aspersor')\n",
    "    plt.plot(humitats_terreny, label='humitat terreny')\n",
    "    plt.legend()\n",
    "\n",
    "simula_regat(controlador_simple, 20, 200)    "
   ]
  },
  {
   "cell_type": "markdown",
   "id": "36843ef0e5137a4d",
   "metadata": {
    "collapsed": false
   },
   "source": [
    "## Controlador difuso\n",
    "\n",
    "En esta sección, definiremos un controlador difuso para el sistema de regado.\n",
    "\n",
    "Para la implementación del controlador, utilizaremos la librería [Scikit-Fuzzy] (https://pythonhosted.org/scikit-fuzzy/). Esta librería nos permitirá definir las funciones de pertenencia y las reglas difusas de una manera simple.\n",
    "\n",
    "Comenzaremos importando las librerías necesarias:"
   ]
  },
  {
   "cell_type": "code",
   "execution_count": null,
   "id": "f8ef0768a5dd6050",
   "metadata": {
    "ExecuteTime": {
     "end_time": "2024-01-22T19:21:59.127442Z",
     "start_time": "2024-01-22T19:21:59.116927Z"
    },
    "collapsed": false
   },
   "outputs": [],
   "source": [
    "%pip install scikit-fuzzy==0.4.2 #La libreria 0.5 es más reciente pero tiene problemas con el ControlSystem.view()\n",
    "# Importamos las librerías necesarias\n",
    "\n",
    "import skfuzzy as fuzz\n",
    "from skfuzzy import control as ctrl"
   ]
  },
  {
   "cell_type": "markdown",
   "id": "71de51aedd9059e5",
   "metadata": {
    "collapsed": false
   },
   "source": [
    "## Definición de antecedentes y consecuentes\n",
    "\n",
    "Primero, definiremos los antecedentes y los consecuentes del sistema de riego. Los antecedentes son los sensores de temperatura y humedad del terreno. Los consecuentes son los valores del Aspersor."
   ]
  },
  {
   "cell_type": "code",
   "execution_count": null,
   "id": "f53b31c5e8e23932",
   "metadata": {
    "ExecuteTime": {
     "end_time": "2024-01-22T19:21:59.162987Z",
     "start_time": "2024-01-22T19:21:59.133364Z"
    },
    "collapsed": false
   },
   "outputs": [],
   "source": [
    "# Definimos los antecedentes y el consecuente\n",
    "\n",
    "# Fondo\n",
    "\n",
    "# Temperatura\n",
    "temperatura = ctrl.Antecedent(np.arange(-10, 101, 1), 'temperatura (ºC)')\n",
    "\n",
    "# Humedad del suelo\n",
    "humitat = ctrl.Antecedent(np.arange(0, 101, 1), 'humitat terreny (%)')\n",
    "\n",
    "# Consecuentes\n",
    "\n",
    "# Aspersor\n",
    "aspersor = ctrl.Consequent(np.arange(0, 101, 1), 'aspersor (%)')"
   ]
  },
  {
   "cell_type": "markdown",
   "id": "cc98fc4ffe81bac6",
   "metadata": {
    "collapsed": false
   },
   "source": [
    "## Definición de funciones de pertenencia\n",
    "\n",
    "A continuación, definiremos las funciones de pertenencia de los antecedentes y de los consecuentes. Para cada antecedente y para cada consecuente, definiremos las funciones de pertenencia que consideramos necesarias. En este caso, definiremos las funciones de pertenencia triangular.\n",
    "\n",
    "Para definir las funciones de pertenencia, utilizaremos la función `trimf` de la librería `Skfuzzy`. Esta función recibe como parámetro un vector con los puntos de la función de pertenencia.\n",
    "\n",
    "Para definir los puntos de las funciones de pertenencia,nos basaremos en los criterios de la siguiente tabla:\n",
    "\n",
    "| Antecedente | Puntos de la función de pertenencia |\n",
    "| ----------- | ----------------------------------- |\n",
    "| Humedad | Seco: 0, 0, 17 <br> Apropiado: 15, 20, 25 <br> Húmedo: 23, 50, 100 |\n",
    "| Temperatura | Frío: -10, 0, 15 <br> Normal: 12, 20, 28 <br> Calor: 24, 31.5, 39 <br> Muy calor: 35, 65.5, 100 |\n",
    "| Aspersor | Muy poco: -20, 0, 20 <br> Poco: 15, 30, 45 <br> Medio: 40, 55, 70 <br> Mucho: 65, 75, 85 <br> Máximo: 80, 100, 120 |\n",
    "\n"
   ]
  },
  {
   "cell_type": "code",
   "execution_count": null,
   "id": "57ae04314c301240",
   "metadata": {
    "ExecuteTime": {
     "end_time": "2024-01-22T19:22:02.263473Z",
     "start_time": "2024-01-22T19:21:59.165218Z"
    },
    "collapsed": false
   },
   "outputs": [],
   "source": [
    "# Definimos las funciones de adherencia de los antecedentes y el consecuente\n",
    "\n",
    "# Terreno de humedad\n",
    "humitat['sec'] = fuzz.trimf(humitat.universe, [0, 0, 17])\n",
    "humitat['apropiat'] = fuzz.trimf(humitat.universe, [15, 20, 25])\n",
    "humitat['mullat'] = fuzz.trimf(humitat.universe, [23, 50, 100])\n",
    "\n",
    "# Temperatura\n",
    "temperatura['fred'] = fuzz.trimf(temperatura.universe, [-50, 0, 15])\n",
    "temperatura['normal'] = fuzz.trimf(temperatura.universe, [12, 20, 28])\n",
    "temperatura['calor'] = fuzz.trimf(temperatura.universe, [24, 31.5, 39])\n",
    "temperatura['molta_calor'] = fuzz.trimf(temperatura.universe, [35, 65.5, 100])\n",
    "\n",
    "# Aspersor\n",
    "aspersor['molt poc'] = fuzz.trimf(aspersor.universe, [-20, 0, 20])\n",
    "aspersor['poc'] = fuzz.trimf(aspersor.universe, [15, 30, 45])\n",
    "aspersor['mitja'] = fuzz.trimf(aspersor.universe, [40, 55, 70])\n",
    "aspersor['molt'] = fuzz.trimf(aspersor.universe, [65, 75, 85])\n",
    "aspersor['total'] = fuzz.trimf(aspersor.universe, [80, 100, 120])\n",
    "\n",
    "# Vemos las funciones de pertenencia\n",
    "humitat.view()\n",
    "temperatura.view()\n",
    "humitat.view()\n",
    "\n",
    "aspersor.view()"
   ]
  },
  {
   "cell_type": "markdown",
   "id": "f7e7da9e56c208a5",
   "metadata": {
    "collapsed": false
   },
   "source": [
    "## Definición de reglas difusas\n",
    "\n",
    "Ahora definimos las reglas difusas del sistema de riego. Para definir las reglas difusas, utilizaremos la librería `Ctrl.Rule` de la librería `skfuzzy`. Esta función recibe los antecedentes y los consecuentes de la regla difusa, así como el operador lógico que se aplicará entre los antecedentes.\n",
    "\n",
    "En nuestro caso, definiremos las siguientes reglas difusas:\n",
    "\n",
    "| Humedad | Temperatura | Aspersor |\n",
    "| ----------- | ----------- | ----------- |\n",
    "|Seco |Frío |Mucho |\n",
    "|Seco |Normal |Mucho |\n",
    "|Seco |Caliente |Total |\n",
    "|Seco |Muy caliente |Total |\n",
    "|Apropiado |Frío |Poco |\n",
    "|Apropiado |Normal |Poco |\n",
    "|Apropiado |Caliente |Medio |\n",
    "|Apropiado |Muy caliente |Medio |\n",
    "|Húmedo |Frío |Muy poco |\n",
    "|Húmedo |Normal |Muy poco |\n",
    "|Húmedo |Caliente |Muy poco |\n",
    "|Húmedo |Muy caliente |Poco |\n",
    "\n",
    "  "
   ]
  },
  {
   "cell_type": "code",
   "execution_count": null,
   "id": "337cd24e53e0a931",
   "metadata": {
    "ExecuteTime": {
     "end_time": "2024-01-22T19:22:02.315870Z",
     "start_time": "2024-01-22T19:22:02.278828Z"
    },
    "collapsed": false
   },
   "outputs": [],
   "source": [
    "# Definimos las reglas difusas\n",
    "\n",
    "regla1 = ctrl.Rule(humitat['sec'] & temperatura['fred'], aspersor['mitja'])\n",
    "regla2 = ctrl.Rule(humitat['sec'] & temperatura['normal'], aspersor['mitja'])\n",
    "regla3 = ctrl.Rule(humitat['sec'] & temperatura['calor'], aspersor['mitja'])\n",
    "regla4 = ctrl.Rule(humitat['sec'] & temperatura['molta_calor'], aspersor['mitja'])\n",
    "regla5 = ctrl.Rule(humitat['apropiat'] & temperatura['fred'], aspersor['poc'])\n",
    "regla6 = ctrl.Rule(humitat['apropiat'] & temperatura['normal'], aspersor['poc'])\n",
    "regla7 = ctrl.Rule(humitat['apropiat'] & temperatura['calor'], aspersor['mitja'])\n",
    "regla8 = ctrl.Rule(humitat['apropiat'] & temperatura['molta_calor'], aspersor['mitja'])\n",
    "regla9 = ctrl.Rule(humitat['mullat'] & temperatura['fred'], aspersor['molt poc'])\n",
    "regla10 = ctrl.Rule(humitat['mullat'] & temperatura['normal'], aspersor['molt poc'])\n",
    "regla11 = ctrl.Rule(humitat['mullat'] & temperatura['calor'], aspersor['molt poc'])\n",
    "regla12 = ctrl.Rule(humitat['mullat'] & temperatura['molta_calor'], aspersor['poc'])"
   ]
  },
  {
   "cell_type": "markdown",
   "id": "a856f3f0dffb3c4c",
   "metadata": {
    "collapsed": false
   },
   "source": [
    "## Definición del sistema de riego\n",
    "Luego definimos el sistema de riego. Para definir el sistema de riego, utilizaremos la función `ctrl.controlsystem` de la librería `skfuzzy`. Esta función recibe como parámetro una lista con las reglas difusas del sistema."
   ]
  },
  {
   "cell_type": "code",
   "execution_count": null,
   "id": "6edda116b918d7e7",
   "metadata": {
    "ExecuteTime": {
     "end_time": "2024-01-22T19:22:04.036786Z",
     "start_time": "2024-01-22T19:22:02.305784Z"
    },
    "collapsed": false
   },
   "outputs": [],
   "source": [
    "# Definimos el sistema de riego\n",
    "\n",
    "sistema_regat = ctrl.ControlSystem([regla1, regla2, regla3, regla4, regla5, regla6, regla7, regla8, regla9, regla10, regla11, regla12])\n",
    "\n",
    "# Vemos el sistema de riego\n",
    "sistema_regat.view()"
   ]
  },
  {
   "cell_type": "markdown",
   "id": "4206d886547d5dfa",
   "metadata": {
    "collapsed": false
   },
   "source": [
    "## Definición de simulador de sistema de riego\n",
    "\n",
    "Luego definimos el simulador del sistema de riego. Para definir el simulador del sistema de riego, utilizaremos la función `ctrl.controlsystemsimulation` de la librería `skfuzzy`. Esta función recibe el sistema de riego como un parámetro."
   ]
  },
  {
   "cell_type": "code",
   "execution_count": null,
   "id": "85d389ad0ca97223",
   "metadata": {
    "ExecuteTime": {
     "end_time": "2024-01-22T19:22:04.086228Z",
     "start_time": "2024-01-22T19:22:04.039156Z"
    },
    "collapsed": false
   },
   "outputs": [],
   "source": [
    "# Definimos el simulador del sistema de riego\n",
    "\n",
    "simulador_regat = ctrl.ControlSystemSimulation(sistema_regat)"
   ]
  },
  {
   "cell_type": "markdown",
   "id": "fb0c5f5a2b05932f",
   "metadata": {
    "collapsed": false
   },
   "source": [
    "## Simulación del sistema de riego\n",
    "\n",
    "Ahora simulamos el sistema de riego."
   ]
  },
  {
   "cell_type": "code",
   "execution_count": null,
   "id": "de3883cf5e1038f0",
   "metadata": {
    "ExecuteTime": {
     "end_time": "2024-01-22T19:22:04.898629Z",
     "start_time": "2024-01-22T19:22:04.068337Z"
    },
    "collapsed": false
   },
   "outputs": [],
   "source": [
    "def controlador_difus(humitat_terreny_actual, temperatura):\n",
    "    # Definimos los antecedentes del sistema de riego\n",
    "    simulador_regat.input['humitat terreny (%)'] = humitat_terreny_actual\n",
    "    simulador_regat.input['temperatura (ºC)'] = temperatura\n",
    "    \n",
    "    # Ejecutamos el sistema de riego\n",
    "    try:\n",
    "        simulador_regat.compute()\n",
    "    except Exception as e:\n",
    "        print(\"Humi. terreny: \" + str(humitat_terreny_actual) + \" Temp.: \" + str(temperatura))\n",
    "    \n",
    "    # Devuelve el valor del ascersor\n",
    "    return simulador_regat.output['aspersor (%)']\n",
    "\n",
    "simula_regat(controlador_difus, 20, 100)"
   ]
  }
 ],
 "metadata": {
  "kernelspec": {
   "display_name": "Python 3",
   "language": "python",
   "name": "python3"
  },
  "language_info": {
   "codemirror_mode": {
    "name": "ipython",
    "version": 2
   },
   "file_extension": ".py",
   "mimetype": "text/x-python",
   "name": "python",
   "nbconvert_exporter": "python",
   "pygments_lexer": "ipython2",
   "version": "2.7.6"
  }
 },
 "nbformat": 4,
 "nbformat_minor": 5
}
