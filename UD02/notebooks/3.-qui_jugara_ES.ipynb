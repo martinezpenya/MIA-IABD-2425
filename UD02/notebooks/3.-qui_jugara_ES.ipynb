{
 "cells": [
  {
   "cell_type": "markdown",
   "id": "4d299af4a3d69f0a",
   "metadata": {
    "collapsed": false
   },
   "source": [
    "# ¿Quién jugará el próximo partido?\n",
    "\n",
    "Variables: rendimiento, repuesto, amistad\n",
    "\n",
    "* Si tienes un buen rendimiento en entrenamiento y la amistad es mediana o buena, jugará bastante (Busquets)\n",
    "* Si tienes un mal rendimiento en el entrenamiento y la amistad es buena, jugará bastante (F.T.)\n",
    "* Si tienes un mal rendimiento en entrenamiento y poca amistad, jugarás poco (Rakitic)\n",
    "* Si tienes una buen rendimiento en el entrenamiento, la amistad es mala y ningún repuesto, jugará mucho (Messi con Setien)\n",
    "* Si tienes una buen rendimiento en el entrenamiento, la amistad es mala y tiene repuesto, jugará poco (Etoo en Guardiola)\n",
    "* Si tienes una muy buen rendimiento en el entrenamiento, la amistad es mala y tiene repuesto, jugarás mucho (Parejo en Setien)"
   ]
  },
  {
   "cell_type": "code",
   "execution_count": null,
   "id": "d28d13c431ae8ae6",
   "metadata": {
    "ExecuteTime": {
     "end_time": "2023-09-19T13:05:53.722442Z",
     "start_time": "2023-09-19T13:05:52.948787Z"
    },
    "collapsed": false
   },
   "outputs": [],
   "source": [
    "%pip install -U scikit-fuzzy\n",
    "import numpy as np\n",
    "import skfuzzy as fuzz\n",
    "from skfuzzy import control as ctrl"
   ]
  },
  {
   "cell_type": "code",
   "execution_count": null,
   "id": "bc2d1352adc25c24",
   "metadata": {
    "ExecuteTime": {
     "end_time": "2023-09-19T13:05:53.723319Z",
     "start_time": "2023-09-19T13:05:52.961099Z"
    },
    "collapsed": false
   },
   "outputs": [],
   "source": [
    "# Variables de entrada\n",
    "rendiment = ctrl.Antecedent(np.arange(0, 11, 1), 'rendiment')\n",
    "recanvi = ctrl.Antecedent(np.arange(0, 11, 1), 'recanvi')\n",
    "relacio = ctrl.Antecedent(np.arange(0, 11, 1), 'relacio')\n",
    "\n",
    "# Variable de salida\n",
    "jugara = ctrl.Consequent(np.arange(0, 91, 1), 'jugara')"
   ]
  },
  {
   "cell_type": "code",
   "execution_count": null,
   "id": "fdf0ec0b5d915d3",
   "metadata": {
    "ExecuteTime": {
     "end_time": "2023-09-19T13:05:53.726277Z",
     "start_time": "2023-09-19T13:05:52.974845Z"
    },
    "collapsed": false
   },
   "outputs": [],
   "source": [
    "# Funciones de pertenencia automática\n",
    "rendiment.automf(3)\n",
    "recanvi.automf(3)\n",
    "relacio.automf(3)"
   ]
  },
  {
   "cell_type": "code",
   "execution_count": null,
   "id": "42b0b8e93cf99e09",
   "metadata": {
    "ExecuteTime": {
     "end_time": "2023-09-19T13:05:54.212731Z",
     "start_time": "2023-09-19T13:05:52.996387Z"
    },
    "collapsed": false
   },
   "outputs": [],
   "source": [
    "# Funciones de pertenencia personalizadas\n",
    "jugara['poc'] = fuzz.trimf(jugara.universe, [0, 0, 45])\n",
    "jugara['prou'] = fuzz.trimf(jugara.universe, [0, 45, 90])\n",
    "jugara['molt'] = fuzz.trimf(jugara.universe, [45, 90, 90])"
   ]
  },
  {
   "cell_type": "code",
   "execution_count": null,
   "id": "69da99c061631c49",
   "metadata": {
    "ExecuteTime": {
     "end_time": "2023-09-19T13:05:55.405074Z",
     "start_time": "2023-09-19T13:05:53.072732Z"
    },
    "collapsed": false
   },
   "outputs": [],
   "source": [
    "rendiment.view()"
   ]
  },
  {
   "cell_type": "code",
   "execution_count": null,
   "id": "5343ef3276a63fe8",
   "metadata": {
    "ExecuteTime": {
     "end_time": "2023-09-19T13:05:57.168740Z",
     "start_time": "2023-09-19T13:05:55.287215Z"
    },
    "collapsed": false
   },
   "outputs": [],
   "source": [
    "recanvi.view()"
   ]
  },
  {
   "cell_type": "code",
   "execution_count": null,
   "id": "3a226249036e0960",
   "metadata": {
    "ExecuteTime": {
     "end_time": "2023-09-19T13:05:58.501706Z",
     "start_time": "2023-09-19T13:05:57.158693Z"
    },
    "collapsed": false
   },
   "outputs": [],
   "source": [
    "relacio.view()"
   ]
  },
  {
   "cell_type": "code",
   "execution_count": null,
   "id": "d207dbf5df5d1762",
   "metadata": {
    "ExecuteTime": {
     "end_time": "2023-09-19T13:05:59.557151Z",
     "start_time": "2023-09-19T13:05:58.713642Z"
    },
    "collapsed": false
   },
   "outputs": [],
   "source": [
    "jugara.view()"
   ]
  },
  {
   "cell_type": "code",
   "execution_count": null,
   "id": "6332c759be829fbc",
   "metadata": {
    "ExecuteTime": {
     "end_time": "2023-09-19T13:05:59.604346Z",
     "start_time": "2023-09-19T13:05:59.590372Z"
    },
    "collapsed": false
   },
   "outputs": [],
   "source": [
    "# Reglas\n",
    "\n",
    "# Si tienes un buen rendimiento en entrenamiento y la amistad es mediana o buena, jugará bastante (Busquets)\n",
    "# Si tienes un mal rendimiento en el entrenamiento y la amistad es buena, jugará bastante (F.T.)\n",
    "# Si tienes un mal rendimiento en entrenamiento y poca amistad, jugarás poco (Rakitic)\n",
    "# Si tienes una buen rendimiento en el entrenamiento, la amistad es mala y ningún repuesto, jugará mucho (Messi con Setien)\n",
    "# Si tienes una buen rendimiento en el entrenamiento, la amistad es mala y tiene repuesto, jugará poco (Etoo en Guardiola)\n",
    "# Si tienes una muy buen rendimiento en el entrenamiento, la amistad es mala y tiene repuesto, jugarás mucho (Parejo en Setien)\n",
    "\n",
    "rule1 = ctrl.Rule(rendiment['good'] & (relacio['average'] | relacio['good']), jugara['prou'])\n",
    "rule2 = ctrl.Rule(rendiment['poor'] & relacio['good'], jugara['prou'])\n",
    "rule3 = ctrl.Rule(rendiment['poor'] & relacio['poor'], jugara['poc'])\n",
    "rule4 = ctrl.Rule(rendiment['good'] & relacio['poor'] & (recanvi['poor'] | recanvi['average']), jugara['molt'])\n",
    "rule5 = ctrl.Rule(rendiment['good'] & relacio['poor'] & recanvi['good'], jugara['poc'])\n",
    "rule6 = ctrl.Rule(rendiment['average'] & relacio['poor'] & recanvi['good'], jugara['molt'])\n",
    "\n",
    "control = ctrl.ControlSystem([rule1, rule2, rule3, rule4, rule5, rule6])"
   ]
  },
  {
   "cell_type": "code",
   "execution_count": null,
   "id": "b5bd90be51dbb4df",
   "metadata": {
    "ExecuteTime": {
     "end_time": "2023-09-19T13:05:59.654477Z",
     "start_time": "2023-09-19T13:05:59.616788Z"
    },
    "collapsed": false
   },
   "outputs": [],
   "source": [
    "# Simulación\n",
    "simulacio = ctrl.ControlSystemSimulation(control)"
   ]
  },
  {
   "cell_type": "code",
   "execution_count": null,
   "id": "a0f495c152a4dbe6",
   "metadata": {
    "ExecuteTime": {
     "end_time": "2023-09-19T13:06:01.501524Z",
     "start_time": "2023-09-19T13:05:59.637709Z"
    },
    "collapsed": false
   },
   "outputs": [],
   "source": [
    "control.view()"
   ]
  },
  {
   "cell_type": "code",
   "execution_count": null,
   "id": "19420440e2a070a9",
   "metadata": {
    "ExecuteTime": {
     "end_time": "2023-09-19T13:06:01.525648Z",
     "start_time": "2023-09-19T13:06:01.505388Z"
    },
    "collapsed": false
   },
   "outputs": [],
   "source": [
    "# Entrada de datos\n",
    "\n",
    "simulacio.input['rendiment'] = 8\n",
    "simulacio.input['recanvi'] = 3\n",
    "simulacio.input['relacio'] = 2"
   ]
  },
  {
   "cell_type": "code",
   "execution_count": null,
   "id": "9654576f53bc4175",
   "metadata": {
    "ExecuteTime": {
     "end_time": "2023-09-19T13:06:02.259115Z",
     "start_time": "2023-09-19T13:06:01.573831Z"
    },
    "collapsed": false
   },
   "outputs": [],
   "source": [
    "simulacio.compute()\n",
    "print(simulacio.output['jugara'])\n",
    "jugara.view(sim=simulacio)"
   ]
  },
  {
   "cell_type": "code",
   "execution_count": null,
   "id": "98615317b3001cd9",
   "metadata": {
    "ExecuteTime": {
     "end_time": "2023-09-19T13:06:02.986307Z",
     "start_time": "2023-09-19T13:06:02.246628Z"
    },
    "collapsed": false
   },
   "outputs": [],
   "source": [
    "# Entrada de datos 2\n",
    "\n",
    "simulacio.input['rendiment'] = 3\n",
    "simulacio.input['recanvi'] = 3\n",
    "simulacio.input['relacio'] = 2\n",
    "\n",
    "simulacio.compute()\n",
    "print(simulacio.output['jugara'])\n",
    "jugara.view(sim=simulacio)"
   ]
  },
  {
   "cell_type": "code",
   "execution_count": null,
   "id": "ec999e1bd279a595",
   "metadata": {
    "ExecuteTime": {
     "end_time": "2023-09-19T13:06:04.254809Z",
     "start_time": "2023-09-19T13:06:02.986868Z"
    },
    "collapsed": false
   },
   "outputs": [],
   "source": [
    "# Entrada de datos 3\n",
    "\n",
    "simulacio.input['rendiment'] = 3\n",
    "simulacio.input['recanvi'] = 3\n",
    "simulacio.input['relacio'] = 8\n",
    "\n",
    "simulacio.compute()\n",
    "print(simulacio.output['jugara'])\n",
    "jugara.view(sim=simulacio)"
   ]
  }
 ],
 "metadata": {
  "kernelspec": {
   "display_name": "Python 3",
   "language": "python",
   "name": "python3"
  },
  "language_info": {
   "codemirror_mode": {
    "name": "ipython",
    "version": 2
   },
   "file_extension": ".py",
   "mimetype": "text/x-python",
   "name": "python",
   "nbconvert_exporter": "python",
   "pygments_lexer": "ipython2",
   "version": "2.7.6"
  }
 },
 "nbformat": 4,
 "nbformat_minor": 5
}
