{
 "cells": [
  {
   "cell_type": "markdown",
   "source": [
    "# Endevina l'animal"
   ],
   "metadata": {
    "collapsed": false
   },
   "id": "2bfda3053294c641"
  },
  {
   "cell_type": "markdown",
   "source": [
    "En aquesta pràctica implementarem l'exemple de sistema expert vist a teoria, on segons unes característiques donades, el sistema expert ha d'endevinar quin animal és. En aquest cas, el sistema expert només tindrà en compte els animals que es mostren a l'esquema de teoria, és a dir, els animals que es mostren a la següent imatge:\n",
    "\n",
    "<br />\n",
    "<div>\n",
    "<img src=\"https://lawer.github.io/mia/apunts/images%2FAND-OR-Tree.png\" width=\"900\"/>\n",
    "</div>"
   ],
   "metadata": {
    "collapsed": false
   },
   "id": "30c1b92ca8b95ae"
  },
  {
   "cell_type": "markdown",
   "source": [
    "Utilitzarem el mòdul de python `experta` per implementar un sistema expert **forward chaining**. Aquest mòdul ens permetrà crear un sistema expert de manera molt senzilla, ja que només haurem de definir les regles i els fets que utilitzarà el nostre sistema expert. \n",
    "\n",
    "Si implimentarem nosaltres un motor d'inferència tindriem problemes de rendiment quan el sistema expert tingués moltes regles, ja que hauríem de comprovar totes les regles per a cada fet. En canvi, `experta` té una implementació molt optimitzada (utilitzant l'algorisme RETE) que ens permetrà crear sistemes experts amb moltes regles i fets.\n",
    "\n",
    "A continuació, instal·larem i importarem les llibreries necessàries per a la pràctica."
   ],
   "metadata": {
    "collapsed": false
   },
   "id": "ababb0f577ff3806"
  },
  {
   "cell_type": "code",
   "outputs": [
    {
     "name": "stdout",
     "output_type": "stream",
     "text": [
      "Collecting git+https://github.com/openmotics/om-experta.git\r\n",
      "  Cloning https://github.com/openmotics/om-experta.git to /private/var/folders/zm/06zm__c5637bs4z8mhp4pfph0000gn/T/pip-req-build-b_agizuu\r\n",
      "  Running command git clone --filter=blob:none --quiet https://github.com/openmotics/om-experta.git /private/var/folders/zm/06zm__c5637bs4z8mhp4pfph0000gn/T/pip-req-build-b_agizuu\r\n",
      "  Resolved https://github.com/openmotics/om-experta.git to commit d35d53708a46482e1ee4e3a4bc1a36bc03492913\r\n",
      "  Preparing metadata (setup.py) ... \u001B[?25ldone\r\n",
      "\u001B[?25hRequirement already satisfied: frozendict==2.3.8 in /Users/carlesgm/DataspellProjects/Notebooks/venv/lib/python3.11/site-packages (from om-experta==1.9.8) (2.3.8)\r\n",
      "Requirement already satisfied: schema==0.6.7 in /Users/carlesgm/DataspellProjects/Notebooks/venv/lib/python3.11/site-packages (from om-experta==1.9.8) (0.6.7)\r\n",
      "\r\n",
      "\u001B[1m[\u001B[0m\u001B[34;49mnotice\u001B[0m\u001B[1;39;49m]\u001B[0m\u001B[39;49m A new release of pip available: \u001B[0m\u001B[31;49m22.3.1\u001B[0m\u001B[39;49m -> \u001B[0m\u001B[32;49m23.3.2\u001B[0m\r\n",
      "\u001B[1m[\u001B[0m\u001B[34;49mnotice\u001B[0m\u001B[1;39;49m]\u001B[0m\u001B[39;49m To update, run: \u001B[0m\u001B[32;49mpip install --upgrade pip\u001B[0m\r\n"
     ]
    }
   ],
   "source": [
    "!pip install git+https://github.com/openmotics/om-experta.git"
   ],
   "metadata": {
    "collapsed": false,
    "ExecuteTime": {
     "end_time": "2024-01-08T20:07:44.731016Z",
     "start_time": "2024-01-08T20:07:33.931326Z"
    }
   },
   "id": "7503431b09c94c72",
   "execution_count": 19
  },
  {
   "cell_type": "code",
   "outputs": [],
   "source": [
    "from experta import *"
   ],
   "metadata": {
    "collapsed": false,
    "ExecuteTime": {
     "end_time": "2024-01-08T20:07:44.746873Z",
     "start_time": "2024-01-08T20:07:44.735123Z"
    }
   },
   "id": "455a8b6cb902d64",
   "execution_count": 20
  },
  {
   "cell_type": "markdown",
   "source": [],
   "metadata": {
    "collapsed": false
   },
   "id": "a72ca56330538d27"
  },
  {
   "cell_type": "markdown",
   "source": [
    "## Definició del sistema expert"
   ],
   "metadata": {
    "collapsed": false
   },
   "id": "abd61421c4eec427"
  },
  {
   "cell_type": "markdown",
   "source": [
    "Definirem el nostre sistema expert com una classe que hereta de `KnowledgeEngine`. Cada regla es defineix mitjançant una funció amb l'anotació `@Rule`, que especifica quan s'ha d'executar la regla. A dins de la regla, podem afegir nous fets mitjançant la funció `declare`, i afegir aquests fets provocarà que s'executin més regles mitjançant el motor d'inferència.\n",
    "\n",
    "El contingut de `@Rule` és una expressió lògica que s'avalua a `True` o `False`. Aquesta expressió lògica pot contenir **fets**, operadors lògics (`AND`, `OR`, `NOT`) i operadors de comparació (`==`, `!=`, `<`, `>`, `<=`, `>=`). Els fets són objectes de la classe `Fact`, que poden tenir atributs que s'especifiquen com a paràmetres de la classe `Fact`. Per exemple, el fet `Fact('mamífer', pel=True)` té l'atribut `pel` amb valor `True`.\n",
    "\n",
    "Adicionalment, podem utilitzar la funció `MATCH` per a especificar que un atribut pot tenir qualsevol valor. Per exemple, `Fact('mamífer', pel=MATCH.pel)` és un fet que té l'atribut `pel` amb qualsevol valor."
   ],
   "metadata": {
    "collapsed": false
   },
   "id": "510874823d8f68db"
  },
  {
   "cell_type": "code",
   "outputs": [],
   "source": [
    "class Animals(KnowledgeEngine):\n",
    "    # Regles    \n",
    "    @Rule(OR(\n",
    "        AND(Fact('dents afilades'), Fact('ungles'), Fact('ulls mirant endavant')),\n",
    "        Fact('carnivor')))\n",
    "    # Si l'animal té dents afilades, ungles i ulls mirant endavant, o menja carn, llavors és un carnivor\n",
    "    def carnivor(self):\n",
    "        # Afegim el fet 'carnivor' al sistema expert\n",
    "        self.declare(Fact('carnivor'))\n",
    "\n",
    "    @Rule(OR(Fact('pel'), Fact('dona llet')))\n",
    "    # Si l'animal té pèl o dóna llet, llavors és un mamífer\n",
    "    def mamifer(self):\n",
    "        self.declare(Fact('mamifer'))\n",
    "\n",
    "    @Rule(Fact('mamifer'),\n",
    "          OR(Fact('te peulles'), Fact('mastega el bolus')))\n",
    "    # Si l'animal és un mamifer i té peülles o mastega el _bolus_, llavors es un ungulat\n",
    "    def peulles(self):\n",
    "        self.declare('ungulat')\n",
    "\n",
    "    @Rule(OR(Fact('plomes'), AND(Fact('vola'), Fact('pon ous'))))\n",
    "    # Si l'animal té plomes o vola i pon ous, llavors es un ocell\n",
    "    def ocell(self):\n",
    "        self.declare('ocell')\n",
    "\n",
    "    @Rule(Fact('mamifer'), Fact('carnivor'),\n",
    "          Fact(color='marro-vermellos'),\n",
    "          Fact(pattern='taques fosques'))\n",
    "    # Si l'animal és un mamifer carnivor, de color marró vermellós i amb taques fosques, llavors és un mico\n",
    "    def monkey(self):\n",
    "        self.declare(Fact(animal='mico'))\n",
    "\n",
    "    @Rule(Fact('mamifer'), Fact('carnivor'),\n",
    "          Fact(color='marro-vermellos'),\n",
    "          Fact(pattern='ratlles fosques'))\n",
    "    # Si l'animal es un mamifer carnivor, de color marró vermellós i amb ratlles fosques, llavors és un tigre\n",
    "    def tigre(self):\n",
    "        self.declare(Fact(animal='tigre'))\n",
    "\n",
    "    @Rule(Fact('ungulat'),\n",
    "          Fact('coll llarg'),\n",
    "          Fact('long legs'),\n",
    "          Fact(pattern='taques fosques'))\n",
    "    # Si l'animal és un ungulat, de coll llarg, potes llargues i amb taques fosques, llavors és una girafa\n",
    "    def girafa(self):\n",
    "        self.declare(Fact(animal='girafa'))\n",
    "\n",
    "    @Rule(Fact('ungulat'),\n",
    "          Fact(pattern='ratlles fosques'))\n",
    "    # Si l'animal es un ungulat amb ratlles fosques, llavors es una zebra\n",
    "    def zebra(self):\n",
    "        self.declare(Fact(animal='zebra'))\n",
    "\n",
    "    @Rule(Fact('ocell'),\n",
    "          Fact('coll llarg'),\n",
    "          Fact('no vola'),\n",
    "          Fact(color='blanc i negre'))\n",
    "    # Si l'animal es un ocell, de coll llarg, no vola i de color blanc i negre, llavors és un estruç\n",
    "    def estruc(self):\n",
    "        self.declare(Fact(animal='estruc'))\n",
    "\n",
    "    @Rule(Fact('ocell'),\n",
    "          Fact('nada'),\n",
    "          Fact('no vola'),\n",
    "          Fact(color='blanc i negre'))\n",
    "    # Si l'animal es un ocell, nada, no vola i de color blanc i negre, llavors es un pingüí\n",
    "    def pingui(self):\n",
    "        self.declare(Fact(animal='pingui'))\n",
    "\n",
    "    @Rule(Fact('ocell'),\n",
    "          Fact('vola be'))\n",
    "    # Si l'animal es un ocell i vola bé, llavors es un albatros\n",
    "    def albatros(self):\n",
    "        self.declare(Fact(animal='albatros'))\n",
    "\n",
    "    @Rule(Fact(animal=MATCH.a))\n",
    "    # Si està definit l'animal, llavors el mostrem\n",
    "    def print_result(self, a):\n",
    "        print(f\"L'animal és un {a}\")\n",
    "\n",
    "    def agregar_fets(self, fets):\n",
    "        # Afegim els fets passats com a paràmetre (fets) al sistema expert\n",
    "        # Utilitzarem aquesta funció per a inicialitzar el sistema expert\n",
    "        for f in fets:\n",
    "            self.declare(f)"
   ],
   "metadata": {
    "collapsed": false,
    "ExecuteTime": {
     "end_time": "2024-01-08T20:07:44.776392Z",
     "start_time": "2024-01-08T20:07:44.767474Z"
    }
   },
   "id": "cdcf212140490b14",
   "execution_count": 21
  },
  {
   "cell_type": "markdown",
   "source": [],
   "metadata": {
    "collapsed": false
   },
   "id": "65a8efcc0cb5ad81"
  },
  {
   "cell_type": "markdown",
   "source": [
    "# Testeig del sistema expert\n",
    "\n",
    "Una vegada hem definit la base de coneixement, inicialitzem la memòria de treball amb uns fets inicials, i després cridem el mètode `run()` per a realitzar la inferència. Podem veure com a resultat que s'afegeixen nous fets inferits a la memòria de treball, incloent-hi el fet final sobre l'animal (si hem configurat tots els fets inicials correctament).\n",
    "\n",
    "Anem a veure un exemple on inicialitzem el sistema expert amb els fets `pel`, `dents afilades`, `ungles` i `ulls mirant endavant`. Aquests fets són suficients per a inferir que l'animal és un carnivor.\n"
   ],
   "metadata": {
    "collapsed": false
   },
   "id": "1c8aeb29f1da8acd"
  },
  {
   "cell_type": "code",
   "outputs": [
    {
     "data": {
      "text/plain": "FactList([(0, InitialFact()),\n          (1, Fact('pel')),\n          (2, Fact('dents afilades')),\n          (3, Fact('ungles')),\n          (4, Fact('ulls mirant endavant')),\n          (5, Fact('carnivor')),\n          (6, Fact('mamifer'))])"
     },
     "execution_count": 22,
     "metadata": {},
     "output_type": "execute_result"
    }
   ],
   "source": [
    "# Creem una instància del nostre sistema expert\n",
    "animals = Animals()\n",
    "\n",
    "# Reset del sistema expert. Necessari per a tornar a l'estat inicial.\n",
    "animals.reset()\n",
    "\n",
    "# Afegim els fets inicials.\n",
    "animals.agregar_fets(\n",
    "    [Fact('pel'), Fact('dents afilades'), Fact('ungles'), Fact('ulls mirant endavant')]\n",
    ")\n",
    "\n",
    "# Executem el sistema expert\n",
    "animals.run()\n",
    "\n",
    "animals.facts"
   ],
   "metadata": {
    "collapsed": false,
    "ExecuteTime": {
     "end_time": "2024-01-08T20:07:44.848546Z",
     "start_time": "2024-01-08T20:07:44.788841Z"
    }
   },
   "id": "c1226046d1d09c7f",
   "execution_count": 22
  },
  {
   "cell_type": "markdown",
   "source": [],
   "metadata": {
    "collapsed": false
   },
   "id": "abeee9900ec33cc3"
  },
  {
   "cell_type": "markdown",
   "source": [
    "Podem veure com s'ha inferit el fet `carnivor` a partir dels fets inicials, i com s'ha inferit el fet `mamifer` a partir del fet `pel`. \n",
    "\n",
    "Anem a agregar els fets `marro-vermellos` primer i `taques fosques` després. Veurem com primer no s'infereix cap animal, i després s'infereix el fet `mico` a partir dels fets `mamifer`, `carnivor`, `marro-vermellos` i `taques fosques`."
   ],
   "metadata": {
    "collapsed": false
   },
   "id": "95376f4cf4d07f0a"
  },
  {
   "cell_type": "code",
   "outputs": [
    {
     "data": {
      "text/plain": "FactList([(0, InitialFact()),\n          (1, Fact('pel')),\n          (2, Fact('dents afilades')),\n          (3, Fact('ungles')),\n          (4, Fact('ulls mirant endavant')),\n          (5, Fact('carnivor')),\n          (6, Fact('mamifer')),\n          (7, Fact(color='marro-vermellos'))])"
     },
     "execution_count": 23,
     "metadata": {},
     "output_type": "execute_result"
    }
   ],
   "source": [
    "animals.agregar_fets(\n",
    "    [Fact(color='marro-vermellos')]\n",
    ")\n",
    "animals.run()\n",
    "animals.facts"
   ],
   "metadata": {
    "collapsed": false,
    "ExecuteTime": {
     "end_time": "2024-01-08T20:07:44.850834Z",
     "start_time": "2024-01-08T20:07:44.822169Z"
    }
   },
   "id": "a81ddd8862942231",
   "execution_count": 23
  },
  {
   "cell_type": "code",
   "outputs": [
    {
     "name": "stdout",
     "output_type": "stream",
     "text": [
      "L'animal és un mico\n"
     ]
    },
    {
     "data": {
      "text/plain": "FactList([(0, InitialFact()),\n          (1, Fact('pel')),\n          (2, Fact('dents afilades')),\n          (3, Fact('ungles')),\n          (4, Fact('ulls mirant endavant')),\n          (5, Fact('carnivor')),\n          (6, Fact('mamifer')),\n          (7, Fact(color='marro-vermellos')),\n          (8, Fact(pattern='taques fosques')),\n          (9, Fact(animal='mico'))])"
     },
     "execution_count": 24,
     "metadata": {},
     "output_type": "execute_result"
    }
   ],
   "source": [
    "animals.agregar_fets(\n",
    "    [Fact(pattern='taques fosques')]\n",
    ")\n",
    "animals.run()\n",
    "animals.facts"
   ],
   "metadata": {
    "collapsed": false,
    "ExecuteTime": {
     "end_time": "2024-01-08T20:08:02.441394Z",
     "start_time": "2024-01-08T20:08:02.417092Z"
    }
   },
   "id": "bca6d6502b82bc8d",
   "execution_count": 24
  }
 ],
 "metadata": {
  "kernelspec": {
   "display_name": "Python 3",
   "language": "python",
   "name": "python3"
  },
  "language_info": {
   "codemirror_mode": {
    "name": "ipython",
    "version": 2
   },
   "file_extension": ".py",
   "mimetype": "text/x-python",
   "name": "python",
   "nbconvert_exporter": "python",
   "pygments_lexer": "ipython2",
   "version": "2.7.6"
  }
 },
 "nbformat": 4,
 "nbformat_minor": 5
}
